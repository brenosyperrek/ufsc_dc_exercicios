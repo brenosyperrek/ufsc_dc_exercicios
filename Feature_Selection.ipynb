{
  "cells": [
    {
      "cell_type": "code",
      "execution_count": null,
      "id": "7cbeeca8",
      "metadata": {
        "id": "7cbeeca8"
      },
      "outputs": [],
      "source": [
        "import pandas as pd\n",
        "from sklearn.datasets import load_diabetes\n",
        "from sklearn.datasets import load_iris\n",
        "import numpy as np\n",
        "import seaborn as sns\n",
        "import matplotlib.pyplot as plt\n",
        "from sklearn.linear_model import LassoCV\n",
        "from sklearn.ensemble import RandomForestRegressor\n",
        "from sklearn.model_selection import train_test_split\n",
        "from sklearn.preprocessing import StandardScaler\n",
        "\n",
        "import warnings\n",
        "warnings.filterwarnings('ignore')"
      ]
    },
    {
      "cell_type": "markdown",
      "id": "7dec9f3d",
      "metadata": {
        "id": "7dec9f3d"
      },
      "source": [
        "Federal University of Santa Catarina (UFSC)\n",
        "\n",
        "Computer Science Graduate Program (PPGCC)\n",
        "\n",
        "\n",
        "# INE410416 - Applied Machine Learning\n",
        "## Lecture 5 - Feature Selection\n",
        "#### Prof. Dr. Jônata Tyska Carvalho\n",
        "#### Prof. Dr. Mateus Grellert da Silva"
      ]
    },
    {
      "cell_type": "markdown",
      "id": "380c499c",
      "metadata": {
        "id": "380c499c"
      },
      "source": [
        "<font size=\"10\"> Is more data always desirable? </font>\n",
        "\n",
        "<img src=\"https://images.unsplash.com/photo-1495592822108-9e6261896da8?ixid=MnwxMjA3fDB8MHxwaG90by1wYWdlfHx8fGVufDB8fHx8&ixlib=rb-1.2.1&auto=format&fit=crop&w=1470&q=80\" width=\"60%\" />\n",
        "\n",
        "Image source: https://unsplash.com/photos/n6B49lTx7NM"
      ]
    },
    {
      "cell_type": "markdown",
      "id": "7cde52ba",
      "metadata": {
        "id": "7cde52ba"
      },
      "source": [
        "<font size=\"10\"> Outline </font>\n",
        "\n",
        "<font size=\"5\">\n",
        "    \n",
        "- Introduction\n",
        "    \n",
        "- Types of selection   \n",
        "    - Filter\n",
        "    - Wrapper\n",
        "    - Embedded (intrinsic)\n",
        "   \n",
        "- Some interesting analysis\n",
        "\n",
        "- How to choose?\n",
        "       \n",
        "</font>\n"
      ]
    },
    {
      "cell_type": "markdown",
      "id": "25f9bf9d",
      "metadata": {
        "id": "25f9bf9d"
      },
      "source": [
        "<font size=\"10\"> Introduction </font>\n",
        "\n",
        "**Predictive modelling goal:** finding features that capture a predictive relationship with the outcome variable.\n",
        "\n",
        "Logically, not all features will be relevant, and their relevance will differ."
      ]
    },
    {
      "cell_type": "markdown",
      "id": "fd51a911",
      "metadata": {
        "id": "fd51a911"
      },
      "source": [
        "<font size=\"10\"> Introduction </font>\n",
        "\n",
        "- The Performance of many models degrades in the presence of uninformative features\n",
        "\n",
        "- What about doing more with less?\n",
        "   - Less complex models (Occam's Razor)\n",
        "   - More interpretability (overall)\n",
        "   - Save money with:\n",
        "       - computing power\n",
        "       - storage\n",
        "       - bandwith\n",
        "       - hardware\n",
        "\n",
        "What to do? **FEATURE SELECTION**"
      ]
    },
    {
      "cell_type": "markdown",
      "id": "5d5e0a86",
      "metadata": {
        "id": "5d5e0a86"
      },
      "source": [
        "<font size=\"10\"> Introduction </font>\n",
        "\n",
        "**Feature selection** is a data reduction step that seeks reducing the number of predictors as far as possible without compromising models' predictive performance (even better, increasing it)\n",
        "\n",
        "Three main categories:\n",
        "\n",
        "- Filter: supervised analysis of the predictors to determine their importance, providing only 'the most important' to the model \n",
        "- Wrapper: search relevant feature subsets by iteratively supplying them to a model, and choosing the best performing ones at each step\n",
        "- Embedded: feature selection is inherently incorporated in the model"
      ]
    },
    {
      "cell_type": "markdown",
      "id": "c5cc13d3",
      "metadata": {
        "id": "c5cc13d3"
      },
      "source": [
        "<font size=\"10\"> Types of selection - Filter </font>\n",
        "\n",
        "- Features are evaluated separately (not a hard rule)\n",
        "- A predictive quality/importance metric (usually statistical) is used to filter features\n",
        "\n",
        "**Advantages:**\n",
        "\n",
        "    - Simple\n",
        "    - Fast\n",
        "    - Effective in capturing large predictor-outcome trends"
      ]
    },
    {
      "cell_type": "markdown",
      "id": "b6889bd6",
      "metadata": {
        "id": "b6889bd6"
      },
      "source": [
        "<font size=\"10\"> Types of selection - Filter </font>\n",
        "\n",
        "**Disadvantages:**\n",
        "\n",
        "    - prone to over-selecting predictors (correlated)\n",
        "    - quality metric disconnected from the objective function \n",
        "    (predictive performance)"
      ]
    },
    {
      "cell_type": "markdown",
      "id": "d63c532e",
      "metadata": {
        "id": "d63c532e"
      },
      "source": [
        "<font size=\"10\"> Types of selection - Filter </font>\n",
        "\n",
        "Variance Threshold Example"
      ]
    },
    {
      "cell_type": "code",
      "execution_count": null,
      "id": "2fe347aa",
      "metadata": {
        "id": "2fe347aa"
      },
      "outputs": [],
      "source": [
        "#filter example - Variance Threshold\n",
        "\n",
        "# load data to dict derived class Bunch\n",
        "iris = datasets.load_iris()\n",
        "target = datasets.load_iris().target\n",
        "\n",
        "\n",
        "# convert to dataframe for processing \n",
        "iris = pd.DataFrame(iris.data, columns = iris.feature_names)"
      ]
    },
    {
      "cell_type": "code",
      "execution_count": null,
      "id": "1f9ed673",
      "metadata": {
        "id": "1f9ed673"
      },
      "outputs": [],
      "source": [
        "#normalizing with MinMaxScaler\n",
        "from sklearn.preprocessing import MinMaxScaler\n",
        "scaler = MinMaxScaler()\n",
        "scaler.fit(iris)\n",
        "iris_norm=scaler.transform(iris)"
      ]
    },
    {
      "cell_type": "code",
      "execution_count": null,
      "id": "7435cc29",
      "metadata": {
        "id": "7435cc29",
        "outputId": "b12e2d88-f820-46b4-b89f-09971ae63b21"
      },
      "outputs": [
        {
          "data": {
            "text/plain": [
              "<seaborn.axisgrid.PairGrid at 0x7f8fc4675430>"
            ]
          },
          "execution_count": 8,
          "metadata": {},
          "output_type": "execute_result"
        },
        {
          "data": {
            "image/png": "[encoded data removed]",
            "text/plain": [
              "<Figure size 772x720 with 20 Axes>"
            ]
          },
          "metadata": {
            "needs_background": "light"
          },
          "output_type": "display_data"
        }
      ],
      "source": [
        "# visualizing features and target\n",
        "iris_norm = pd.DataFrame(iris_norm, columns = iris.columns)\n",
        "iris_norm_ = pd.DataFrame(np.hstack((iris_norm, target[:, np.newaxis])), columns = iris.columns.tolist() + ['class'])\n",
        "sns.pairplot(iris_norm_, hue = 'class', diag_kind='hist')"
      ]
    },
    {
      "cell_type": "code",
      "execution_count": null,
      "id": "9b4dd16f",
      "metadata": {
        "id": "9b4dd16f",
        "outputId": "5a9b4aa1-9797-428f-b792-818d097c575c"
      },
      "outputs": [
        {
          "data": {
            "text/html": [
              "<div>\n",
              "<style scoped>\n",
              "    .dataframe tbody tr th:only-of-type {\n",
              "        vertical-align: middle;\n",
              "    }\n",
              "\n",
              "    .dataframe tbody tr th {\n",
              "        vertical-align: top;\n",
              "    }\n",
              "\n",
              "    .dataframe thead th {\n",
              "        text-align: right;\n",
              "    }\n",
              "</style>\n",
              "<table border=\"1\" class=\"dataframe\">\n",
              "  <thead>\n",
              "    <tr style=\"text-align: right;\">\n",
              "      <th></th>\n",
              "      <th>sepal length (cm)</th>\n",
              "      <th>petal length (cm)</th>\n",
              "      <th>petal width (cm)</th>\n",
              "    </tr>\n",
              "  </thead>\n",
              "  <tbody>\n",
              "    <tr>\n",
              "      <th>0</th>\n",
              "      <td>0.222222</td>\n",
              "      <td>0.067797</td>\n",
              "      <td>0.041667</td>\n",
              "    </tr>\n",
              "    <tr>\n",
              "      <th>1</th>\n",
              "      <td>0.166667</td>\n",
              "      <td>0.067797</td>\n",
              "      <td>0.041667</td>\n",
              "    </tr>\n",
              "    <tr>\n",
              "      <th>2</th>\n",
              "      <td>0.111111</td>\n",
              "      <td>0.050847</td>\n",
              "      <td>0.041667</td>\n",
              "    </tr>\n",
              "    <tr>\n",
              "      <th>3</th>\n",
              "      <td>0.083333</td>\n",
              "      <td>0.084746</td>\n",
              "      <td>0.041667</td>\n",
              "    </tr>\n",
              "    <tr>\n",
              "      <th>4</th>\n",
              "      <td>0.194444</td>\n",
              "      <td>0.067797</td>\n",
              "      <td>0.041667</td>\n",
              "    </tr>\n",
              "    <tr>\n",
              "      <th>...</th>\n",
              "      <td>...</td>\n",
              "      <td>...</td>\n",
              "      <td>...</td>\n",
              "    </tr>\n",
              "    <tr>\n",
              "      <th>145</th>\n",
              "      <td>0.666667</td>\n",
              "      <td>0.711864</td>\n",
              "      <td>0.916667</td>\n",
              "    </tr>\n",
              "    <tr>\n",
              "      <th>146</th>\n",
              "      <td>0.555556</td>\n",
              "      <td>0.677966</td>\n",
              "      <td>0.750000</td>\n",
              "    </tr>\n",
              "    <tr>\n",
              "      <th>147</th>\n",
              "      <td>0.611111</td>\n",
              "      <td>0.711864</td>\n",
              "      <td>0.791667</td>\n",
              "    </tr>\n",
              "    <tr>\n",
              "      <th>148</th>\n",
              "      <td>0.527778</td>\n",
              "      <td>0.745763</td>\n",
              "      <td>0.916667</td>\n",
              "    </tr>\n",
              "    <tr>\n",
              "      <th>149</th>\n",
              "      <td>0.444444</td>\n",
              "      <td>0.694915</td>\n",
              "      <td>0.708333</td>\n",
              "    </tr>\n",
              "  </tbody>\n",
              "</table>\n",
              "<p>150 rows × 3 columns</p>\n",
              "</div>"
            ],
            "text/plain": [
              "     sepal length (cm)  petal length (cm)  petal width (cm)\n",
              "0             0.222222           0.067797          0.041667\n",
              "1             0.166667           0.067797          0.041667\n",
              "2             0.111111           0.050847          0.041667\n",
              "3             0.083333           0.084746          0.041667\n",
              "4             0.194444           0.067797          0.041667\n",
              "..                 ...                ...               ...\n",
              "145           0.666667           0.711864          0.916667\n",
              "146           0.555556           0.677966          0.750000\n",
              "147           0.611111           0.711864          0.791667\n",
              "148           0.527778           0.745763          0.916667\n",
              "149           0.444444           0.694915          0.708333\n",
              "\n",
              "[150 rows x 3 columns]"
            ]
          },
          "execution_count": 9,
          "metadata": {},
          "output_type": "execute_result"
        }
      ],
      "source": [
        "from sklearn.feature_selection import VarianceThreshold\n",
        "thresholder = VarianceThreshold(threshold=.05)\n",
        "thresholder.fit(iris_norm)\n",
        "selected_features = thresholder.get_support()\n",
        "iris_norm.loc[:,selected_features]"
      ]
    },
    {
      "cell_type": "markdown",
      "id": "258e2aea",
      "metadata": {
        "id": "258e2aea"
      },
      "source": [
        "<font size=\"10\"> Types of selection - Filter </font>\n",
        "\n",
        "Statistical quality metric example"
      ]
    },
    {
      "cell_type": "code",
      "execution_count": null,
      "id": "aa8278a9",
      "metadata": {
        "id": "aa8278a9",
        "outputId": "43dc32e3-10d2-4f91-8652-0f467df76c7e"
      },
      "outputs": [
        {
          "name": "stdout",
          "output_type": "stream",
          "text": [
            "[ 119.26450218   49.16004009 1180.16118225  960.0071468 ]\n",
            "[1.66966919e-31 4.49201713e-17 2.85677661e-91 4.16944584e-85]\n",
            "(150, 3)\n"
          ]
        }
      ],
      "source": [
        "#filter example with quality metric (statistical) \n",
        "from sklearn.feature_selection import SelectKBest, f_classif\n",
        "bestfeatures = SelectKBest(score_func=f_classif, k=3)\n",
        "iris_trim = bestfeatures.fit_transform(iris_norm, target)\n",
        "print(bestfeatures.scores_)\n",
        "print(bestfeatures.pvalues_)\n",
        "print(iris_trim.shape)"
      ]
    },
    {
      "cell_type": "code",
      "execution_count": null,
      "id": "1fa5dbb3",
      "metadata": {
        "id": "1fa5dbb3"
      },
      "outputs": [],
      "source": [
        "from sklearn.model_selection import train_test_split\n",
        "from sklearn.metrics import confusion_matrix\n",
        "from sklearn.naive_bayes import GaussianNB\n",
        "\n",
        "def train_and_validate(X_train, X_test, y_train, y_test):\n",
        "    mode = GaussianNB()    \n",
        "    mode.fit(X_train, y_train);\n",
        "    y_calc = mode.predict(X_test)\n",
        "    y_prob = mode.predict_proba(X_test)\n",
        "    #print(y_prob)\n",
        "    mat = confusion_matrix(y_test, y_calc)\n",
        "    sns.heatmap(mat.T, annot=True, cbar = False)"
      ]
    },
    {
      "cell_type": "code",
      "execution_count": null,
      "id": "ea7b344a",
      "metadata": {
        "id": "ea7b344a"
      },
      "outputs": [],
      "source": [
        "X_train4, X_test4, y_train, y_test = train_test_split(iris_norm, target, test_size = 0.10, stratify = None, random_state=0)\n",
        "X_train3, X_test3 = X_train4.drop(['sepal width (cm)'], axis=1), X_test4.drop(['sepal width (cm)'], axis=1)"
      ]
    },
    {
      "cell_type": "code",
      "execution_count": null,
      "id": "5b60617a",
      "metadata": {
        "id": "5b60617a",
        "outputId": "9a66b69e-49d7-4211-cdd5-4719d042159a"
      },
      "outputs": [
        {
          "data": {
            "image/png": "[encoded data removed]",
            "text/plain": [
              "<Figure size 432x288 with 1 Axes>"
            ]
          },
          "metadata": {
            "needs_background": "light"
          },
          "output_type": "display_data"
        }
      ],
      "source": [
        "train_and_validate(X_train4,X_test4, y_train,y_test)"
      ]
    },
    {
      "cell_type": "code",
      "execution_count": null,
      "id": "3ab2b3ba",
      "metadata": {
        "id": "3ab2b3ba",
        "outputId": "9edba8e6-928b-49d1-bf16-c7633ed0e746"
      },
      "outputs": [
        {
          "data": {
            "image/png": "[encoded data removed]",
            "text/plain": [
              "<Figure size 432x288 with 1 Axes>"
            ]
          },
          "metadata": {
            "needs_background": "light"
          },
          "output_type": "display_data"
        }
      ],
      "source": [
        "train_and_validate(X_train3,X_test3, y_train,y_test)"
      ]
    },
    {
      "cell_type": "markdown",
      "id": "36bb1d71",
      "metadata": {
        "id": "36bb1d71"
      },
      "source": [
        "<font size=\"5\"> Filter methods score metrics summary </font>\n",
        "<img src=\"https://inf.ufsc.br/~jonata.tyska/lectureImages/filter_methods_summary.png\" width=\"50%\" />"
      ]
    },
    {
      "cell_type": "markdown",
      "id": "7eb08c69",
      "metadata": {
        "id": "7eb08c69"
      },
      "source": [
        "<font size=\"10\"> Be careful: Avoid Overfitting! </font>\n",
        "\n",
        "Predictors overfitting can happen! \n",
        "\n",
        "What does that mean? A subset of features that has good predictive performance on the training set, but has poor performance on the test set (or new/real world ones). "
      ]
    },
    {
      "cell_type": "markdown",
      "id": "be1855a2",
      "metadata": {
        "id": "be1855a2"
      },
      "source": [
        "Can you believe this is random data?\n",
        "\n",
        "<img src=\"https://inf.ufsc.br/~jonata.tyska/lectureImages/feature_selection_random.png\" width=\"50%\" />\n",
        "\n",
        "Randomly generated data (150x10.000) + feature selection (300 predictors) + PCA"
      ]
    },
    {
      "cell_type": "markdown",
      "id": "37c4c1d0",
      "metadata": {
        "id": "37c4c1d0"
      },
      "source": [
        "What to do? **<font size=\"10\"> Resampling </font>**\n",
        "\n",
        "The use of resampling techniques may be important (as cross-validation).\n",
        "\n",
        "Notable implications:\n",
        "\n",
        "1. more realistic estimate of predictive performance (it is less prone to predictor overfitting);\n",
        "\n",
        "2. It faces an increase in computational burden;"
      ]
    },
    {
      "cell_type": "markdown",
      "id": "6c00f72a",
      "metadata": {
        "id": "6c00f72a"
      },
      "source": [
        "Resampling (external validation) is especially useful when:\n",
        "\n",
        "1. small data set\n",
        "2. number of features >> instances\n",
        "3. extreme class imbalance"
      ]
    },
    {
      "cell_type": "markdown",
      "id": "e003ce03",
      "metadata": {
        "id": "e003ce03"
      },
      "source": [
        "What to do? **<font size=\"10\"> Resampling </font>**\n",
        "\n",
        "<img src=\"https://inf.ufsc.br/~jonata.tyska/lectureImages/filter_methods_resampling.png\" width=\"70%\" />"
      ]
    },
    {
      "cell_type": "markdown",
      "id": "c8531021",
      "metadata": {
        "id": "c8531021"
      },
      "source": [
        "<font size=\"10\"> Types of selection - Wrapper </font>\n",
        "\n",
        "- Iteratively test subsets of features using a given model\n",
        "- If successful, it reduces the number of features\n",
        "- Can be divided in: \n",
        "    - greedy: RFE\n",
        "    - non-greedy: Genetic Algorithms, Simulated Annealing and so on\n",
        "\n",
        "**Advantages:**\n",
        "\n",
        "    - more extensive search than filter and embedded methods\n",
        "    - most potential to find the globally best features subset (if it exists)    "
      ]
    },
    {
      "cell_type": "markdown",
      "id": "d59fc447",
      "metadata": {
        "id": "d59fc447"
      },
      "source": [
        "<font size=\"10\"> Types of selection - Wrapper </font>\n",
        "\n",
        "**Disadvantages:**\n",
        "\n",
        "    - computationaly expensive (sometimes unfeasible) - worst depending on the chosen model\n",
        "    - most potential to overfit the predictors to the training data (external validation required)"
      ]
    },
    {
      "cell_type": "markdown",
      "id": "895986e2",
      "metadata": {
        "id": "895986e2"
      },
      "source": [
        "<font size=\"10\"> Types of selection - Wrapper </font>\n",
        "\n",
        "Recursive Feature Elimination (RFE) Example"
      ]
    },
    {
      "cell_type": "code",
      "execution_count": null,
      "id": "c3eda1e9",
      "metadata": {
        "id": "c3eda1e9",
        "outputId": "5951379f-620d-444b-9c52-c0e45cfcc09b"
      },
      "outputs": [
        {
          "data": {
            "text/plain": [
              "(4082, 108)"
            ]
          },
          "execution_count": 87,
          "metadata": {},
          "output_type": "execute_result"
        }
      ],
      "source": [
        "#example of wrapper method - RFE\n",
        "\n",
        "## how accuratelly can we define the weight (in pounds) of an adult male given his body dimensions?\n",
        "ansur = pd.read_csv('https://codigos.ufsc.br/jonata.tyska/repositorio/-/raw/master/datasets/ansur_male.csv',error_bad_lines=False, encoding='latin-1')\n",
        "#extracted from https://www.kaggle.com/seshadrikolluri/ansur-ii\n",
        "\n",
        "ansur.shape"
      ]
    },
    {
      "cell_type": "code",
      "execution_count": null,
      "id": "fb12a1e1",
      "metadata": {
        "id": "fb12a1e1"
      },
      "outputs": [],
      "source": [
        "#dropping irrelevant and categorical features, also 'cheat' ones (weightkg)\n",
        "drop_cols = ['weightkg','WritingPreference','Ethnicity','SubjectsBirthLocation','PrimaryMOS','Branch','Component','Installation','Date','Gender','subjectid']\n",
        "ansur.drop(drop_cols, inplace=True,axis=1)\n",
        "\n",
        "# Feature, target arrays\n",
        "X, y = ansur.iloc[:, :-1], ansur.iloc[:, -1]\n",
        "\n",
        "# Train/test set generation\n",
        "X_train, X_test, y_train, y_test = train_test_split(\n",
        "    X, y, test_size=0.3, random_state=1121218\n",
        ")"
      ]
    },
    {
      "cell_type": "code",
      "execution_count": null,
      "id": "4db5e59c",
      "metadata": {
        "id": "4db5e59c"
      },
      "outputs": [],
      "source": [
        "# Scale train and test sets with StandardScaler\n",
        "X_train_std = StandardScaler().fit_transform(X_train)\n",
        "X_test_std = StandardScaler().fit_transform(X_test)"
      ]
    },
    {
      "cell_type": "code",
      "execution_count": null,
      "id": "69262e9c",
      "metadata": {
        "id": "69262e9c",
        "outputId": "e66705cf-4ceb-4eeb-bfc5-944d25e15ca7"
      },
      "outputs": [
        {
          "data": {
            "text/plain": [
              "0.9277774981631275"
            ]
          },
          "execution_count": 90,
          "metadata": {},
          "output_type": "execute_result"
        }
      ],
      "source": [
        "# Init, fit, test Random Forest Regressor\n",
        "forest = RandomForestRegressor()\n",
        "_ = forest.fit(X_train_std, y_train)\n",
        "forest.score(X_test_std, y_test)"
      ]
    },
    {
      "cell_type": "code",
      "execution_count": null,
      "id": "903572a4",
      "metadata": {
        "id": "903572a4",
        "outputId": "34a18bb7-034a-494b-a000-04547610350e"
      },
      "outputs": [
        {
          "data": {
            "text/html": [
              "<div>\n",
              "<style scoped>\n",
              "    .dataframe tbody tr th:only-of-type {\n",
              "        vertical-align: middle;\n",
              "    }\n",
              "\n",
              "    .dataframe tbody tr th {\n",
              "        vertical-align: top;\n",
              "    }\n",
              "\n",
              "    .dataframe thead th {\n",
              "        text-align: right;\n",
              "    }\n",
              "</style>\n",
              "<table border=\"1\" class=\"dataframe\">\n",
              "  <thead>\n",
              "    <tr style=\"text-align: right;\">\n",
              "      <th></th>\n",
              "      <th>feature</th>\n",
              "      <th>weight</th>\n",
              "    </tr>\n",
              "  </thead>\n",
              "  <tbody>\n",
              "    <tr>\n",
              "      <th>0</th>\n",
              "      <td>DODRace</td>\n",
              "      <td>0.000179</td>\n",
              "    </tr>\n",
              "    <tr>\n",
              "      <th>1</th>\n",
              "      <td>SubjectNumericRace</td>\n",
              "      <td>0.000275</td>\n",
              "    </tr>\n",
              "    <tr>\n",
              "      <th>2</th>\n",
              "      <td>Heightin</td>\n",
              "      <td>0.000290</td>\n",
              "    </tr>\n",
              "    <tr>\n",
              "      <th>3</th>\n",
              "      <td>earbreadth</td>\n",
              "      <td>0.000356</td>\n",
              "    </tr>\n",
              "    <tr>\n",
              "      <th>4</th>\n",
              "      <td>waistheightomphalion</td>\n",
              "      <td>0.000368</td>\n",
              "    </tr>\n",
              "    <tr>\n",
              "      <th>...</th>\n",
              "      <td>...</td>\n",
              "      <td>...</td>\n",
              "    </tr>\n",
              "    <tr>\n",
              "      <th>91</th>\n",
              "      <td>lowerthighcircumference</td>\n",
              "      <td>0.013032</td>\n",
              "    </tr>\n",
              "    <tr>\n",
              "      <th>92</th>\n",
              "      <td>shouldercircumference</td>\n",
              "      <td>0.027118</td>\n",
              "    </tr>\n",
              "    <tr>\n",
              "      <th>93</th>\n",
              "      <td>verticaltrunkcircumferenceusa</td>\n",
              "      <td>0.029898</td>\n",
              "    </tr>\n",
              "    <tr>\n",
              "      <th>94</th>\n",
              "      <td>chestcircumference</td>\n",
              "      <td>0.085006</td>\n",
              "    </tr>\n",
              "    <tr>\n",
              "      <th>95</th>\n",
              "      <td>buttockcircumference</td>\n",
              "      <td>0.696866</td>\n",
              "    </tr>\n",
              "  </tbody>\n",
              "</table>\n",
              "<p>96 rows × 2 columns</p>\n",
              "</div>"
            ],
            "text/plain": [
              "                          feature    weight\n",
              "0                         DODRace  0.000179\n",
              "1              SubjectNumericRace  0.000275\n",
              "2                        Heightin  0.000290\n",
              "3                      earbreadth  0.000356\n",
              "4            waistheightomphalion  0.000368\n",
              "..                            ...       ...\n",
              "91        lowerthighcircumference  0.013032\n",
              "92          shouldercircumference  0.027118\n",
              "93  verticaltrunkcircumferenceusa  0.029898\n",
              "94             chestcircumference  0.085006\n",
              "95           buttockcircumference  0.696866\n",
              "\n",
              "[96 rows x 2 columns]"
            ]
          },
          "execution_count": 56,
          "metadata": {},
          "output_type": "execute_result"
        }
      ],
      "source": [
        "#checking the importances extracted with RandomForest\n",
        "pd.DataFrame(\n",
        "    zip(X_train.columns, abs(forest.feature_importances_)),\n",
        "    columns=[\"feature\", \"weight\"],\n",
        ").sort_values(\"weight\").reset_index(drop=True)"
      ]
    },
    {
      "cell_type": "code",
      "execution_count": null,
      "id": "48c57782",
      "metadata": {
        "id": "48c57782"
      },
      "outputs": [],
      "source": [
        "#using RFE with Resampling (CV)\n",
        "from sklearn.feature_selection import RFECV\n",
        "from sklearn.linear_model import LinearRegression\n",
        "\n",
        "# Init, fit\n",
        "rfecv = RFECV(\n",
        "    estimator=LinearRegression(),\n",
        "    min_features_to_select=5,\n",
        "    step=5,\n",
        "    n_jobs=-1,\n",
        "    scoring=\"r2\",\n",
        "    cv=5,\n",
        ")\n",
        "\n",
        "_ = rfecv.fit_transform(X_train_std, y_train)"
      ]
    },
    {
      "cell_type": "code",
      "execution_count": null,
      "id": "cad11dda",
      "metadata": {
        "id": "cad11dda",
        "outputId": "f5d07061-2afc-4c8e-ca1e-f2bf0e1cf457"
      },
      "outputs": [
        {
          "name": "stdout",
          "output_type": "stream",
          "text": [
            "Total columns:  96  Selected columns:  46\n",
            "Index(['abdominalextensiondepthsitting', 'acromialheight',\n",
            "       'acromionradialelength', 'anklecircumference',\n",
            "       'bicepscircumferenceflexed', 'bideltoidbreadth', 'bizygomaticbreadth',\n",
            "       'buttockcircumference', 'buttockdepth', 'buttockheight',\n",
            "       'buttockkneelength', 'buttockpopliteallength', 'calfcircumference',\n",
            "       'chestcircumference', 'chestdepth', 'chestheight',\n",
            "       'crotchlengthomphalion', 'footlength', 'forearmcircumferenceflexed',\n",
            "       'heelbreadth', 'iliocristaleheight', 'interscyei', 'interscyeii',\n",
            "       'kneeheightsitting', 'lateralfemoralepicondyleheight',\n",
            "       'lowerthighcircumference', 'neckcircumference', 'neckcircumferencebase',\n",
            "       'radialestylionlength', 'shouldercircumference', 'sittingheight',\n",
            "       'sleeveoutseam', 'stature', 'suprasternaleheight', 'tenthribheight',\n",
            "       'thighcircumference', 'thighclearance', 'thumbtipreach',\n",
            "       'trochanterionheight', 'verticaltrunkcircumferenceusa',\n",
            "       'waistcircumference', 'waistdepth', 'waistheightomphalion',\n",
            "       'wristcircumference', 'Age', 'Heightin'],\n",
            "      dtype='object')\n"
          ]
        }
      ],
      "source": [
        "print(\"Total columns: \",X_train.columns.shape[0],\" Selected columns: \",X_train.columns[rfecv.support_].shape[0])\n",
        "print(X_train.columns[rfecv.support_])"
      ]
    },
    {
      "cell_type": "code",
      "execution_count": null,
      "id": "64412c01",
      "metadata": {
        "id": "64412c01"
      },
      "outputs": [],
      "source": [
        "X_train_sel_std = StandardScaler().fit_transform(X_train.loc[:,rfecv.support_])\n",
        "X_test_sel_std = StandardScaler().fit_transform(X_test.loc[:,rfecv.support_])"
      ]
    },
    {
      "cell_type": "code",
      "execution_count": null,
      "id": "b9b9cfa9",
      "metadata": {
        "id": "b9b9cfa9",
        "outputId": "cb4454dc-81c4-4562-b252-be04995bf631"
      },
      "outputs": [
        {
          "name": "stdout",
          "output_type": "stream",
          "text": [
            "Random forest with all 96 features R-squared: 0.9288032946862418\n",
            "Random forest with the 46 selected features R-squared: 0.9337480932380581\n",
            "MLP Regressor with all  96 features R-squared: 0.8955198621874043\n",
            "MLP Regressor with the 46 selected features R-squared: 0.9388254557420056\n"
          ]
        }
      ],
      "source": [
        "_ = forest.fit(X_train_std, y_train)\n",
        "print(\"Random forest with all\",X_train_std.shape[1],\"features R-squared:\", forest.score(X_test_std, y_test))\n",
        "_ = forest.fit(X_train_sel_std, y_train)\n",
        "print(\"Random forest with the\",X_test_sel_std.shape[1],\"selected features R-squared:\", forest.score(X_test_sel_std, y_test))\n",
        "\n",
        "from sklearn.neural_network import MLPRegressor\n",
        "mlp = MLPRegressor(random_state=1, max_iter=500)\n",
        "_ = mlp.fit(X_train_std, y_train)\n",
        "print(\"MLP Regressor with all \",X_train_std.shape[1],\"features R-squared:\",mlp.score(X_test_std, y_test))\n",
        "_ = mlp.fit(X_train_sel_std, y_train)\n",
        "print(\"MLP Regressor with the\",X_test_sel_std.shape[1],\"selected features R-squared:\",mlp.score(X_test_sel_std, y_test))"
      ]
    },
    {
      "cell_type": "markdown",
      "id": "c9aaf97e",
      "metadata": {
        "id": "c9aaf97e"
      },
      "source": [
        "<font size=\"10\"> Types of selection - Wrapper </font>\n",
        "\n",
        "Sequential Feature Selection (SFS) - Forward/Backward - Example"
      ]
    },
    {
      "cell_type": "code",
      "execution_count": null,
      "id": "7f30d622",
      "metadata": {
        "id": "7f30d622"
      },
      "outputs": [],
      "source": [
        "#example of Sequential Feature Selection - Forward/Backward\n",
        "diabetes = load_diabetes()\n",
        "X, y = diabetes.data, diabetes.target"
      ]
    },
    {
      "cell_type": "code",
      "execution_count": null,
      "id": "2c959a7a",
      "metadata": {
        "id": "2c959a7a",
        "outputId": "b2627c0d-60f4-418d-ab41-f797e0ddc283"
      },
      "outputs": [
        {
          "name": "stdout",
          "output_type": "stream",
          "text": [
            ".. _diabetes_dataset:\n",
            "\n",
            "Diabetes dataset\n",
            "----------------\n",
            "\n",
            "Ten baseline variables, age, sex, body mass index, average blood\n",
            "pressure, and six blood serum measurements were obtained for each of n =\n",
            "442 diabetes patients, as well as the response of interest, a\n",
            "quantitative measure of disease progression one year after baseline.\n",
            "\n",
            "**Data Set Characteristics:**\n",
            "\n",
            "  :Number of Instances: 442\n",
            "\n",
            "  :Number of Attributes: First 10 columns are numeric predictive values\n",
            "\n",
            "  :Target: Column 11 is a quantitative measure of disease progression one year after baseline\n",
            "\n",
            "  :Attribute Information:\n",
            "      - age     age in years\n",
            "      - sex\n",
            "      - bmi     body mass index\n",
            "      - bp      average blood pressure\n",
            "      - s1      tc, T-Cells (a type of white blood cells)\n",
            "      - s2      ldl, low-density lipoproteins\n",
            "      - s3      hdl, high-density lipoproteins\n",
            "      - s4      tch, thyroid stimulating hormone\n",
            "      - s5      ltg, lamotrigine\n",
            "      - s6      glu, blood sugar level\n",
            "\n",
            "Note: Each of these 10 feature variables have been mean centered and scaled by the standard deviation times `n_samples` (i.e. the sum of squares of each column totals 1).\n",
            "\n",
            "Source URL:\n",
            "https://www4.stat.ncsu.edu/~boos/var.select/diabetes.html\n",
            "\n",
            "For more information see:\n",
            "Bradley Efron, Trevor Hastie, Iain Johnstone and Robert Tibshirani (2004) \"Least Angle Regression,\" Annals of Statistics (with discussion), 407-499.\n",
            "(https://web.stanford.edu/~hastie/Papers/LARS/LeastAngle_2002.pdf)\n"
          ]
        }
      ],
      "source": [
        "print(diabetes.DESCR)"
      ]
    },
    {
      "cell_type": "code",
      "execution_count": null,
      "id": "a0c78dde",
      "metadata": {
        "id": "a0c78dde",
        "outputId": "9945c753-f76c-492b-ffdb-7e7fe17ab846"
      },
      "outputs": [
        {
          "data": {
            "image/png": "[encoded data removed]",
            "text/plain": [
              "<Figure size 432x288 with 1 Axes>"
            ]
          },
          "metadata": {
            "needs_background": "light"
          },
          "output_type": "display_data"
        }
      ],
      "source": [
        "lasso = LassoCV().fit(X, y)\n",
        "importance = np.abs(lasso.coef_)\n",
        "feature_names = np.array(diabetes.feature_names)\n",
        "plt.bar(height=importance, x=feature_names)\n",
        "plt.title(\"Feature importances via coefficients\")\n",
        "plt.show()"
      ]
    },
    {
      "cell_type": "code",
      "execution_count": null,
      "id": "4a40e4bc",
      "metadata": {
        "id": "4a40e4bc",
        "outputId": "606943af-81f8-4c9f-af0d-7ef188022dec"
      },
      "outputs": [
        {
          "name": "stdout",
          "output_type": "stream",
          "text": [
            "Features selected by SelectFromModel: ['s1' 's5']\n",
            "Done in 0.053s\n"
          ]
        }
      ],
      "source": [
        "from sklearn.feature_selection import SelectFromModel\n",
        "from time import time\n",
        "\n",
        "threshold = np.sort(importance)[-3] + 0.01\n",
        "\n",
        "tic = time()\n",
        "sfm = SelectFromModel(lasso, threshold=threshold).fit(X, y)\n",
        "toc = time()\n",
        "\n",
        "# selecting through embedded models\n",
        "print(f\"Features selected by SelectFromModel: {feature_names[sfm.get_support()]}\")\n",
        "print(f\"Done in {toc - tic:.3f}s\")"
      ]
    },
    {
      "cell_type": "code",
      "execution_count": null,
      "id": "3ce56254",
      "metadata": {
        "id": "3ce56254"
      },
      "outputs": [],
      "source": [
        "from sklearn.feature_selection import SequentialFeatureSelector\n",
        "\n",
        "tic_fwd = time()\n",
        "sfs_forward = SequentialFeatureSelector(\n",
        "    lasso, n_features_to_select=2, direction=\"forward\"\n",
        ").fit(X, y)\n",
        "toc_fwd = time()\n",
        "\n",
        "tic_bwd = time()\n",
        "sfs_backward = SequentialFeatureSelector(\n",
        "    lasso, n_features_to_select=2, direction=\"backward\"\n",
        ").fit(X, y)\n",
        "toc_bwd = time()"
      ]
    },
    {
      "cell_type": "code",
      "execution_count": null,
      "id": "e8fcf313",
      "metadata": {
        "id": "e8fcf313",
        "outputId": "7038d79e-0e07-4151-f4a9-9a9c310b9d35"
      },
      "outputs": [
        {
          "name": "stdout",
          "output_type": "stream",
          "text": [
            "Features selected by forward sequential selection: ['bmi' 's5']\n",
            "Done in 2.917s\n",
            "Features selected by backward sequential selection: ['bmi' 's5']\n",
            "Done in 9.118s\n"
          ]
        }
      ],
      "source": [
        "print(\n",
        "    \"Features selected by forward sequential selection: \"\n",
        "    f\"{feature_names[sfs_forward.get_support()]}\"\n",
        ")\n",
        "print(f\"Done in {toc_fwd - tic_fwd:.3f}s\")\n",
        "print(\n",
        "    \"Features selected by backward sequential selection: \"\n",
        "    f\"{feature_names[sfs_backward.get_support()]}\"\n",
        ")\n",
        "print(f\"Done in {toc_bwd - tic_bwd:.3f}s\")"
      ]
    },
    {
      "cell_type": "markdown",
      "id": "922b21eb",
      "metadata": {
        "id": "922b21eb"
      },
      "source": [
        "<font size=\"10\"> Types of selection - Embedded </font>\n",
        "\n",
        "- Feature selection inherently incorporated in the model (Tree, rule-based models, MARS and models with regularization)\n",
        "\n",
        "\n",
        "**Advantages:**\n",
        "\n",
        "    - relatively fast since FS is incorporated in the model building\n",
        "    - no external FS is needed\n",
        "    - direct connection between FS and the objective function"
      ]
    },
    {
      "cell_type": "markdown",
      "id": "0392b514",
      "metadata": {
        "id": "0392b514"
      },
      "source": [
        "<font size=\"10\"> Types of selection - Embedded </font>\n",
        "\n",
        "**Disadvantages:**\n",
        "\n",
        "    - model-dependent - sub-optimal when data are better fit by a non-intrinsic method\n",
        "    - some models use a greedy approach (single tree models) selecting a narrow and sub-optimal set of features"
      ]
    },
    {
      "cell_type": "markdown",
      "id": "a9bddce3",
      "metadata": {
        "id": "a9bddce3"
      },
      "source": [
        "<font size=\"10\"> Types of selection - Embedded </font>\n",
        "\n",
        "Tree-based embedded example"
      ]
    },
    {
      "cell_type": "code",
      "execution_count": null,
      "id": "93c2b4bf",
      "metadata": {
        "id": "93c2b4bf",
        "outputId": "b5a79fa6-78e0-44e1-d19b-f1b2c0a438f6"
      },
      "outputs": [
        {
          "data": {
            "text/plain": [
              "(150, 4)"
            ]
          },
          "execution_count": 81,
          "metadata": {},
          "output_type": "execute_result"
        }
      ],
      "source": [
        "#example of embedded method\n",
        "from sklearn.ensemble import ExtraTreesClassifier\n",
        "from sklearn.feature_selection import SelectFromModel\n",
        "\n",
        "X, y = load_iris(return_X_y=True)\n",
        "X.shape"
      ]
    },
    {
      "cell_type": "code",
      "execution_count": null,
      "id": "911d5078",
      "metadata": {
        "id": "911d5078",
        "outputId": "e73abff7-6138-4995-8ee4-c93f67b4f9ce"
      },
      "outputs": [
        {
          "name": "stdout",
          "output_type": "stream",
          "text": [
            "[0.07780508 0.04452505 0.43958709 0.43808279]\n"
          ]
        },
        {
          "data": {
            "text/plain": [
              "(150, 2)"
            ]
          },
          "execution_count": 82,
          "metadata": {},
          "output_type": "execute_result"
        }
      ],
      "source": [
        "clf = ExtraTreesClassifier(n_estimators=50)\n",
        "clf = clf.fit(X, y)\n",
        "print(clf.feature_importances_)\n",
        "\n",
        "model = SelectFromModel(clf, prefit=True)\n",
        "X_new = model.transform(X)\n",
        "X_new.shape"
      ]
    },
    {
      "cell_type": "markdown",
      "id": "c2777c63",
      "metadata": {
        "id": "c2777c63"
      },
      "source": [
        "<font size=\"10\"> Some interesting analysis </font>\n",
        "\n",
        "Let's assess the sensibility of the learning algorithms to irrelevant features.\n",
        "\n",
        "Suppose the relevant features are the following:\n",
        "\n",
        "<img src=\"https://inf.ufsc.br/~jonata.tyska/lectureImages/irrelevant_features_equation.png\" width=\"100%\" />\n"
      ]
    },
    {
      "cell_type": "markdown",
      "id": "7495430a",
      "metadata": {
        "id": "7495430a"
      },
      "source": [
        "<font size=\"10\"> Some interesting analysis </font>\n",
        "\n",
        "Let's see how different methods behave with an increasing number of irrelevant features.\n",
        "\n",
        "<img src=\"https://inf.ufsc.br/~jonata.tyska/lectureImages/irrelevant_features_analysis.png\" width=\"80%\" />\n",
        "\n",
        "*This analysis should not be taken as an Universal Truth (remember the no free lunch problem) but as an estimate of how the different methods behave*"
      ]
    },
    {
      "cell_type": "markdown",
      "id": "2c26548b",
      "metadata": {
        "id": "2c26548b"
      },
      "source": [
        "<font size=\"10\"> How to choose? </font>\n",
        "\n",
        "A good strategy can be:\n",
        "\n",
        "1. Start the feature selection process with one or more intrinsic methods to see what they yield. Try linear and non-linear intrinsic models;\n",
        "3. if non-linear intrinsic models provide better performance: proceed with a wrapper using a non-linear model; \n",
        "4. if the linear intrinsic model provided the best resul:, use a linear model with the wrapper method instead;\n",
        "\n",
        "When multiple methods 'fail', it might be an indicator that reducing features is not  feasible.\n",
        "\n",
        "See an interesting approach at the bonus section of: https://towardsdatascience.com/the-5-feature-selection-algorithms-every-data-scientist-need-to-know-3a6b566efd2\n"
      ]
    },
    {
      "cell_type": "markdown",
      "id": "4ff85006",
      "metadata": {
        "id": "4ff85006"
      },
      "source": [
        "<font size=\"10\"> A possible check-list </font>\n",
        "\n",
        "Guyon and Elisseeff (2003) provide this useful check-list:\n",
        "\n",
        "\n",
        "1. **Do you have domain knowledge?** If yes, construct a better set of ad hoc features\n",
        "2. **Are your features commensurate?** If no, consider normalizing them.\n",
        "3. **Do you suspect interdependence of features?** If yes, expand your feature set by constructing conjunctive features or products of features, as much as your computer resources allow you.\n"
      ]
    },
    {
      "cell_type": "markdown",
      "id": "98d9f306",
      "metadata": {
        "id": "98d9f306"
      },
      "source": [
        "<font size=\"10\"> A possible check-list </font>\n",
        "\n",
        "Guyon and Elisseeff (2003) provide this useful check-list:\n",
        "\n",
        "\n",
        "4. **Do you need to prune the input variables (e.g. for cost, speed or data understanding reasons)?** If no, construct disjunctive features or weighted sums of feature\n",
        "5. **Do you need to assess features individually (e.g. to understand their influence on the system or because their number is so large that you need to do a first filtering)?** If yes, use a variable ranking method; else, do it anyway to get baseline results.\n",
        "6. **Do you need a predictor?** If no, stop\n",
        "\n"
      ]
    },
    {
      "cell_type": "markdown",
      "id": "5c6d2f04",
      "metadata": {
        "id": "5c6d2f04"
      },
      "source": [
        "<font size=\"10\"> A possible check-list </font>\n",
        "\n",
        "Guyon and Elisseeff (2003) provide this useful check-list:\n",
        "\n",
        "\n",
        "7. **Do you suspect your data is “dirty” (has a few meaningless input patterns and/or noisy outputs or wrong class labels)?** If yes, detect the outlier examples using the top ranking variables obtained in step 5 as representation; check and/or discard them.\n",
        "\n"
      ]
    },
    {
      "cell_type": "markdown",
      "id": "a0d73a07",
      "metadata": {
        "id": "a0d73a07"
      },
      "source": [
        "<font size=\"10\"> A possible check-list </font>\n",
        "\n",
        "Guyon and Elisseeff (2003) provide this useful check-list:\n",
        "\n",
        "\n",
        "8. **Do you know what to try first?** If no, use a linear predictor. Use a forward selection method with the “probe” method as a stopping criterion or use the 0-norm embedded method for comparison, following the ranking of step 5, construct a sequence of predictors of same nature using increasing subsets of features. Can you match or improve performance with a smaller subset? If yes, try a non-linear predictor with that subset.\n",
        "\n",
        "<font color=\"red\"> I WOULD BE CAREFUL WITH THIS ONE DUE THE STEPWISE METHOD.  I PREFER KUHN & JOHNSON (2019) STRATEGY. </font>\n"
      ]
    },
    {
      "cell_type": "markdown",
      "id": "a47f2a99",
      "metadata": {
        "id": "a47f2a99"
      },
      "source": [
        "<font size=\"10\"> A possible check-list </font>\n",
        "\n",
        "Guyon and Elisseeff (2003) provide this useful check-list:\n",
        "\n",
        "\n",
        "9. **Do you have new ideas, time, computational resources, and enough examples?** If yes, compare several feature selection methods, including your new idea, correlation coefficients, backward selection and embedded methods. Use linear and non-linear predictors. Select the best approach with model selection\n",
        "10. **Do you want a stable solution (to improve performance and/or understanding)?** If yes, subsample your data and redo your analysis for several “bootstrap”. \n",
        "\n"
      ]
    },
    {
      "cell_type": "markdown",
      "id": "090cd1fd",
      "metadata": {
        "id": "090cd1fd"
      },
      "source": [
        "<font size=\"10\"> Is there a '*silver bullet*' method? </font>\n",
        "\n",
        "According to Bommert et al. (2020) about filter methods:\n",
        "\n",
        "\"Based on an analysis of 22 methods and 16 high-dimentional datasets...**there is no group of filter methods that always outperforms all other methods...**\"\n",
        "\n",
        "\"**We found out that there is no subset of filter methods that performs better than the rest of the filter methods on all data sets.**\"\n",
        "\n",
        "\"**on average all filter methods performed better than not filtering at all**\""
      ]
    },
    {
      "cell_type": "markdown",
      "source": [],
      "metadata": {
        "id": "Low2HU2OCQWE"
      },
      "id": "Low2HU2OCQWE"
    },
    {
      "cell_type": "markdown",
      "id": "4e39ddd7",
      "metadata": {
        "id": "4e39ddd7"
      },
      "source": [
        "<font size=\"10\"> Bibliography for this lecture </font>\n",
        "\n",
        "Kuhn, M., & Johnson, K. (2019). Feature engineering and selection: A practical approach for predictive models. CRC Press.\n",
        "\n",
        "Guyon, I., & Elisseeff, A. (2003). An introduction to variable and feature selection. Journal of machine learning research, 3(Mar), 1157-1182.\n",
        "\n",
        "Bommert, A., Sun, X., Bischl, B., Rahnenführer, J., & Lang, M. (2020). Benchmark for filter methods for feature selection in high-dimensional classification data. Computational Statistics & Data Analysis, 143, 106839.\n",
        "\n",
        "Smith, G. (2018). Step away from stepwise. Journal of Big Data, 5(1), 1-12.\n",
        "\n",
        "Narisetty, N. N. (2020). Bayesian model selection for high-dimensional data. In Handbook of Statistics (Vol. 43, pp. 207-248). Elsevier. (Section 2)\n",
        "\n"
      ]
    },
    {
      "cell_type": "markdown",
      "id": "66544744",
      "metadata": {
        "id": "66544744"
      },
      "source": [
        "Examples (partially) extracted from:\n",
        "\n",
        "https://towardsdatascience.com/how-to-use-variance-thresholding-for-robust-feature-selection-a4503f2b5c3f\n",
        "\n",
        "https://medium.com/nerd-for-tech/data-engineering-a-feature-selection-example-with-the-iris-dataset-11f0554e4b00\n",
        "\n",
        "https://scikit-learn.org/stable/auto_examples/feature_selection/plot_select_from_model_diabetes.html#sphx-glr-auto-examples-feature-selection-plot-select-from-model-diabetes-py\n",
        "\n",
        "https://towardsdatascience.com/powerful-feature-selection-with-recursive-feature-elimination-rfe-of-sklearn-23efb2cdb54e"
      ]
    }
  ],
  "metadata": {
    "celltoolbar": "Slideshow",
    "kernelspec": {
      "display_name": "Python 3",
      "language": "python",
      "name": "python3"
    },
    "language_info": {
      "codemirror_mode": {
        "name": "ipython",
        "version": 3
      },
      "file_extension": ".py",
      "mimetype": "text/x-python",
      "name": "python",
      "nbconvert_exporter": "python",
      "pygments_lexer": "ipython3",
      "version": "3.8.8"
    },
    "colab": {
      "provenance": []
    }
  },
  "nbformat": 4,
  "nbformat_minor": 5
}