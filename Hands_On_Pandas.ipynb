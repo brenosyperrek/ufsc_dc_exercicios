{
  "cells": [
    {
      "cell_type": "markdown",
      "metadata": {
        "id": "view-in-github",
        "colab_type": "text"
      },
      "source": [
        "<a href=\"https://colab.research.google.com/github/brenosyperrek/ufsc_dc_exercicios/blob/main/Hands_On_Pandas.ipynb\" target=\"_parent\"><img src=\"https://colab.research.google.com/assets/colab-badge.svg\" alt=\"Open In Colab\"/></a>"
      ]
    },
    {
      "cell_type": "markdown",
      "id": "f494e021-727d-49fd-9be9-7caef053cd33",
      "metadata": {
        "id": "f494e021-727d-49fd-9be9-7caef053cd33"
      },
      "source": [
        "# Hands-On de Ánalise de Dados com Pandas\n",
        "\n",
        "Aqui vamos praticar o que aprendemos nos outros notebooks de Pandas, utilizando essas técnicas para resolver algumas tarefas e ánalises. \n",
        "\n",
        "### Sobre os Dados\n",
        "\n",
        "Utilizaremos as estatísticas dos voos de 2019 do Departamento de Transportes dos Estados Unidos (disponível [aqui](https://www.transtats.bts.gov/DL_SelectFields.asp?gnoyr_VQ=FMF&QO_fu146_anzr=Nv4%20Pn44vr45), sendo o arquivo `T100_MARKET_ALL_CARRIER.zip`). Cada linha contém informações sobre uma rota espeífica para uma determinada transportadora em um determinado mês (exemplo: JFK &rarr; LAX pela Delta Airlines em Janeiro). Existem 321.409 linhas e 41 colunas no dataset. Note que não é necessário extrair o arquivo zip para fazer a leitura utilizando `pd.read_csv()`.\n",
        "\n",
        "#### Exercícios\n",
        "\n",
        "##### 1. Leia os dados e converta o nomes das colunas para letras minúsculas para ser mais fácil de trabalhar com elas."
      ]
    },
    {
      "cell_type": "code",
      "execution_count": null,
      "id": "66c20c07-36c7-4035-a382-edd0d5b65f10",
      "metadata": {
        "id": "66c20c07-36c7-4035-a382-edd0d5b65f10"
      },
      "outputs": [],
      "source": []
    },
    {
      "cell_type": "markdown",
      "id": "7583ee63-a49a-4ee4-a997-f3f15a67e8f5",
      "metadata": {
        "id": "7583ee63-a49a-4ee4-a997-f3f15a67e8f5"
      },
      "source": [
        "##### 2. Quais são as colunas do dataset?"
      ]
    },
    {
      "cell_type": "code",
      "execution_count": null,
      "id": "4b666eca-d4f7-42df-ae37-8d933c35b76f",
      "metadata": {
        "id": "4b666eca-d4f7-42df-ae37-8d933c35b76f"
      },
      "outputs": [],
      "source": []
    },
    {
      "cell_type": "markdown",
      "id": "1b4b5dbb-9175-4f2a-88c9-0bd0b51227eb",
      "metadata": {
        "id": "1b4b5dbb-9175-4f2a-88c9-0bd0b51227eb"
      },
      "source": [
        "##### 3. Quantas transportadores diferentes existem no dataset?"
      ]
    },
    {
      "cell_type": "code",
      "execution_count": null,
      "id": "44a7eb68-f2ff-44bd-98c6-cb2e14fecf2e",
      "metadata": {
        "id": "44a7eb68-f2ff-44bd-98c6-cb2e14fecf2e"
      },
      "outputs": [],
      "source": []
    },
    {
      "cell_type": "markdown",
      "id": "2f4cf587-5c27-49e4-b207-c88246fa407b",
      "metadata": {
        "id": "2f4cf587-5c27-49e4-b207-c88246fa407b"
      },
      "source": [
        "##### 4. Calcule o os valores totais das colunas `freight`, `mail`, e `passengers` para voos do Reino Unido para os Estados Unidos (United Kingdom e United States, respectivamente, no dataset)."
      ]
    },
    {
      "cell_type": "code",
      "execution_count": null,
      "id": "6b425e67-4c79-425a-a65e-3c9acec8caa5",
      "metadata": {
        "id": "6b425e67-4c79-425a-a65e-3c9acec8caa5"
      },
      "outputs": [],
      "source": []
    },
    {
      "cell_type": "markdown",
      "id": "8646906c-90f1-492f-b7d1-ec8d9d5d2c4e",
      "metadata": {
        "id": "8646906c-90f1-492f-b7d1-ec8d9d5d2c4e"
      },
      "source": [
        "##### 5. Ache as 5 transportadoras com maior distância mediana de rota (exemplo: para todos os pares origem-destino que cada portadora possui, encontre a distância mediana após remover duplicatas)."
      ]
    },
    {
      "cell_type": "code",
      "execution_count": null,
      "id": "77ad5f12-72f1-4d9c-8ee4-7bdd98ab4a63",
      "metadata": {
        "id": "77ad5f12-72f1-4d9c-8ee4-7bdd98ab4a63"
      },
      "outputs": [],
      "source": []
    },
    {
      "cell_type": "markdown",
      "id": "14df568e-e9c5-4ff4-9ba2-5afb9e813846",
      "metadata": {
        "id": "14df568e-e9c5-4ff4-9ba2-5afb9e813846"
      },
      "source": [
        "##### 6. Ache a carga total transportada (mail + freight) e a distância média viajada para as 10 transportadoras que transportaram o maior número de cargas."
      ]
    },
    {
      "cell_type": "code",
      "execution_count": null,
      "id": "dddd7f77-aef8-4cf1-91fe-c5aab118cb46",
      "metadata": {
        "id": "dddd7f77-aef8-4cf1-91fe-c5aab118cb46"
      },
      "outputs": [],
      "source": []
    },
    {
      "cell_type": "markdown",
      "id": "e13054ce-a69d-4c86-b484-ee6cad664ae3",
      "metadata": {
        "id": "e13054ce-a69d-4c86-b484-ee6cad664ae3"
      },
      "source": [
        "##### 7. Quais as 10 transportadoras que transportaram o maior número de passageiros dos Estados Unidos para outro país?"
      ]
    },
    {
      "cell_type": "code",
      "execution_count": null,
      "id": "fff4f9df-8d9c-445b-bcce-05977aa72e4e",
      "metadata": {
        "id": "fff4f9df-8d9c-445b-bcce-05977aa72e4e"
      },
      "outputs": [],
      "source": []
    },
    {
      "cell_type": "markdown",
      "id": "c7ce2d15-42bd-48f3-9292-f0a7aeb57010",
      "metadata": {
        "id": "c7ce2d15-42bd-48f3-9292-f0a7aeb57010"
      },
      "source": [
        "##### 8. Para cada transportadora encontrada no exercício 7, ache o país destino mais popular fora os Estados Unidos."
      ]
    },
    {
      "cell_type": "code",
      "execution_count": null,
      "id": "ee2eebe0-2384-4cf1-924c-99f1d62e481b",
      "metadata": {
        "id": "ee2eebe0-2384-4cf1-924c-99f1d62e481b"
      },
      "outputs": [],
      "source": []
    },
    {
      "cell_type": "markdown",
      "id": "d93b58d7-38a2-48a7-b780-e4358b02d5f8",
      "metadata": {
        "id": "d93b58d7-38a2-48a7-b780-e4358b02d5f8"
      },
      "source": [
        "##### 9. Para cada transportadora encontrada no exercício 7, ache o número total de passageiros que viajaram em voos internacionais para ou a partir dos destinos do exercício 8 ou dos Estados Unidos. Note que esse dataset só tem dados de voos com origem e/ou destino nos Estados Unidos."
      ]
    },
    {
      "cell_type": "code",
      "execution_count": null,
      "id": "1bc598b5-4cfd-4307-bbba-5952121043dd",
      "metadata": {
        "id": "1bc598b5-4cfd-4307-bbba-5952121043dd"
      },
      "outputs": [],
      "source": []
    },
    {
      "cell_type": "markdown",
      "id": "89d9952b-5f8f-4d3c-a320-be392ea76323",
      "metadata": {
        "id": "89d9952b-5f8f-4d3c-a320-be392ea76323"
      },
      "source": [
        "##### 10. Entre quais duas cidades os passageiros mais viajaram? Lembre de contar para ambas as direções."
      ]
    },
    {
      "cell_type": "code",
      "execution_count": null,
      "id": "00b6eda1-4591-422a-abd7-466b1e1d8128",
      "metadata": {
        "id": "00b6eda1-4591-422a-abd7-466b1e1d8128"
      },
      "outputs": [],
      "source": []
    },
    {
      "cell_type": "markdown",
      "id": "9a03d6bd-d654-49a2-9b19-ef9e422d984c",
      "metadata": {
        "id": "9a03d6bd-d654-49a2-9b19-ef9e422d984c"
      },
      "source": [
        "##### 11. Ache as 3 transportadoras com o maior número de voos com o par de cidades do exercício 10 como destino ou origem e calcule a porcentagem de passageiros contabilizados para essas cidades."
      ]
    },
    {
      "cell_type": "code",
      "execution_count": null,
      "id": "a0e55857-ebe5-4d87-8660-dd92091580ff",
      "metadata": {
        "id": "a0e55857-ebe5-4d87-8660-dd92091580ff"
      },
      "outputs": [],
      "source": []
    },
    {
      "cell_type": "markdown",
      "id": "c4c7024c-dce5-46a3-a520-3bf6ae294bd3",
      "metadata": {
        "id": "c4c7024c-dce5-46a3-a520-3bf6ae294bd3"
      },
      "source": [
        "##### 12. Ache a porcentagem de viagens internacionais por país usando o total de passageiros em voos de classe F."
      ]
    },
    {
      "cell_type": "code",
      "execution_count": null,
      "id": "40c37867-16bf-4c8c-a1a8-46968ad2959b",
      "metadata": {
        "id": "40c37867-16bf-4c8c-a1a8-46968ad2959b"
      },
      "outputs": [],
      "source": []
    },
    {
      "cell_type": "markdown",
      "id": "310d6c9c-1438-4391-aa97-a58193a9bde1",
      "metadata": {
        "id": "310d6c9c-1438-4391-aa97-a58193a9bde1"
      },
      "source": [
        "##### 13. Usando uma tabela cruzada, ache a porcentagem do total de passageiros que estão na classe F em voos internacionais entre cidades dos EUA e os países achados na questão 12 que usaram as transportadoras achadas na questão 11."
      ]
    },
    {
      "cell_type": "code",
      "execution_count": null,
      "id": "f7e37cde-8346-4617-9942-466a969d0da8",
      "metadata": {
        "id": "f7e37cde-8346-4617-9942-466a969d0da8"
      },
      "outputs": [],
      "source": []
    },
    {
      "cell_type": "markdown",
      "id": "c11ee42e-7dee-408f-9e42-d06e85ff9b8d",
      "metadata": {
        "id": "c11ee42e-7dee-408f-9e42-d06e85ff9b8d"
      },
      "source": [
        "##### 14. Crie uma tabela pivotada mostrando o total de passageiros transportados entre cidades nos Estados Unidos e outros países pelas transportadoras identificadas no exercício 7. Selecione o top 10 das cidades dos EUA e o top 10 dos países internacionais desse resultado."
      ]
    },
    {
      "cell_type": "code",
      "execution_count": null,
      "id": "d88ef592-9686-4e07-bbd7-0a1429c5f2f6",
      "metadata": {
        "id": "d88ef592-9686-4e07-bbd7-0a1429c5f2f6"
      },
      "outputs": [],
      "source": []
    },
    {
      "cell_type": "markdown",
      "id": "cb7dd171-87f5-4d78-8168-cbd9e6f907f7",
      "metadata": {
        "id": "cb7dd171-87f5-4d78-8168-cbd9e6f907f7"
      },
      "source": [
        "##### 15: Para o top 15 dos países internacionais, ache a porcentagem de passageiros de classe F viajando para ou a partir das top 10 cidades dos EUA, para as viagens internacionais (se apenas as cidades A, B e C voassem para Aruba, a soma da linha/coluna de Aruba seria 1). Faça a plotagem desses resultados como um heatmap."
      ]
    },
    {
      "cell_type": "code",
      "execution_count": null,
      "id": "e4f4c4e4-e335-432a-aa8a-f50d98530ba2",
      "metadata": {
        "id": "e4f4c4e4-e335-432a-aa8a-f50d98530ba2"
      },
      "outputs": [],
      "source": []
    },
    {
      "cell_type": "markdown",
      "source": [
        "# Referências\n",
        "\n",
        "Link do repositório original - Git: https://github.com/stefmolin/pandas-workshop"
      ],
      "metadata": {
        "id": "keBTbxG6_ihr"
      },
      "id": "keBTbxG6_ihr"
    }
  ],
  "metadata": {
    "kernelspec": {
      "display_name": "Python 3 (ipykernel)",
      "language": "python",
      "name": "python3"
    },
    "language_info": {
      "codemirror_mode": {
        "name": "ipython",
        "version": 3
      },
      "file_extension": ".py",
      "mimetype": "text/x-python",
      "name": "python",
      "nbconvert_exporter": "python",
      "pygments_lexer": "ipython3",
      "version": "3.10.2"
    },
    "colab": {
      "provenance": [],
      "include_colab_link": true
    }
  },
  "nbformat": 4,
  "nbformat_minor": 5
}