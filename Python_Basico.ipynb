{
  "cells": [
    {
      "cell_type": "markdown",
      "metadata": {
        "id": "view-in-github",
        "colab_type": "text"
      },
      "source": [
        "<a href=\"https://colab.research.google.com/github/brenosyperrek/ufsc_dc_exercicios/blob/main/Python_Basico.ipynb\" target=\"_parent\"><img src=\"https://colab.research.google.com/assets/colab-badge.svg\" alt=\"Open In Colab\"/></a>"
      ]
    },
    {
      "cell_type": "markdown",
      "metadata": {
        "tags": [],
        "id": "o-FeSYd55zYg"
      },
      "source": [
        "# Python 101\n",
        "\n",
        "Este é um notebook adicional para te familiarizar com o python, caso você seja novo, ou simplesmente refrescar a sua memória. O material aqui é um crash course em Python. Eu recomendo o [Tutorial oficial do Python](https://docs.python.org/3/tutorial/)\n",
        "para te dar um conhecimento mais profundo. Considere ler [esta página](https://docs.python.org/3/tutorial/appetite.html)\n",
        "nos documentos do Python para obter informações básicas sobre o Python e marcar o [glossário](https://docs.python.org/3/glossary.html#glossary) como favorito.\n",
        "\n",
        "## Tipos básicos de dados\n",
        "### Números\n",
        "Números em Python podem ser representados como inteiros (`5`, por exemplo) ou floats(`5.0`). Nós podemos fazer operações neles:"
      ]
    },
    {
      "cell_type": "code",
      "execution_count": null,
      "metadata": {
        "tags": [],
        "trusted": true,
        "id": "aX36RCvJ5zYr",
        "outputId": "440255b0-0aad-49b6-a110-077b4d154e02"
      },
      "outputs": [
        {
          "data": {
            "text/plain": [
              "11"
            ]
          },
          "execution_count": 127,
          "metadata": {},
          "output_type": "execute_result"
        }
      ],
      "source": [
        "5 + 6"
      ]
    },
    {
      "cell_type": "code",
      "execution_count": null,
      "metadata": {
        "trusted": true,
        "id": "fFXUssRS5zYv",
        "outputId": "36a3bebc-2428-4b6e-edda-2a2f83a77560"
      },
      "outputs": [
        {
          "data": {
            "text/plain": [
              "0.8333333333333334"
            ]
          },
          "execution_count": 128,
          "metadata": {},
          "output_type": "execute_result"
        }
      ],
      "source": [
        "2.5 / 3"
      ]
    },
    {
      "cell_type": "markdown",
      "metadata": {
        "id": "WUMEY1h05zYx"
      },
      "source": [
        "### Booleanos\n",
        "Nós podemos receber um booleano que checa por igualdade:"
      ]
    },
    {
      "cell_type": "code",
      "execution_count": null,
      "metadata": {
        "trusted": true,
        "id": "ixNjbSiz5zYy",
        "outputId": "1a6ce400-72b6-4abf-fb97-8f55e73c4d07"
      },
      "outputs": [
        {
          "data": {
            "text/plain": [
              "False"
            ]
          },
          "execution_count": 129,
          "metadata": {},
          "output_type": "execute_result"
        }
      ],
      "source": [
        "5 == 6"
      ]
    },
    {
      "cell_type": "code",
      "execution_count": null,
      "metadata": {
        "trusted": true,
        "id": "jWz9WDqp5zY0",
        "outputId": "6a986c35-89d5-4024-8039-98f026cbae4b"
      },
      "outputs": [
        {
          "data": {
            "text/plain": [
              "True"
            ]
          },
          "execution_count": 130,
          "metadata": {},
          "output_type": "execute_result"
        }
      ],
      "source": [
        "5 < 6"
      ]
    },
    {
      "cell_type": "markdown",
      "metadata": {
        "id": "Ux2XVhP75zY1"
      },
      "source": [
        "Estas expressões podem ser combinadas com operadores lógicos: `not`, `and`, `or`"
      ]
    },
    {
      "cell_type": "code",
      "execution_count": null,
      "metadata": {
        "trusted": true,
        "id": "6As9OLgZ5zY3",
        "outputId": "ac098bce-bc44-4f76-e974-f31a91c61c00"
      },
      "outputs": [
        {
          "data": {
            "text/plain": [
              "True"
            ]
          },
          "execution_count": 131,
          "metadata": {},
          "output_type": "execute_result"
        }
      ],
      "source": [
        "(5 < 6) and not (5 == 6)"
      ]
    },
    {
      "cell_type": "code",
      "execution_count": null,
      "metadata": {
        "trusted": true,
        "id": "6LvCh74y5zY4",
        "outputId": "ff06407c-eece-4376-a0f1-890c428bac7e"
      },
      "outputs": [
        {
          "data": {
            "text/plain": [
              "True"
            ]
          },
          "execution_count": 132,
          "metadata": {},
          "output_type": "execute_result"
        }
      ],
      "source": [
        "False or True"
      ]
    },
    {
      "cell_type": "code",
      "execution_count": null,
      "metadata": {
        "trusted": true,
        "id": "llkGluVD5zY6",
        "outputId": "01b82b20-40dd-4150-a212-58a2453b090d"
      },
      "outputs": [
        {
          "data": {
            "text/plain": [
              "True"
            ]
          },
          "execution_count": 133,
          "metadata": {},
          "output_type": "execute_result"
        }
      ],
      "source": [
        "True or False"
      ]
    },
    {
      "cell_type": "markdown",
      "metadata": {
        "id": "qQKpgSn85zY7"
      },
      "source": [
        "### Strings\n",
        "Usando strings, nós podemos manipular o texto no Python. Esses valores devem ser envolvidos por aspas &mdash; (`'...'`) é o padrão, mas aspas duplas (`\"...\"`) também funcionam:"
      ]
    },
    {
      "cell_type": "code",
      "execution_count": null,
      "metadata": {
        "trusted": true,
        "id": "C6eRQGPm5zY8",
        "outputId": "2f1a0462-3ea7-42b0-aab7-b44050d8748f"
      },
      "outputs": [
        {
          "data": {
            "text/plain": [
              "'hello'"
            ]
          },
          "execution_count": 134,
          "metadata": {},
          "output_type": "execute_result"
        }
      ],
      "source": [
        "'hello'"
      ]
    },
    {
      "cell_type": "markdown",
      "metadata": {
        "id": "WcVrsxMf5zY9"
      },
      "source": [
        "Nós podemos também fazer operações nas strings. Por exemplo, nós podemos obter seu comprimento com `len()`:"
      ]
    },
    {
      "cell_type": "code",
      "execution_count": null,
      "metadata": {
        "trusted": true,
        "id": "umGdW-QD5zY-",
        "outputId": "a9d069be-ce39-4cc1-db40-9e32c8f1a575"
      },
      "outputs": [
        {
          "data": {
            "text/plain": [
              "5"
            ]
          },
          "execution_count": 135,
          "metadata": {},
          "output_type": "execute_result"
        }
      ],
      "source": [
        "len('hello')"
      ]
    },
    {
      "cell_type": "markdown",
      "metadata": {
        "id": "8GYZq18V5zY_"
      },
      "source": [
        "Podemos selecionar partes de uma string especificando o seu **índice**. Note que em Python, o primeiro caracter está no índice 0:"
      ]
    },
    {
      "cell_type": "code",
      "execution_count": null,
      "metadata": {
        "trusted": true,
        "id": "-dMhFbtn5zZA",
        "outputId": "ef63b570-55f5-4f97-b143-022608cd0ecf"
      },
      "outputs": [
        {
          "data": {
            "text/plain": [
              "'h'"
            ]
          },
          "execution_count": 136,
          "metadata": {},
          "output_type": "execute_result"
        }
      ],
      "source": [
        "'hello'[0]"
      ]
    },
    {
      "cell_type": "markdown",
      "metadata": {
        "id": "OIbmqqFW5zZB"
      },
      "source": [
        "Nós podemos concatenar strings com o `+`:"
      ]
    },
    {
      "cell_type": "code",
      "execution_count": null,
      "metadata": {
        "trusted": true,
        "id": "91JWqiEK5zZB",
        "outputId": "f46817ec-80e0-4144-f45a-81cdbf6a97c9"
      },
      "outputs": [
        {
          "data": {
            "text/plain": [
              "'hello world'"
            ]
          },
          "execution_count": 137,
          "metadata": {},
          "output_type": "execute_result"
        }
      ],
      "source": [
        "'hello' + ' ' + 'world'"
      ]
    },
    {
      "cell_type": "markdown",
      "metadata": {
        "id": "dWZ4bOZu5zZC"
      },
      "source": [
        "Podemos checar se algum caracter está na string com o operador `in`:"
      ]
    },
    {
      "cell_type": "code",
      "execution_count": null,
      "metadata": {
        "trusted": true,
        "id": "HyBv_QNu5zZC",
        "outputId": "16812c67-a3c6-406d-a13d-ecb0854745a9"
      },
      "outputs": [
        {
          "data": {
            "text/plain": [
              "True"
            ]
          },
          "execution_count": 138,
          "metadata": {},
          "output_type": "execute_result"
        }
      ],
      "source": [
        "'h' in 'hello'"
      ]
    },
    {
      "cell_type": "markdown",
      "metadata": {
        "id": "B-kbRJG65zZD"
      },
      "source": [
        "## Variáveis\n",
        "Note que apenas escrever texto causa um erro. Erros no python tentam nos dar uma dica no que está dando errado no nosso código. Neste caso, temos a exceção`NameError` que nos diz que `hello` não está definido. Isso significa que [o interpretador Python](https://docs.python.org/3/tutorial/interpreter.html) procurou por uma **variável** chamada `hello`, mas não achou."
      ]
    },
    {
      "cell_type": "code",
      "execution_count": null,
      "metadata": {
        "trusted": true,
        "id": "i7RuFEvH5zZE",
        "outputId": "c1342c30-1aa2-47ca-c966-5e547a40573e"
      },
      "outputs": [
        {
          "ename": "<class 'NameError'>",
          "evalue": "name 'hello' is not defined",
          "output_type": "error",
          "traceback": [
            "\u001b[0;31m---------------------------------------------------------------------------\u001b[0m",
            "\u001b[0;31mNameError\u001b[0m                                 Traceback (most recent call last)",
            "Input \u001b[0;32mIn [139]\u001b[0m, in \u001b[0;36m<cell line: 1>\u001b[0;34m()\u001b[0m\n\u001b[0;32m----> 1\u001b[0m \u001b[43mhello\u001b[49m\n",
            "\u001b[0;31mNameError\u001b[0m: name 'hello' is not defined"
          ]
        }
      ],
      "source": [
        "hello"
      ]
    },
    {
      "cell_type": "markdown",
      "metadata": {
        "id": "ncTuHM--5zZF"
      },
      "source": [
        "Variáveis nos permitem guardar tipos de dados. Nós definimos uma variável usando a sintaxe `nome_da_variavel = valor`:"
      ]
    },
    {
      "cell_type": "code",
      "execution_count": null,
      "metadata": {
        "trusted": true,
        "id": "4ICW8bbR5zZG",
        "outputId": "5c34b638-29c5-4b49-f561-0f0ca215d025"
      },
      "outputs": [
        {
          "data": {
            "text/plain": [
              "12"
            ]
          },
          "execution_count": 1,
          "metadata": {},
          "output_type": "execute_result"
        }
      ],
      "source": [
        "x = 5\n",
        "y = 7\n",
        "x + y"
      ]
    },
    {
      "cell_type": "markdown",
      "metadata": {
        "id": "Op6I25Sl5zZH"
      },
      "source": [
        "O nome da variável contém espaços, nós geralmente usamos `_` no lugar deles. Os melhores nomes são descritivos:"
      ]
    },
    {
      "cell_type": "code",
      "execution_count": null,
      "metadata": {
        "trusted": true,
        "id": "ZNTBdGmh5zZH"
      },
      "outputs": [],
      "source": [
        "titulo_livro = 'Analise mao na massa de dados com o Pandas'"
      ]
    },
    {
      "cell_type": "markdown",
      "metadata": {
        "id": "-1pGKDEF5zZI"
      },
      "source": [
        "Variáveis podem ser qualquer tipo de dado. Nós podemos checar qual é com o `type()`, que é uma função (veremos mais sobre funções à frente!):"
      ]
    },
    {
      "cell_type": "code",
      "execution_count": null,
      "metadata": {
        "trusted": true,
        "id": "XpxLoBAJ5zZI",
        "outputId": "611d6fe1-427b-496a-955c-21df4331b12c"
      },
      "outputs": [
        {
          "data": {
            "text/plain": [
              "int"
            ]
          },
          "execution_count": 142,
          "metadata": {},
          "output_type": "execute_result"
        }
      ],
      "source": [
        "type(x)"
      ]
    },
    {
      "cell_type": "code",
      "execution_count": null,
      "metadata": {
        "trusted": true,
        "id": "vudkf4fC5zZJ",
        "outputId": "a3437e01-3baf-4cc7-9eda-20ab83698b4b"
      },
      "outputs": [
        {
          "data": {
            "text/plain": [
              "str"
            ]
          },
          "execution_count": 143,
          "metadata": {},
          "output_type": "execute_result"
        }
      ],
      "source": [
        "type(titulo_livro)"
      ]
    },
    {
      "cell_type": "markdown",
      "metadata": {
        "id": "HOcW1u6l5zZJ"
      },
      "source": [
        "Se nós precisarmos verificar o valor de uma variável, podemos imprimir o valor dela usando a função `print()`:"
      ]
    },
    {
      "cell_type": "code",
      "execution_count": null,
      "metadata": {
        "trusted": true,
        "id": "K405ASe95zZK",
        "outputId": "427324c2-6905-4846-dfc1-11695cf718c1"
      },
      "outputs": [
        {
          "name": "stdout",
          "output_type": "stream",
          "text": [
            "Analise mao na massa de dados com o Pandas\n"
          ]
        }
      ],
      "source": [
        "print(titulo_livro)"
      ]
    },
    {
      "cell_type": "markdown",
      "metadata": {
        "id": "3Mu3hljv5zZK"
      },
      "source": [
        "## Coleções de Itens\n",
        "\n",
        "### Listas\n",
        "Nós podemos guardar uma coleção de itens em uma lista:"
      ]
    },
    {
      "cell_type": "code",
      "execution_count": null,
      "metadata": {
        "trusted": true,
        "id": "1AbWLVvW5zZK",
        "outputId": "0f7ee3bc-d8b0-49ee-aedf-3cf5da13932e"
      },
      "outputs": [
        {
          "data": {
            "text/plain": [
              "['hello', ' ', 'world']"
            ]
          },
          "execution_count": 145,
          "metadata": {},
          "output_type": "execute_result"
        }
      ],
      "source": [
        "['hello', ' ', 'world']"
      ]
    },
    {
      "cell_type": "markdown",
      "metadata": {
        "id": "UMMzpZ8s5zZL"
      },
      "source": [
        "Essa lista pode ser guardada em uma variável. Note que os itens na lista podem ter tipos diferentes (uma peculiaridade interessante do Python! Em C++, por exemplo, uma lista só pode guardar itens com o mesmo tipo.)"
      ]
    },
    {
      "cell_type": "code",
      "execution_count": null,
      "metadata": {
        "trusted": true,
        "id": "Q8JuVkBs5zZL",
        "outputId": "bccaab9a-d1c4-490b-fdba-4468417e3a0c"
      },
      "outputs": [
        {
          "data": {
            "text/plain": [
              "list"
            ]
          },
          "execution_count": 146,
          "metadata": {},
          "output_type": "execute_result"
        }
      ],
      "source": [
        "minha_lista = ['hello', 3.8, True, 'Python']\n",
        "type(minha_lista)"
      ]
    },
    {
      "cell_type": "markdown",
      "metadata": {
        "id": "AEZNStUA5zZM"
      },
      "source": [
        "Nós podemos ver quantos itens estão na lista com o `len()`:"
      ]
    },
    {
      "cell_type": "code",
      "execution_count": null,
      "metadata": {
        "trusted": true,
        "id": "gzZvw7225zZM",
        "outputId": "e294631b-808e-489b-e625-76d70f323476"
      },
      "outputs": [
        {
          "data": {
            "text/plain": [
              "4"
            ]
          },
          "execution_count": 147,
          "metadata": {},
          "output_type": "execute_result"
        }
      ],
      "source": [
        "len(minha_lista)"
      ]
    },
    {
      "cell_type": "markdown",
      "metadata": {
        "id": "0sdH2r0b5zZN"
      },
      "source": [
        "Nós podemos usar o operador `in` para checar se um valor está na lista:"
      ]
    },
    {
      "cell_type": "code",
      "execution_count": null,
      "metadata": {
        "trusted": true,
        "id": "wa3STsFD5zZN",
        "outputId": "080d79b1-303a-4007-d32d-679c291790b2"
      },
      "outputs": [
        {
          "data": {
            "text/plain": [
              "False"
            ]
          },
          "execution_count": 148,
          "metadata": {},
          "output_type": "execute_result"
        }
      ],
      "source": [
        "'world' in minha_lista"
      ]
    },
    {
      "cell_type": "markdown",
      "metadata": {
        "id": "0cm9hIJ55zZN"
      },
      "source": [
        "Igualzinho em strings, podemos selecionar itens dentro da lista especificando o índice:"
      ]
    },
    {
      "cell_type": "code",
      "execution_count": null,
      "metadata": {
        "trusted": true,
        "id": "Gfk40O395zZO",
        "outputId": "761b1a6e-499a-4edc-bd3e-7a0c19f0c593"
      },
      "outputs": [
        {
          "data": {
            "text/plain": [
              "3.8"
            ]
          },
          "execution_count": 149,
          "metadata": {},
          "output_type": "execute_result"
        }
      ],
      "source": [
        "minha_lista[1]"
      ]
    },
    {
      "cell_type": "markdown",
      "metadata": {
        "id": "9Sc3RddO5zZO"
      },
      "source": [
        "Python também nos permite usar valores negativos, para selecionar facilmente o último item:"
      ]
    },
    {
      "cell_type": "code",
      "execution_count": null,
      "metadata": {
        "trusted": true,
        "id": "MH4Fb9yO5zZP",
        "outputId": "ac3bd551-fd90-450d-a3b8-e24ca888dce5"
      },
      "outputs": [
        {
          "data": {
            "text/plain": [
              "'Python'"
            ]
          },
          "execution_count": 150,
          "metadata": {},
          "output_type": "execute_result"
        }
      ],
      "source": [
        "minha_lista[-1]"
      ]
    },
    {
      "cell_type": "markdown",
      "metadata": {
        "id": "UPboqnH65zZP"
      },
      "source": [
        "Outra ferramente poderosa das listas(e strings) é o **slicing**. Podemos pegar, por exemplo, os dois elementos do meio na lista:"
      ]
    },
    {
      "cell_type": "code",
      "execution_count": null,
      "metadata": {
        "trusted": true,
        "id": "IErIIsyD5zZP",
        "outputId": "7dac99a8-2a85-49dd-e58e-5399857534c6"
      },
      "outputs": [
        {
          "data": {
            "text/plain": [
              "[3.8, True]"
            ]
          },
          "execution_count": 151,
          "metadata": {},
          "output_type": "execute_result"
        }
      ],
      "source": [
        "minha_lista[1:3]"
      ]
    },
    {
      "cell_type": "markdown",
      "metadata": {
        "id": "1mHbEl2M5zZR"
      },
      "source": [
        "... ou os elementos de modo alternado (pega o primeiro, pula o segundo, pega o terceiro... e assim vai):"
      ]
    },
    {
      "cell_type": "code",
      "execution_count": null,
      "metadata": {
        "trusted": true,
        "id": "7O4RcFqC5zZR",
        "outputId": "9d6d8d16-bfe0-4bb6-91a8-e80593e0791a"
      },
      "outputs": [
        {
          "data": {
            "text/plain": [
              "['hello', True]"
            ]
          },
          "execution_count": 152,
          "metadata": {},
          "output_type": "execute_result"
        }
      ],
      "source": [
        "minha_lista[::2]"
      ]
    },
    {
      "cell_type": "markdown",
      "metadata": {
        "id": "FpVX_VyA5zZS"
      },
      "source": [
        "Nós podemos inclusive pegar a lista invertida:"
      ]
    },
    {
      "cell_type": "code",
      "execution_count": null,
      "metadata": {
        "trusted": true,
        "id": "C3IzfY8G5zZT",
        "outputId": "782c87b2-0f76-4206-c16f-a039b4a5b672"
      },
      "outputs": [
        {
          "data": {
            "text/plain": [
              "['Python', True, 3.8, 'hello']"
            ]
          },
          "execution_count": 153,
          "metadata": {},
          "output_type": "execute_result"
        }
      ],
      "source": [
        "minha_lista[::-1]"
      ]
    },
    {
      "cell_type": "markdown",
      "metadata": {
        "id": "xpJJSoZV5zZT"
      },
      "source": [
        "Nota: A sintaxe é `[start:stop:step]` onde a seleção é inclusiva com o índice \"start\", mas é exclusiva com o índice \"stop\". Se `start` não for mencionado, `0` é usado. Se `stop` não for providenciado, o número de elementos da lista é usado (4, no nosso caso); isso funciona porque o `stop` é exclusivo. Se `step` não for providenciado, 1 é usado.\n",
        "\n",
        "Nós podemos usar o método `join()` em um objeto string para concatenar todos os itens da lista em uma string. A string que nós passamos é usado como um separador, aqui, nós separamos com a linha vertical (|):"
      ]
    },
    {
      "cell_type": "code",
      "execution_count": null,
      "metadata": {
        "trusted": true,
        "id": "Ist3gXtA5zZU",
        "outputId": "715d8c68-cd93-4eea-bd8f-65b586584213"
      },
      "outputs": [
        {
          "data": {
            "text/plain": [
              "'x|y|z'"
            ]
          },
          "execution_count": 154,
          "metadata": {},
          "output_type": "execute_result"
        }
      ],
      "source": [
        "'|'.join(['x', 'y', 'z'])"
      ]
    },
    {
      "cell_type": "markdown",
      "metadata": {
        "id": "t08Sh0l-5zZW"
      },
      "source": [
        "### Tuplas\n",
        "Tuplas são similares à listas; no entanto, elas não podem ser modificadas após criação, isto é, elas são **imutáveis**. Em vez de parênteses quadrados ([]), nós usamos parênteses normais para criar tuplas:"
      ]
    },
    {
      "cell_type": "code",
      "execution_count": null,
      "metadata": {
        "trusted": true,
        "id": "cyf2KOxI5zZW",
        "outputId": "c5f73919-5a77-4ae7-b77b-5ab2ab66e9a1"
      },
      "outputs": [
        {
          "data": {
            "text/plain": [
              "tuple"
            ]
          },
          "execution_count": 155,
          "metadata": {},
          "output_type": "execute_result"
        }
      ],
      "source": [
        "minha_tupla = ('a', 5)\n",
        "type(minha_tupla)"
      ]
    },
    {
      "cell_type": "code",
      "execution_count": null,
      "metadata": {
        "trusted": true,
        "id": "MbSbG_yS5zZX",
        "outputId": "f858d7da-61cc-460b-99dd-0efd0abccca4"
      },
      "outputs": [
        {
          "data": {
            "text/plain": [
              "'a'"
            ]
          },
          "execution_count": 156,
          "metadata": {},
          "output_type": "execute_result"
        }
      ],
      "source": [
        "minha_tupla[0]"
      ]
    },
    {
      "cell_type": "markdown",
      "metadata": {
        "id": "IjLbF5RJ5zZY"
      },
      "source": [
        "Objetos imutáveis não podem ser modificados:"
      ]
    },
    {
      "cell_type": "code",
      "execution_count": null,
      "metadata": {
        "trusted": true,
        "id": "QesYUX_s5zZZ",
        "outputId": "f6a4e82a-c2db-4e9d-a3f9-6a7f83015b71"
      },
      "outputs": [
        {
          "ename": "<class 'TypeError'>",
          "evalue": "'tuple' object does not support item assignment",
          "output_type": "error",
          "traceback": [
            "\u001b[0;31m---------------------------------------------------------------------------\u001b[0m",
            "\u001b[0;31mTypeError\u001b[0m                                 Traceback (most recent call last)",
            "Input \u001b[0;32mIn [157]\u001b[0m, in \u001b[0;36m<cell line: 1>\u001b[0;34m()\u001b[0m\n\u001b[0;32m----> 1\u001b[0m minha_tupla[\u001b[38;5;241m0\u001b[39m] \u001b[38;5;241m=\u001b[39m \u001b[38;5;124m'\u001b[39m\u001b[38;5;124mb\u001b[39m\u001b[38;5;124m'\u001b[39m\n",
            "\u001b[0;31mTypeError\u001b[0m: 'tuple' object does not support item assignment"
          ]
        }
      ],
      "source": [
        "minha_tupla[0] = 'b'"
      ]
    },
    {
      "cell_type": "markdown",
      "metadata": {
        "id": "SlW_20P_5zZZ"
      },
      "source": [
        "### Dicionários\n",
        "Nós podemos guardar pares de mapeamento chave-valor usando dicionários:"
      ]
    },
    {
      "cell_type": "code",
      "execution_count": null,
      "metadata": {
        "trusted": true,
        "id": "wUx5Qzta5zZa",
        "outputId": "07b79c2e-83c4-41ff-d2cc-140227261ad6"
      },
      "outputs": [
        {
          "data": {
            "text/plain": [
              "dict"
            ]
          },
          "execution_count": 158,
          "metadata": {},
          "output_type": "execute_result"
        }
      ],
      "source": [
        "lista_shopping = {\n",
        "    'vegetais': ['espinafre', 'couve', 'beterraba'],\n",
        "    'frutas': 'bananas',\n",
        "    'carne': 0    \n",
        "}\n",
        "type(lista_shopping)"
      ]
    },
    {
      "cell_type": "markdown",
      "metadata": {
        "id": "rfuHdSKa5zZb"
      },
      "source": [
        "Para acessar os valores associados com uma chave específica, nós usamos parênteses quadrados, de novo:"
      ]
    },
    {
      "cell_type": "code",
      "execution_count": null,
      "metadata": {
        "trusted": true,
        "id": "48TP_hm_5zZb",
        "outputId": "e1fecb28-4d86-46fd-8f9f-f7a94730c0f3"
      },
      "outputs": [
        {
          "data": {
            "text/plain": [
              "['espinafre', 'couve', 'beterraba']"
            ]
          },
          "execution_count": 159,
          "metadata": {},
          "output_type": "execute_result"
        }
      ],
      "source": [
        "lista_shopping['vegetais']"
      ]
    },
    {
      "cell_type": "markdown",
      "metadata": {
        "id": "_GxKcwSE5zZb"
      },
      "source": [
        "Nós podemos extrair todas as chaves com `keys()`:"
      ]
    },
    {
      "cell_type": "code",
      "execution_count": null,
      "metadata": {
        "trusted": true,
        "id": "VP-3AloS5zZc",
        "outputId": "d88969c2-c781-4efb-9518-15ad23330b13"
      },
      "outputs": [
        {
          "data": {
            "text/plain": [
              "dict_keys(['vegetais', 'frutas', 'carne'])"
            ]
          },
          "execution_count": 160,
          "metadata": {},
          "output_type": "execute_result"
        }
      ],
      "source": [
        "lista_shopping.keys()"
      ]
    },
    {
      "cell_type": "markdown",
      "metadata": {
        "id": "adVq66Vh5zZc"
      },
      "source": [
        "Nós podemos extrair todos os valores com `values()`:"
      ]
    },
    {
      "cell_type": "code",
      "execution_count": null,
      "metadata": {
        "trusted": true,
        "id": "pp_ilYL65zZc",
        "outputId": "f7859085-e259-4d7f-e0cf-a736fcf0b07a"
      },
      "outputs": [
        {
          "data": {
            "text/plain": [
              "dict_values([['espinafre', 'couve', 'beterraba'], 'bananas', 0])"
            ]
          },
          "execution_count": 161,
          "metadata": {},
          "output_type": "execute_result"
        }
      ],
      "source": [
        "lista_shopping.values()"
      ]
    },
    {
      "cell_type": "markdown",
      "metadata": {
        "id": "ZSaitcDs5zZd"
      },
      "source": [
        "Finalmente, temos `items()` para conseguir os pares (chave, valor):"
      ]
    },
    {
      "cell_type": "code",
      "execution_count": null,
      "metadata": {
        "trusted": true,
        "id": "p6M7aQRe5zZd",
        "outputId": "161d2ccb-2e88-4d24-979c-f3556e87dd40"
      },
      "outputs": [
        {
          "data": {
            "text/plain": [
              "dict_items([('vegetais', ['espinafre', 'couve', 'beterraba']), ('frutas', 'bananas'), ('carne', 0)])"
            ]
          },
          "execution_count": 162,
          "metadata": {},
          "output_type": "execute_result"
        }
      ],
      "source": [
        "lista_shopping.items()"
      ]
    },
    {
      "cell_type": "markdown",
      "metadata": {
        "id": "iYbk4ns45zZe"
      },
      "source": [
        "### Conjuntos\n",
        "Um conjunto é uma coleção de itens únicos. Comumente usamos conjuntos para remover elementos duplicados da lista. Eles são escritos com parênteses curvados, como dicionários, mas note que não há mapeamento chave-valor:"
      ]
    },
    {
      "cell_type": "code",
      "execution_count": null,
      "metadata": {
        "trusted": true,
        "id": "Le9-D2SC5zZe",
        "outputId": "9c3125d2-7a16-40cd-af4f-64782c9d3a9d"
      },
      "outputs": [
        {
          "data": {
            "text/plain": [
              "set"
            ]
          },
          "execution_count": 163,
          "metadata": {},
          "output_type": "execute_result"
        }
      ],
      "source": [
        "meu_conjunto = {1, 1, 2, 'a'}\n",
        "type(meu_conjunto)"
      ]
    },
    {
      "cell_type": "markdown",
      "metadata": {
        "id": "Fkfi2KiF5zZf"
      },
      "source": [
        "Quantos elementos tem o conjunto?"
      ]
    },
    {
      "cell_type": "code",
      "execution_count": null,
      "metadata": {
        "trusted": true,
        "id": "HJOsFC0N5zZf",
        "outputId": "8366fc6f-7552-451b-c7eb-a6c24d0f5bea"
      },
      "outputs": [
        {
          "data": {
            "text/plain": [
              "3"
            ]
          },
          "execution_count": 164,
          "metadata": {},
          "output_type": "execute_result"
        }
      ],
      "source": [
        "len(meu_conjunto)"
      ]
    },
    {
      "cell_type": "markdown",
      "metadata": {
        "id": "fyGlM6o15zZg"
      },
      "source": [
        "Nós botamos 4 itens, mas len retornou 3 porque um dos elementos era duplicado, e foi removido:"
      ]
    },
    {
      "cell_type": "code",
      "execution_count": null,
      "metadata": {
        "trusted": true,
        "id": "2FiRLDSe5zZg",
        "outputId": "6bf1f69e-aea0-474e-a021-d38d1b531167"
      },
      "outputs": [
        {
          "data": {
            "text/plain": [
              "{1, 2, 'a'}"
            ]
          },
          "execution_count": 165,
          "metadata": {},
          "output_type": "execute_result"
        }
      ],
      "source": [
        "meu_conjunto"
      ]
    },
    {
      "cell_type": "markdown",
      "metadata": {
        "id": "3Vlu2lck5zZh"
      },
      "source": [
        "Nós podemos checar se um valor está no conjunto:"
      ]
    },
    {
      "cell_type": "code",
      "execution_count": null,
      "metadata": {
        "trusted": true,
        "id": "uHw-JkJY5zZh",
        "outputId": "2fb32346-9f36-4e58-ad2b-5abb13969847"
      },
      "outputs": [
        {
          "data": {
            "text/plain": [
              "True"
            ]
          },
          "execution_count": 166,
          "metadata": {},
          "output_type": "execute_result"
        }
      ],
      "source": [
        "2 in meu_conjunto"
      ]
    },
    {
      "cell_type": "markdown",
      "metadata": {
        "id": "jL0XZwyS5zZh"
      },
      "source": [
        "## Funções\n",
        "Nós podemos definir funções para reusar nosso código, mais para a frente. Nós já vimos algumas funções pré-definidas, como `len()`, `type()` e `print()`. São todas funções que pegam **argumentos**. Note que funções não necessariamente precisam aceitar argumentos. Nesse caso, são chamadas sem passar nada(`print()` vs `print(minha_string)`).\n",
        "\n",
        "*Além disso, podemos criar listas, conjuntos, dicionários e tuplas com as funções: `list()`, `set()`, `dict()` e `tuple()`*\n",
        "\n",
        "### Definindo funções\n",
        "Para definir novas funções, usamos `def`. Vamos criar uma função chamada `adicionar()` com 2 parâmetros, `x` e `y`, que serão os nomes das variáveis que o código da função vai usar para se referir aos argumentos passados:"
      ]
    },
    {
      "cell_type": "code",
      "execution_count": null,
      "metadata": {
        "trusted": true,
        "id": "DPdir3Lx5zZi"
      },
      "outputs": [],
      "source": [
        "def adicionar(x, y):\n",
        "    \"\"\"Essa é uma docstring. É usada para explicar como o código funciona e é opcional (mas encorajada)\"\"\"\n",
        "    # Esse é o comentário. Não executa nada, mas traz informações breves e úteis do funcionamento do código.\n",
        "    print('executando adição...')\n",
        "    return x + y"
      ]
    },
    {
      "cell_type": "markdown",
      "metadata": {
        "id": "K5TbjPMe5zZi"
      },
      "source": [
        "Ao rodar o código acima, a função add estará pronta para ser usada."
      ]
    },
    {
      "cell_type": "code",
      "execution_count": null,
      "metadata": {
        "trusted": true,
        "id": "g_PNGQQM5zZi",
        "outputId": "2ae0c26e-df22-49b3-974f-ce7687e1b107"
      },
      "outputs": [
        {
          "data": {
            "text/plain": [
              "function"
            ]
          },
          "execution_count": 168,
          "metadata": {},
          "output_type": "execute_result"
        }
      ],
      "source": [
        "type(adicionar)"
      ]
    },
    {
      "cell_type": "markdown",
      "metadata": {
        "id": "bbj-jw6m5zZi"
      },
      "source": [
        "Vamos adicionar alguns números:"
      ]
    },
    {
      "cell_type": "code",
      "execution_count": null,
      "metadata": {
        "trusted": true,
        "id": "p45w7MHp5zZi",
        "outputId": "5e99936e-ad56-4de9-cac7-3bb814145680"
      },
      "outputs": [
        {
          "name": "stdout",
          "output_type": "stream",
          "text": [
            "executando adição...\n"
          ]
        },
        {
          "data": {
            "text/plain": [
              "3"
            ]
          },
          "execution_count": 169,
          "metadata": {},
          "output_type": "execute_result"
        }
      ],
      "source": [
        "adicionar(1, 2)"
      ]
    },
    {
      "cell_type": "markdown",
      "metadata": {
        "id": "CsjqbhAp5zZj"
      },
      "source": [
        "### Valores de retorno\n",
        "Nós podemos guardar o resultado em uma variável, para usar depois:"
      ]
    },
    {
      "cell_type": "code",
      "execution_count": null,
      "metadata": {
        "trusted": true,
        "id": "paQOPWe15zZj",
        "outputId": "5e767a3d-bfc8-4a16-c714-53281db894c8"
      },
      "outputs": [
        {
          "name": "stdout",
          "output_type": "stream",
          "text": [
            "executando adição...\n"
          ]
        }
      ],
      "source": [
        "resultado = adicionar(1, 2)"
      ]
    },
    {
      "cell_type": "markdown",
      "metadata": {
        "id": "AWbISMyR5zZj"
      },
      "source": [
        "Note que a expressão não imprimiu o `resultado`. A variável vai apenas conter o que a função **retorna**. Isso é o que o ``return` da função fez:"
      ]
    },
    {
      "cell_type": "code",
      "execution_count": null,
      "metadata": {
        "trusted": true,
        "id": "UMeEkpGP5zZj",
        "outputId": "c61879e1-b4c8-4258-b50b-3cdbfeb2598c"
      },
      "outputs": [
        {
          "data": {
            "text/plain": [
              "3"
            ]
          },
          "execution_count": 171,
          "metadata": {},
          "output_type": "execute_result"
        }
      ],
      "source": [
        "result"
      ]
    },
    {
      "cell_type": "markdown",
      "metadata": {
        "id": "lruYB9YI5zZj"
      },
      "source": [
        "As funções não necessariamente precisam retornar algo. Tome o seguinte código, por exemplo:"
      ]
    },
    {
      "cell_type": "code",
      "execution_count": null,
      "metadata": {
        "trusted": true,
        "id": "YYNGsZHo5zZk",
        "outputId": "42b7d143-f1d7-4391-98fd-abb33af6c347"
      },
      "outputs": [
        {
          "name": "stdout",
          "output_type": "stream",
          "text": [
            "hello world\n"
          ]
        }
      ],
      "source": [
        "resultado_print = print('hello world')"
      ]
    },
    {
      "cell_type": "markdown",
      "metadata": {
        "id": "oFFqAF8Z5zZk"
      },
      "source": [
        "Se nós darmos uma olhada no `resultado_print`, veremos que é um objeto `NoneType`:"
      ]
    },
    {
      "cell_type": "code",
      "execution_count": null,
      "metadata": {
        "trusted": true,
        "id": "6gh7dSMF5zZk",
        "outputId": "d8610aa8-c3fc-4bf1-fd40-3b82f858fbe0"
      },
      "outputs": [
        {
          "data": {
            "text/plain": [
              "NoneType"
            ]
          },
          "execution_count": 173,
          "metadata": {},
          "output_type": "execute_result"
        }
      ],
      "source": [
        "type(resultado_print)"
      ]
    },
    {
      "cell_type": "markdown",
      "metadata": {
        "id": "6xApf3iJ5zZk"
      },
      "source": [
        "Em Python, o valor `None` representa valores nulos. Nós podemos checar se nossa variável *é* `None`:"
      ]
    },
    {
      "cell_type": "code",
      "execution_count": null,
      "metadata": {
        "trusted": true,
        "id": "XebsPoHM5zZk",
        "outputId": "f9bf5285-b2ff-4321-e580-135d88b01d8c"
      },
      "outputs": [
        {
          "data": {
            "text/plain": [
              "True"
            ]
          },
          "execution_count": 174,
          "metadata": {},
          "output_type": "execute_result"
        }
      ],
      "source": [
        "resultado_print is None"
      ]
    },
    {
      "cell_type": "markdown",
      "metadata": {
        "id": "6FsB9Agt5zZl"
      },
      "source": [
        "*Lembrete: Use também operadores de comparação (>, >=, <, <=, ==, !=) para comparar valores além de `None`.*\n",
        "\n",
        "### Argumentos de funções\n",
        "\n",
        "*Note que os argumentos da função podem ser qualquer coisa, até outras funções. Veremos vários exemplos disso no texto.*\n",
        "\n",
        "A função que nós definimos requer argumentos. Se nós não providenciarmos todos eles, teremos um erro:"
      ]
    },
    {
      "cell_type": "code",
      "execution_count": null,
      "metadata": {
        "trusted": true,
        "id": "7V7faWq25zZl",
        "outputId": "5b99e6c5-899f-49ff-f90d-f1ed4cd17195"
      },
      "outputs": [
        {
          "ename": "<class 'TypeError'>",
          "evalue": "adicionar() missing 1 required positional argument: 'y'",
          "output_type": "error",
          "traceback": [
            "\u001b[0;31m---------------------------------------------------------------------------\u001b[0m",
            "\u001b[0;31mTypeError\u001b[0m                                 Traceback (most recent call last)",
            "Input \u001b[0;32mIn [175]\u001b[0m, in \u001b[0;36m<cell line: 1>\u001b[0;34m()\u001b[0m\n\u001b[0;32m----> 1\u001b[0m \u001b[43madicionar\u001b[49m\u001b[43m(\u001b[49m\u001b[38;5;241;43m1\u001b[39;49m\u001b[43m)\u001b[49m\n",
            "\u001b[0;31mTypeError\u001b[0m: adicionar() missing 1 required positional argument: 'y'"
          ]
        }
      ],
      "source": [
        "adicionar(1)"
      ]
    },
    {
      "cell_type": "markdown",
      "metadata": {
        "id": "CEkjUOxr5zZl"
      },
      "source": [
        "Podemos usar `help()` para checar quais argumentos uma função precisa (note que o docstring aparece aqui):"
      ]
    },
    {
      "cell_type": "code",
      "execution_count": null,
      "metadata": {
        "trusted": true,
        "id": "YOhJLxtJ5zZl",
        "outputId": "2368bacf-664c-44e0-a0c1-71b3dbe4cff7"
      },
      "outputs": [
        {
          "name": "stdout",
          "output_type": "stream",
          "text": [
            "Help on function adicionar in module __main__:\n",
            "\n",
            "\n",
            "\n",
            "adicionar(x, y)\n",
            "\n",
            "    Essa é uma docstring. É usada para explicar como o código funciona e é opcional (mas encorajada)\n",
            "\n",
            "\n"
          ]
        }
      ],
      "source": [
        "help(adicionar)"
      ]
    },
    {
      "cell_type": "markdown",
      "metadata": {
        "id": "Tktfa3hW5zZl"
      },
      "source": [
        "Teremos erros se passarmos tipos de dados que o `adicionar()` não sabe "
      ]
    },
    {
      "cell_type": "code",
      "execution_count": null,
      "metadata": {
        "trusted": true,
        "id": "zXn2RLcZ5zZl",
        "outputId": "1383f129-b3a2-4e92-a21a-23501e553a33"
      },
      "outputs": [
        {
          "name": "stdout",
          "output_type": "stream",
          "text": [
            "executando adição...\n"
          ]
        },
        {
          "ename": "<class 'TypeError'>",
          "evalue": "unsupported operand type(s) for +: 'set' and 'set'",
          "output_type": "error",
          "traceback": [
            "\u001b[0;31m---------------------------------------------------------------------------\u001b[0m",
            "\u001b[0;31mTypeError\u001b[0m                                 Traceback (most recent call last)",
            "Input \u001b[0;32mIn [177]\u001b[0m, in \u001b[0;36m<cell line: 1>\u001b[0;34m()\u001b[0m\n\u001b[0;32m----> 1\u001b[0m \u001b[43madicionar\u001b[49m\u001b[43m(\u001b[49m\u001b[38;5;28;43mset\u001b[39;49m\u001b[43m(\u001b[49m\u001b[43m)\u001b[49m\u001b[43m,\u001b[49m\u001b[43m \u001b[49m\u001b[38;5;28;43mset\u001b[39;49m\u001b[43m(\u001b[49m\u001b[43m)\u001b[49m\u001b[43m)\u001b[49m\n",
            "Input \u001b[0;32mIn [167]\u001b[0m, in \u001b[0;36madicionar\u001b[0;34m(x, y)\u001b[0m\n\u001b[1;32m      3\u001b[0m \u001b[38;5;66;03m# Esse é o comentário. Não executa nada, mas traz informações breves e úteis do funcionamento do código.\u001b[39;00m\n\u001b[1;32m      4\u001b[0m \u001b[38;5;28mprint\u001b[39m(\u001b[38;5;124m'\u001b[39m\u001b[38;5;124mexecutando adição...\u001b[39m\u001b[38;5;124m'\u001b[39m)\n\u001b[0;32m----> 5\u001b[0m \u001b[38;5;28;01mreturn\u001b[39;00m \u001b[43mx\u001b[49m\u001b[43m \u001b[49m\u001b[38;5;241;43m+\u001b[39;49m\u001b[43m \u001b[49m\u001b[43my\u001b[49m\n",
            "\u001b[0;31mTypeError\u001b[0m: unsupported operand type(s) for +: 'set' and 'set'"
          ]
        }
      ],
      "source": [
        "adicionar(set(), set())"
      ]
    },
    {
      "cell_type": "markdown",
      "metadata": {
        "id": "ze5wVGbE5zZm"
      },
      "source": [
        "Vamos discutir gerenciamento de erros neste texto.\n",
        "\n",
        "## Expressões de fluxo de controle\n",
        "As vezes nós queremos mudar o caminho do código baseado em algum critério. Tipo, se o valor for menor que 0 faça isso, e não isso, etc. Para isso, temos o `if`, `elif` e `else`. Nós podemos usar `if` sozinho:"
      ]
    },
    {
      "cell_type": "code",
      "execution_count": null,
      "metadata": {
        "trusted": true,
        "id": "3CPtv_z25zZm"
      },
      "outputs": [],
      "source": [
        "def torne_positivo(x):\n",
        "    \"\"\"Retorna o valor positivo de x\"\"\"\n",
        "    if x < 0:\n",
        "        x *= -1\n",
        "    return x"
      ]
    },
    {
      "cell_type": "markdown",
      "metadata": {
        "id": "XlbvVXMM5zZm"
      },
      "source": [
        "Chamar esta função com um input negativo causa o código dentro do `if` a rodar:"
      ]
    },
    {
      "cell_type": "code",
      "execution_count": null,
      "metadata": {
        "trusted": true,
        "id": "IBuU5jMs5zZm",
        "outputId": "ed1cbe9d-6f95-40e3-9f7b-3e34cd14184b"
      },
      "outputs": [
        {
          "data": {
            "text/plain": [
              "1"
            ]
          },
          "execution_count": 179,
          "metadata": {},
          "output_type": "execute_result"
        }
      ],
      "source": [
        "torne_positivo(-1)"
      ]
    },
    {
      "cell_type": "markdown",
      "metadata": {
        "id": "Njbh0l_j5zZn"
      },
      "source": [
        "Chamar esta função com um input positivo pula o código dentro do `if`, mantendo o número positivo:"
      ]
    },
    {
      "cell_type": "code",
      "execution_count": null,
      "metadata": {
        "trusted": true,
        "id": "LnNNNEfv5zZn",
        "outputId": "fbb2b337-68b2-45ce-e026-bec9f772a931"
      },
      "outputs": [
        {
          "data": {
            "text/plain": [
              "2"
            ]
          },
          "execution_count": 180,
          "metadata": {},
          "output_type": "execute_result"
        }
      ],
      "source": [
        "torne_positivo(2)"
      ]
    },
    {
      "cell_type": "markdown",
      "metadata": {
        "id": "COZEPkoi5zZn"
      },
      "source": [
        "As vezes nós precisamos de um else, também:"
      ]
    },
    {
      "cell_type": "code",
      "execution_count": null,
      "metadata": {
        "trusted": true,
        "id": "S4c0BBiz5zZn"
      },
      "outputs": [],
      "source": [
        "def adicionar_ou_subtrair(operacao, x, y):\n",
        "    if operacao == 'adicionar':\n",
        "        return x + y\n",
        "    else:\n",
        "        return x - y"
      ]
    },
    {
      "cell_type": "markdown",
      "metadata": {
        "id": "Zx68vM4y5zZn"
      },
      "source": [
        "O seguinte código ativa a expressão no `if`:"
      ]
    },
    {
      "cell_type": "code",
      "execution_count": null,
      "metadata": {
        "trusted": true,
        "id": "COFzHyFu5zZo",
        "outputId": "02079871-13b3-41da-f417-8866ce2239b5"
      },
      "outputs": [
        {
          "data": {
            "text/plain": [
              "3"
            ]
          },
          "execution_count": 182,
          "metadata": {},
          "output_type": "execute_result"
        }
      ],
      "source": [
        "adicionar_ou_subtrair('adicionar', 1, 2)"
      ]
    },
    {
      "cell_type": "markdown",
      "metadata": {
        "id": "aqJXZqln5zZo"
      },
      "source": [
        "Como o booleano checa que a expressão `if` é `False`, isso ativa o código dentro da expressão `else`:"
      ]
    },
    {
      "cell_type": "code",
      "execution_count": null,
      "metadata": {
        "trusted": true,
        "id": "QgmkV8805zZo",
        "outputId": "15192d6d-94d0-476f-8019-cd8a7548d8ae"
      },
      "outputs": [
        {
          "data": {
            "text/plain": [
              "-1"
            ]
          },
          "execution_count": 183,
          "metadata": {},
          "output_type": "execute_result"
        }
      ],
      "source": [
        "adicionar_ou_subtrair('subtrair', 1, 2)"
      ]
    },
    {
      "cell_type": "markdown",
      "metadata": {
        "id": "2ToiAFuT5zZo"
      },
      "source": [
        "Para uma lógica mais complicada, nós usamos o `elif`. Podemos ter qualquer número de expressões `elif`. Opcionalmente, podemos também incluir um `else`."
      ]
    },
    {
      "cell_type": "code",
      "execution_count": null,
      "metadata": {
        "trusted": true,
        "id": "eXEyESWV5zZo"
      },
      "outputs": [],
      "source": [
        "def calcular(operacao, x, y):\n",
        "    if operacao == 'adicionar':\n",
        "        return x + y\n",
        "    elif operacao == 'subtrair':\n",
        "        return x - y\n",
        "    elif operacao == 'multiplicar':\n",
        "        return x * y\n",
        "    elif operacao == 'divisao':\n",
        "        return x / y\n",
        "    else:\n",
        "        print(\"Esse caso não foi pensado :(\")"
      ]
    },
    {
      "cell_type": "markdown",
      "metadata": {
        "id": "Cs0ABGTs5zZp"
      },
      "source": [
        "Esse código fica checando as condições na expressão `if` do topo até embaixo, até achar a opção `multiply`:"
      ]
    },
    {
      "cell_type": "code",
      "execution_count": null,
      "metadata": {
        "trusted": true,
        "id": "hbe3Hq0b5zZp",
        "outputId": "578fbc87-a74d-4aec-bb56-3e17ef437b7a"
      },
      "outputs": [
        {
          "data": {
            "text/plain": [
              "12"
            ]
          },
          "execution_count": 185,
          "metadata": {},
          "output_type": "execute_result"
        }
      ],
      "source": [
        "calcular('multiplicar', 3, 4)"
      ]
    },
    {
      "cell_type": "markdown",
      "metadata": {
        "id": "NdfgmvNX5zZp"
      },
      "source": [
        "Esse código checa as condições de cada expressão`if` do topo até embaixo, até achar um `else`, dado que \"potencia\" não foi pensado:"
      ]
    },
    {
      "cell_type": "code",
      "execution_count": null,
      "metadata": {
        "trusted": true,
        "id": "bkL0PFl75zZp",
        "outputId": "0a9f8585-ddaa-4f62-e704-a3b14c0ae15f"
      },
      "outputs": [
        {
          "name": "stdout",
          "output_type": "stream",
          "text": [
            "Esse caso não foi pensado :(\n"
          ]
        }
      ],
      "source": [
        "calculate('potencia', 3, 4)"
      ]
    },
    {
      "cell_type": "markdown",
      "metadata": {
        "id": "3Q1Y2M6C5zZq"
      },
      "source": [
        "## Loops\n",
        "### loops `while`\n",
        "Com loops `while`, podemos ficar repetindo um bloco de código até uma condição ser satisfeita:"
      ]
    },
    {
      "cell_type": "code",
      "execution_count": null,
      "metadata": {
        "trusted": true,
        "id": "bExBLNNW5zZq",
        "outputId": "603c0ae1-f814-47fe-bb82-bee3614e24f5"
      },
      "outputs": [
        {
          "name": "stdout",
          "output_type": "stream",
          "text": [
            "Continuando... 2\n",
            "\n",
            "Continuando... 4\n",
            "\n",
            "Continuando... 8\n"
          ]
        }
      ],
      "source": [
        "feito = False\n",
        "valor = 2\n",
        "while not feito:\n",
        "    print('Continuando...', valor)\n",
        "    valor *= 2\n",
        "    if valor > 10:\n",
        "        feito = True"
      ]
    },
    {
      "cell_type": "markdown",
      "metadata": {
        "id": "MyS12NPA5zZq"
      },
      "source": [
        "A gente também pode escrever desse jeito, movendo a condição para a expressão `while`:"
      ]
    },
    {
      "cell_type": "code",
      "execution_count": null,
      "metadata": {
        "trusted": true,
        "id": "6_523n2F5zZq",
        "outputId": "a007ac7d-5c56-4776-f018-f7ce3329302a"
      },
      "outputs": [
        {
          "name": "stdout",
          "output_type": "stream",
          "text": [
            "Continuando... 2\n",
            "\n",
            "Continuando... 4\n",
            "\n",
            "Continuando... 8\n"
          ]
        }
      ],
      "source": [
        "valor = 2\n",
        "while valor < 10:\n",
        "    print('Continuando...', valor)\n",
        "    valor *= 2"
      ]
    },
    {
      "cell_type": "markdown",
      "metadata": {
        "id": "_-PCiaPf5zZr"
      },
      "source": [
        "### loops `for`\n",
        "Com loops `for`, podemos rodar nosso código para cada elemento em uma coleção:"
      ]
    },
    {
      "cell_type": "code",
      "execution_count": null,
      "metadata": {
        "trusted": true,
        "id": "RnkxNHBN5zZr",
        "outputId": "e25d4a88-fcac-42df-8086-128b1ec98974"
      },
      "outputs": [
        {
          "name": "stdout",
          "output_type": "stream",
          "text": [
            "0\n",
            "\n",
            "1\n",
            "\n",
            "2\n",
            "\n",
            "3\n",
            "\n",
            "4\n"
          ]
        }
      ],
      "source": [
        "for i in range(5):  #Note que aqui, range(5) cria a lista [0, 1, 2, 3, 4]\n",
        "    print(i)"
      ]
    },
    {
      "cell_type": "markdown",
      "metadata": {
        "id": "5o5g1EAZ5zZr"
      },
      "source": [
        "Podemos usar loops `for` com listas, tuplas, conjuntos e dicionários, também:"
      ]
    },
    {
      "cell_type": "code",
      "execution_count": null,
      "metadata": {
        "trusted": true,
        "id": "SiWj6Tzw5zZr",
        "outputId": "aceffdcb-904c-42cc-cf23-2fe6665d752b"
      },
      "outputs": [
        {
          "name": "stdout",
          "output_type": "stream",
          "text": [
            "hello\n",
            "\n",
            "3.8\n",
            "\n",
            "True\n",
            "\n",
            "Python\n"
          ]
        }
      ],
      "source": [
        "for elemento in minha_lista:\n",
        "    print(elemento)"
      ]
    },
    {
      "cell_type": "code",
      "execution_count": null,
      "metadata": {
        "trusted": true,
        "id": "PgdSMXLS5zZr",
        "outputId": "42004a52-2795-48e8-e7f3-11299048dd35"
      },
      "outputs": [
        {
          "name": "stdout",
          "output_type": "stream",
          "text": [
            "Para vegetais precisamos comprar ['espinafre', 'couve', 'beterraba']\n",
            "\n",
            "Para frutas precisamos comprar bananas\n",
            "\n",
            "Para carne precisamos comprar 0\n"
          ]
        }
      ],
      "source": [
        "for chave, valor in lista_shopping.items():\n",
        "    print('Para', chave, 'precisamos comprar', valor)"
      ]
    },
    {
      "cell_type": "markdown",
      "metadata": {
        "id": "EFLMUnhN5zZs"
      },
      "source": [
        "Com loops `for`, não precisamos nos preocupar em checar se chegarmos em uma condição de parada. Analogamente, loops `while` podem causar loops infinitos se não atualizarmos algumas variáveis.\n",
        "\n",
        "## Imports\n",
        "Nós estávamos trabalhando com uma porção do Python que está disponível sem precisar importar nenhuma funcionalidade. A biblioteca padrão do Python que já vem com a instação do Python é dividida em vários **módulos**, mas nós frequentemente só precisamos especificar alguns. Podemos importar o que quisermos: Um módulo da biblioteca padrão, uma biblioteca que não é um módulo padrão, ou até um código que nós mesmo escrevemos. Isso é feito usando a expressão `import`:"
      ]
    },
    {
      "cell_type": "code",
      "execution_count": null,
      "metadata": {
        "trusted": true,
        "id": "moQ39mq_5zZs",
        "outputId": "743a7182-4cf8-4b79-a20d-e8ff96ac56c8"
      },
      "outputs": [
        {
          "name": "stdout",
          "output_type": "stream",
          "text": [
            "3.141592653589793\n"
          ]
        }
      ],
      "source": [
        "import math\n",
        "\n",
        "print(math.pi)"
      ]
    },
    {
      "cell_type": "markdown",
      "metadata": {
        "id": "iyJ_eR4Y5zZs"
      },
      "source": [
        "Se nós precisarmos apenas de um pequeno pedaço do módulo, podemos fazer o seguinte:"
      ]
    },
    {
      "cell_type": "code",
      "execution_count": null,
      "metadata": {
        "trusted": true,
        "id": "5t2Ok4p85zZt",
        "outputId": "ec9b31ff-93ea-4f8c-df9b-ad01ccb879ca"
      },
      "outputs": [
        {
          "name": "stdout",
          "output_type": "stream",
          "text": [
            "3.141592653589793\n"
          ]
        }
      ],
      "source": [
        "from math import pi\n",
        "\n",
        "print(pi)"
      ]
    },
    {
      "cell_type": "markdown",
      "metadata": {
        "id": "r0sb6h1P5zZt"
      },
      "source": [
        "*Atenção: Tudo que você importa é adicionado ao namespace, então se você criar uma nova variável/função/etc. com o mesmo nome, o processo vai reescrever o valor anterior. Por esta razão, nós precisamos ser cautelosos com nomes de variáveis. Por exemplo, usar o nome `sum` vai te proibir de usar o sum original, da função build-in. Usando notebooks ou uma IDE vai te ajudar a evitar esses problemas com o auxílio do destaque de sintaxe.*\n",
        "\n",
        "## Instalando pacotes de terceiros\n",
        "**Nota: Nós vamos mostrar o ambiente de setup no texto, isso é para referência.**\n",
        "\n",
        "Nós usamos [`pip`](https://pip.pypa.io/en/stable/reference/) ou [`conda`](https://docs.conda.io/projects/conda/en/latest/commands.html) para instalar pacotes, dependendo de como nós criarmos o nosso ambiente virtual. O texto mostra os comandos para criar um ambiente virtual com `venv` e `conda`. O ambiente **deve** ser ativado antes de instalar os pacotes do texto, caso contrário, é possível que eles vão interferir com outros projetos na sua máquina e vice versa.\n",
        "\n",
        "Para instalar um pacote, usamos `pip3 install <nome_do_pacote>`. Opcionalmente, podemos providenciar uma versão específica para instalar `pip3 install pandas==0.23.4`. Sem a especificação, vamos obter a versão mais estável. Quando temos muitos pacotes para instalar (como temos nesse notebook), vamos usar tipicamente um arquivo `requirements.txt`: `pip3 install -r requirements.txt`.\n",
        "\n",
        "*Nota: Rodar `pip3 freeze > requirements.txt` vai mandar uma lista dos pacotes instalados no ambiente ativado e suas respectivas versões para o arquivo`requirements.txt`.*\n",
        "\n",
        "## Classes\n",
        "*NOTA: Vamos discutir isso mais à frente no capítulo 7. Agora, é importante lembrar da sintaxe nesta secção.*\n",
        "\n",
        "Até agora usamos Python como uma linguagem de programação funcional, mas nós também temos a opção de usar **programação orientada à objetos**. Você pode pensar em uma `class` como um jeito de agrupar funcionalidades similares juntas. Vamos criar uma classe calculadora, que consegue organizar operações matemáticas para nós. Para isso, usamos a keyword `class`, e definimos **métodos** para tomar ações na calculadora. Estes métodos são funções que tomam `self` como primeiro argumento. Quando chamamos eles, não passamos nada para este argumento (exemplo segue):"
      ]
    },
    {
      "cell_type": "code",
      "execution_count": null,
      "metadata": {
        "trusted": true,
        "id": "S2vQYnOI5zZt"
      },
      "outputs": [],
      "source": [
        "class Calculadora:\n",
        "    \"\"\"Esse é o docstring da classe\"\"\"\n",
        "    \n",
        "    def __init__(self):\n",
        "        \"\"\"Esse é um dos métodos, que é chamado toda vez que criamos um novo objeto do tipo 'Calculadora'\"\"\"\n",
        "        self.ligado = False\n",
        "        \n",
        "    def ligar(self):\n",
        "        \"\"\"Este método liga a calculadora\"\"\"\n",
        "        self.ligada = True\n",
        "    \n",
        "    def adicionar(self, x, y):\n",
        "        \"\"\"Faz a operação se a calculadora estiver ligada\"\"\"\n",
        "        if self.ligado:\n",
        "            return x + y\n",
        "        else:\n",
        "            print('Erro, a calculadora não foi ligada :(')"
      ]
    },
    {
      "cell_type": "markdown",
      "metadata": {
        "id": "zVjIoI6H5zZt"
      },
      "source": [
        "Para usar a calculadora, precisamos **instanciar** uma instância ou objeto do tipo `Calculadora`. Já que `__init__()` não tem parâmetros além do `self`, nós não precisamos providenciar nada"
      ]
    },
    {
      "cell_type": "code",
      "execution_count": null,
      "metadata": {
        "trusted": true,
        "id": "Xb0Wf-_U5zZu"
      },
      "outputs": [],
      "source": [
        "minha_calculadora = Calculadora()"
      ]
    },
    {
      "cell_type": "markdown",
      "metadata": {
        "id": "d8YoGayp5zZu"
      },
      "source": [
        "Vamos adicionar alguns números:"
      ]
    },
    {
      "cell_type": "code",
      "execution_count": null,
      "metadata": {
        "trusted": true,
        "id": "DP2IGQm85zZu",
        "outputId": "b814e2a9-a433-4b9b-d3c7-8874c0d3037a"
      },
      "outputs": [
        {
          "name": "stdout",
          "output_type": "stream",
          "text": [
            "Erro, a calculadora não foi ligada :(\n"
          ]
        }
      ],
      "source": [
        "minha_calculadora.adicionar(1, 2)"
      ]
    },
    {
      "cell_type": "markdown",
      "metadata": {
        "id": "3oJ4QMe75zZu"
      },
      "source": [
        "Opa, a calculadora não ligou. Vamos ligar ela:"
      ]
    },
    {
      "cell_type": "code",
      "execution_count": null,
      "metadata": {
        "trusted": true,
        "id": "pS2RSav55zZu"
      },
      "outputs": [],
      "source": [
        "minha_calculadora.ligar()"
      ]
    },
    {
      "cell_type": "markdown",
      "metadata": {
        "id": "ImEE1tPT5zZy"
      },
      "source": [
        "Vamos tentar de novo"
      ]
    },
    {
      "cell_type": "code",
      "execution_count": null,
      "metadata": {
        "trusted": true,
        "id": "AfZ1Zcyb5zZy",
        "outputId": "f7b4b06d-9226-4bc3-e0d3-429069dc3531"
      },
      "outputs": [
        {
          "name": "stdout",
          "output_type": "stream",
          "text": [
            "Erro, a calculadora não foi ligada :(\n"
          ]
        }
      ],
      "source": [
        "minha_calculadora.adicionar(1, 2)"
      ]
    },
    {
      "cell_type": "markdown",
      "metadata": {
        "id": "ix3vm7_i5zZy"
      },
      "source": [
        "Podemos acessar **atributos** do objeto com a notação de ponto. Neste exemplo, o único atributo é `ligada`, que é dado no método `__init__()`:"
      ]
    },
    {
      "cell_type": "code",
      "execution_count": null,
      "metadata": {
        "trusted": true,
        "id": "Csc7OrQW5zZy",
        "outputId": "f44781b1-fc86-457c-80a0-4cdda28223de"
      },
      "outputs": [
        {
          "data": {
            "text/plain": [
              "True"
            ]
          },
          "execution_count": 199,
          "metadata": {},
          "output_type": "execute_result"
        }
      ],
      "source": [
        "minha_calculadora.ligada"
      ]
    },
    {
      "cell_type": "markdown",
      "metadata": {
        "id": "chN5viMX5zZy"
      },
      "source": [
        "Note que podemos atualizar atributos:"
      ]
    },
    {
      "cell_type": "code",
      "execution_count": null,
      "metadata": {
        "trusted": true,
        "id": "_C2gbJG75zZz",
        "outputId": "b573fdd5-2cbf-48f2-8bc5-2c8173d29f5c"
      },
      "outputs": [
        {
          "name": "stdout",
          "output_type": "stream",
          "text": [
            "Erro, a calculadora não foi ligada :(\n"
          ]
        }
      ],
      "source": [
        "minha_calculadora.ligada = False\n",
        "minha_calculadora.adicionar(1, 2)"
      ]
    },
    {
      "cell_type": "markdown",
      "metadata": {
        "id": "AGAAHDNS5zZz"
      },
      "source": [
        "Finalmente, podemos usar `help()` para conseguir mais informações do objeto:"
      ]
    },
    {
      "cell_type": "code",
      "execution_count": null,
      "metadata": {
        "trusted": true,
        "id": "gYia4h3D5zZz",
        "outputId": "7eb9f515-541b-4dc4-d8ae-96642c0c7efe"
      },
      "outputs": [
        {
          "name": "stdout",
          "output_type": "stream",
          "text": [
            "Help on Calculadora in module __main__ object:\n",
            "\n",
            "\n",
            "\n",
            "class Calculadora(builtins.object)\n",
            "\n",
            " |  Esse é o docstring da classe\n",
            "\n",
            " |  \n",
            "\n",
            " |  Methods defined here:\n",
            "\n",
            " |  \n",
            "\n",
            " |  __init__(self)\n",
            "\n",
            " |      Esse é um dos métodos, que é chamado toda vez que criamos um novo objeto do tipo 'Calculadora'\n",
            "\n",
            " |  \n",
            "\n",
            " |  adicionar(self, x, y)\n",
            "\n",
            " |      Faz a operação se a calculadora estiver ligada\n",
            "\n",
            " |  \n",
            "\n",
            " |  ligar(self)\n",
            "\n",
            " |      Este método liga a calculadora\n",
            "\n",
            " |  \n",
            "\n",
            " |  ----------------------------------------------------------------------\n",
            "\n",
            " |  Data descriptors defined here:\n",
            "\n",
            " |  \n",
            "\n",
            " |  __dict__\n",
            "\n",
            " |      dictionary for instance variables (if defined)\n",
            "\n",
            " |  \n",
            "\n",
            " |  __weakref__\n",
            "\n",
            " |      list of weak references to the object (if defined)\n",
            "\n",
            "\n"
          ]
        }
      ],
      "source": [
        "help(minha_calculadora)"
      ]
    },
    {
      "cell_type": "markdown",
      "metadata": {
        "id": "cqUG1Es65zZ0"
      },
      "source": [
        "... e também para um método:"
      ]
    },
    {
      "cell_type": "code",
      "execution_count": null,
      "metadata": {
        "trusted": true,
        "id": "isP0Uw5i5zZ0",
        "outputId": "a44fb62e-3057-4368-db1a-8c910743cd61"
      },
      "outputs": [
        {
          "name": "stdout",
          "output_type": "stream",
          "text": [
            "Help on method adicionar in module __main__:\n",
            "\n",
            "\n",
            "\n",
            "adicionar(x, y) method of __main__.Calculadora instance\n",
            "\n",
            "    Faz a operação se a calculadora estiver ligada\n",
            "\n",
            "\n"
          ]
        }
      ],
      "source": [
        "help(minha_calculadora.adicionar)"
      ]
    },
    {
      "cell_type": "markdown",
      "metadata": {
        "id": "Lkbz-YDS5zZ0"
      },
      "source": [
        "# Próximos passos\n",
        "\n",
        "Você chegou ao fim do curso intensivo de Python. De modo algum é esperado que você seja um expert na linguagem, mas agora você já está pronto para prosseguir. Revise, e quando se sentir confiante, prossiga para o uso do Pandas, na análise de dados com o Python!\n",
        "\n",
        "# Referências\n",
        "\n",
        "Link do repositório original - Git: https://github.com/stefmolin/Hands-On-Data-Analysis-with-Pandas-2nd-edition\n",
        "Notebook original - https://github.com/stefmolin/Hands-On-Data-Analysis-with-Pandas-2nd-edition/blob/master/ch_01/python_101.ipynb"
      ]
    }
  ],
  "metadata": {
    "kernelspec": {
      "display_name": "Python (Pyodide)",
      "language": "python",
      "name": "python"
    },
    "language_info": {
      "codemirror_mode": {
        "name": "python",
        "version": 3
      },
      "file_extension": ".py",
      "mimetype": "text/x-python",
      "name": "python",
      "nbconvert_exporter": "python",
      "pygments_lexer": "ipython3",
      "version": "3.8"
    },
    "vscode": {
      "interpreter": {
        "hash": "c7010fd0dcd065287f0b3d28089763adcb46966a2c7a88e077764baf4ee10eb9"
      }
    },
    "colab": {
      "provenance": [],
      "include_colab_link": true
    }
  },
  "nbformat": 4,
  "nbformat_minor": 0
}