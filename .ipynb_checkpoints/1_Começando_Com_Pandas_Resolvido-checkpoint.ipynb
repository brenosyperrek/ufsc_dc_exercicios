{
 "cells": [
  {
   "cell_type": "markdown",
   "id": "4eedaf6c-296c-442c-92ec-60b8a4595781",
   "metadata": {
    "id": "4eedaf6c-296c-442c-92ec-60b8a4595781",
    "tags": []
   },
   "source": [
    "# Seção 1: Começando com Pandas\n",
    "\n",
    "Vamos começar introduzindo as classes `Series`, `DataFrame` e `Index`, que são a base principal da biblioteca Pandas, e como trabalhar com elas. Ao final dessa seção, você será capaz de criar DataFrames e utilizar operações neles para inspecioná-los e filtrar dados."
   ]
  },
  {
   "cell_type": "markdown",
   "id": "002b1f0a-a96e-424b-993a-8126452d31a1",
   "metadata": {
    "id": "002b1f0a-a96e-424b-993a-8126452d31a1",
    "tags": []
   },
   "source": [
    "## Anatomia de um DataFrame\n",
    "\n",
    "Um **DataFrame** é composto de uma ou mais **Series**. Os nomes das **Series** formam a coluna de nomes, e os números das linhas formam os **Indíces(Index)**."
   ]
  },
  {
   "cell_type": "code",
   "execution_count": 2,
   "id": "c8c4e00d-8bbb-47ee-9c84-dba7b6c19636",
   "metadata": {
    "id": "c8c4e00d-8bbb-47ee-9c84-dba7b6c19636",
    "tags": []
   },
   "outputs": [
    {
     "data": {
      "text/html": [
       "<div>\n",
       "<style scoped>\n",
       "    .dataframe tbody tr th:only-of-type {\n",
       "        vertical-align: middle;\n",
       "    }\n",
       "\n",
       "    .dataframe tbody tr th {\n",
       "        vertical-align: top;\n",
       "    }\n",
       "\n",
       "    .dataframe thead th {\n",
       "        text-align: right;\n",
       "    }\n",
       "</style>\n",
       "<table border=\"1\" class=\"dataframe\">\n",
       "  <thead>\n",
       "    <tr style=\"text-align: right;\">\n",
       "      <th></th>\n",
       "      <th>name</th>\n",
       "      <th>id</th>\n",
       "      <th>nametype</th>\n",
       "      <th>recclass</th>\n",
       "      <th>mass (g)</th>\n",
       "      <th>fall</th>\n",
       "      <th>year</th>\n",
       "      <th>reclat</th>\n",
       "      <th>reclong</th>\n",
       "      <th>GeoLocation</th>\n",
       "    </tr>\n",
       "  </thead>\n",
       "  <tbody>\n",
       "    <tr>\n",
       "      <th>0</th>\n",
       "      <td>Aachen</td>\n",
       "      <td>1</td>\n",
       "      <td>Valid</td>\n",
       "      <td>L5</td>\n",
       "      <td>21</td>\n",
       "      <td>Fell</td>\n",
       "      <td>01/01/1880 12:00:00 AM</td>\n",
       "      <td>50.77500</td>\n",
       "      <td>6.08333</td>\n",
       "      <td>(50.775, 6.08333)</td>\n",
       "    </tr>\n",
       "    <tr>\n",
       "      <th>1</th>\n",
       "      <td>Aarhus</td>\n",
       "      <td>2</td>\n",
       "      <td>Valid</td>\n",
       "      <td>H6</td>\n",
       "      <td>720</td>\n",
       "      <td>Fell</td>\n",
       "      <td>01/01/1951 12:00:00 AM</td>\n",
       "      <td>56.18333</td>\n",
       "      <td>10.23333</td>\n",
       "      <td>(56.18333, 10.23333)</td>\n",
       "    </tr>\n",
       "    <tr>\n",
       "      <th>2</th>\n",
       "      <td>Abee</td>\n",
       "      <td>6</td>\n",
       "      <td>Valid</td>\n",
       "      <td>EH4</td>\n",
       "      <td>107000</td>\n",
       "      <td>Fell</td>\n",
       "      <td>01/01/1952 12:00:00 AM</td>\n",
       "      <td>54.21667</td>\n",
       "      <td>-113.00000</td>\n",
       "      <td>(54.21667, -113.0)</td>\n",
       "    </tr>\n",
       "    <tr>\n",
       "      <th>3</th>\n",
       "      <td>Acapulco</td>\n",
       "      <td>10</td>\n",
       "      <td>Valid</td>\n",
       "      <td>Acapulcoite</td>\n",
       "      <td>1914</td>\n",
       "      <td>Fell</td>\n",
       "      <td>01/01/1976 12:00:00 AM</td>\n",
       "      <td>16.88333</td>\n",
       "      <td>-99.90000</td>\n",
       "      <td>(16.88333, -99.9)</td>\n",
       "    </tr>\n",
       "    <tr>\n",
       "      <th>4</th>\n",
       "      <td>Achiras</td>\n",
       "      <td>370</td>\n",
       "      <td>Valid</td>\n",
       "      <td>L6</td>\n",
       "      <td>780</td>\n",
       "      <td>Fell</td>\n",
       "      <td>01/01/1902 12:00:00 AM</td>\n",
       "      <td>-33.16667</td>\n",
       "      <td>-64.95000</td>\n",
       "      <td>(-33.16667, -64.95)</td>\n",
       "    </tr>\n",
       "  </tbody>\n",
       "</table>\n",
       "</div>"
      ],
      "text/plain": [
       "       name   id nametype     recclass  mass (g)  fall  \\\n",
       "0    Aachen    1    Valid           L5        21  Fell   \n",
       "1    Aarhus    2    Valid           H6       720  Fell   \n",
       "2      Abee    6    Valid          EH4    107000  Fell   \n",
       "3  Acapulco   10    Valid  Acapulcoite      1914  Fell   \n",
       "4   Achiras  370    Valid           L6       780  Fell   \n",
       "\n",
       "                     year    reclat    reclong           GeoLocation  \n",
       "0  01/01/1880 12:00:00 AM  50.77500    6.08333     (50.775, 6.08333)  \n",
       "1  01/01/1951 12:00:00 AM  56.18333   10.23333  (56.18333, 10.23333)  \n",
       "2  01/01/1952 12:00:00 AM  54.21667 -113.00000    (54.21667, -113.0)  \n",
       "3  01/01/1976 12:00:00 AM  16.88333  -99.90000     (16.88333, -99.9)  \n",
       "4  01/01/1902 12:00:00 AM -33.16667  -64.95000   (-33.16667, -64.95)  "
      ]
     },
     "execution_count": 2,
     "metadata": {},
     "output_type": "execute_result"
    }
   ],
   "source": [
    "import pandas as pd\n",
    "\n",
    "# Carrego o dataset a partir do GitHub\n",
    "url = 'https://raw.githubusercontent.com/stefmolin/pandas-workshop/main/data/Meteorite_Landings.csv'\n",
    "\n",
    "meteorites = pd.read_csv(url, nrows=5)\n",
    "meteorites"
   ]
  },
  {
   "cell_type": "markdown",
   "id": "0f71bf2b-8ff6-4352-b764-ca323a4bcb5e",
   "metadata": {
    "id": "0f71bf2b-8ff6-4352-b764-ca323a4bcb5e"
   },
   "source": [
    "*Source: [NASA's Open Data Portal](https://data.nasa.gov/Space-Science/Meteorite-Landings/gh4g-9sfh)*"
   ]
  },
  {
   "cell_type": "markdown",
   "id": "08f9c73e-20be-40d1-b5e9-1bfd24b5be25",
   "metadata": {
    "id": "08f9c73e-20be-40d1-b5e9-1bfd24b5be25",
    "tags": []
   },
   "source": [
    "#### Series:"
   ]
  },
  {
   "cell_type": "code",
   "execution_count": null,
   "id": "e9481da8-a3b5-4f6e-b9fc-cdb049090dbe",
   "metadata": {
    "id": "e9481da8-a3b5-4f6e-b9fc-cdb049090dbe",
    "tags": []
   },
   "outputs": [],
   "source": [
    "meteorites.name"
   ]
  },
  {
   "cell_type": "markdown",
   "id": "5ad03f4e-5f74-4440-a825-cd8e964006d2",
   "metadata": {
    "id": "5ad03f4e-5f74-4440-a825-cd8e964006d2",
    "tags": []
   },
   "source": [
    "#### Colunas:"
   ]
  },
  {
   "cell_type": "code",
   "execution_count": null,
   "id": "2b8723c5-3e4d-4038-82c7-5c0e9651f01c",
   "metadata": {
    "id": "2b8723c5-3e4d-4038-82c7-5c0e9651f01c",
    "tags": []
   },
   "outputs": [],
   "source": [
    "meteorites.columns"
   ]
  },
  {
   "cell_type": "markdown",
   "id": "649a8b50-2ff5-403b-8752-cbcf992de79f",
   "metadata": {
    "id": "649a8b50-2ff5-403b-8752-cbcf992de79f",
    "tags": []
   },
   "source": [
    "#### Indíce:"
   ]
  },
  {
   "cell_type": "code",
   "execution_count": null,
   "id": "43a06370-f735-4a9d-a64f-493e03b2b2c7",
   "metadata": {
    "id": "43a06370-f735-4a9d-a64f-493e03b2b2c7",
    "tags": []
   },
   "outputs": [],
   "source": [
    "meteorites.index"
   ]
  },
  {
   "cell_type": "markdown",
   "id": "49080335-73c4-4b21-a181-70370544f3aa",
   "metadata": {
    "id": "49080335-73c4-4b21-a181-70370544f3aa",
    "tags": []
   },
   "source": [
    "## Criando um DataFrames\n",
    "\n",
    "Podemos criar DataFrames a partir de diversas fontes, como outro objeto em Python, flat files, webscraping ou requisições de API's. Veremos apenas alguns exemplos desses casos, mas para uma lista completa acesse [essa página](https://pandas.pydata.org/pandas-docs/stable/user_guide/io.html) da documentação.\n"
   ]
  },
  {
   "cell_type": "markdown",
   "id": "a655f25f-c5ce-4286-a671-eee6c1eef663",
   "metadata": {
    "id": "a655f25f-c5ce-4286-a671-eee6c1eef663",
    "tags": []
   },
   "source": [
    "### Usando um flat file"
   ]
  },
  {
   "cell_type": "code",
   "execution_count": null,
   "id": "96da3638-773f-4a4a-a766-b5f34da67f80",
   "metadata": {
    "id": "96da3638-773f-4a4a-a766-b5f34da67f80"
   },
   "outputs": [],
   "source": [
    "import pandas as pd\n",
    "\n",
    "#meteorites = pd.read_csv('/content/sample_data/Meteorite_Landings.csv')"
   ]
  },
  {
   "cell_type": "markdown",
   "id": "NiJj3eykNoxj",
   "metadata": {
    "id": "NiJj3eykNoxj"
   },
   "source": [
    "Obs: Esse código só funcionará caso o dataset esteja presente nos arquivos locais do colab"
   ]
  },
  {
   "cell_type": "markdown",
   "id": "0ac0a6c5-9366-481f-87cc-5d84742cebf8",
   "metadata": {
    "id": "0ac0a6c5-9366-481f-87cc-5d84742cebf8",
    "tags": []
   },
   "source": [
    "*Dica: Existem vários parâmetros dessa função para lidar com processos inicias enquanto é feita a leitura do arquivo &ndash; olhe a [documentação](https://pandas.pydata.org/docs/reference/api/pandas.read_csv.html) para mais informações.*"
   ]
  },
  {
   "cell_type": "markdown",
   "id": "8097800d-f20a-4a28-ab25-ec2218903cb3",
   "metadata": {
    "id": "8097800d-f20a-4a28-ab25-ec2218903cb3",
    "tags": []
   },
   "source": [
    "### Usando dados de uma API\n",
    "\n",
    "Dados coletados do [NASA's Open Data Portal](https://data.nasa.gov/Space-Science/Meteorite-Landings/gh4g-9sfh) usando a Socrata Open Data API (SODA) com a biblioteca `requests`:"
   ]
  },
  {
   "cell_type": "code",
   "execution_count": null,
   "id": "45bf1785-4f25-461b-b600-543ccb0fccff",
   "metadata": {
    "id": "45bf1785-4f25-461b-b600-543ccb0fccff",
    "tags": []
   },
   "outputs": [],
   "source": [
    "import requests\n",
    "\n",
    "response = requests.get(\n",
    "    'https://data.nasa.gov/resource/gh4g-9sfh.json',\n",
    "    params={'$limit': 50_000}\n",
    ")\n",
    "\n",
    "if response.ok:\n",
    "    payload = response.json()\n",
    "else:\n",
    "    print(f'Request was not successful and returned code: {response.status_code}.')\n",
    "    payload = None"
   ]
  },
  {
   "cell_type": "markdown",
   "id": "575a0059-5f81-46cf-9a1c-7dc06d874a72",
   "metadata": {
    "id": "575a0059-5f81-46cf-9a1c-7dc06d874a72",
    "tags": []
   },
   "source": [
    "Criação do DataFrame com o payload resultante:"
   ]
  },
  {
   "cell_type": "code",
   "execution_count": null,
   "id": "be644eb4-193e-4820-9855-3e959c899319",
   "metadata": {
    "id": "be644eb4-193e-4820-9855-3e959c899319"
   },
   "outputs": [],
   "source": [
    "import pandas as pd\n",
    "\n",
    "df = pd.DataFrame(payload)\n",
    "df.head(3)"
   ]
  },
  {
   "cell_type": "markdown",
   "id": "09f139e3-ae7a-4f53-96ae-5f8de4e641d2",
   "metadata": {
    "id": "09f139e3-ae7a-4f53-96ae-5f8de4e641d2",
    "tags": []
   },
   "source": [
    "*Dica: `df.to_csv('data.csv')` escreve os dados em um novo arquivo chamado `data.csv`.*"
   ]
  },
  {
   "cell_type": "markdown",
   "id": "0a263d5a-d2c5-46c2-990c-3894b3ed39bf",
   "metadata": {
    "id": "0a263d5a-d2c5-46c2-990c-3894b3ed39bf",
    "tags": []
   },
   "source": [
    "## Inspecionando os dados\n",
    "Agora que temos alguns dados, precisamos começar uma inspeção inicial deles. Essa inspeção vai nos informar sobre como esses dados se parecem, quantas linhas e colunas existem e qual a quantidade de dados que nós temos."
   ]
  },
  {
   "cell_type": "markdown",
   "id": "f3e541dd-73d2-4f40-82e0-b8a59aa48b04",
   "metadata": {
    "id": "f3e541dd-73d2-4f40-82e0-b8a59aa48b04",
    "tags": []
   },
   "source": [
    "Vamos inspecionar os dados de `meteoritos`."
   ]
  },
  {
   "cell_type": "markdown",
   "id": "0246c277-5638-49a9-a7e1-6e82b1c15265",
   "metadata": {
    "id": "0246c277-5638-49a9-a7e1-6e82b1c15265",
    "tags": []
   },
   "source": [
    "#### Quantas colunas tem?"
   ]
  },
  {
   "cell_type": "code",
   "execution_count": null,
   "id": "d968d99d-dbf8-4402-a556-4200e13afe72",
   "metadata": {
    "id": "d968d99d-dbf8-4402-a556-4200e13afe72"
   },
   "outputs": [],
   "source": [
    "meteorites.shape"
   ]
  },
  {
   "cell_type": "markdown",
   "id": "8ee994e7-25e0-4062-ae29-fadb0f698c88",
   "metadata": {
    "id": "8ee994e7-25e0-4062-ae29-fadb0f698c88",
    "tags": []
   },
   "source": [
    "#### Quais são os nomes das colunas?"
   ]
  },
  {
   "cell_type": "code",
   "execution_count": null,
   "id": "24045c3d-085f-485d-b5a7-422037b24272",
   "metadata": {
    "id": "24045c3d-085f-485d-b5a7-422037b24272"
   },
   "outputs": [],
   "source": [
    "meteorites.columns"
   ]
  },
  {
   "cell_type": "markdown",
   "id": "3b138718-9c73-40f0-b4d2-7280a688fa89",
   "metadata": {
    "id": "3b138718-9c73-40f0-b4d2-7280a688fa89",
    "tags": []
   },
   "source": [
    "#### Que tipo de dados cada coluna possui atualmente?"
   ]
  },
  {
   "cell_type": "code",
   "execution_count": null,
   "id": "408c70cc-f900-45d2-828d-827ba6dd4123",
   "metadata": {
    "id": "408c70cc-f900-45d2-828d-827ba6dd4123"
   },
   "outputs": [],
   "source": [
    "meteorites.dtypes"
   ]
  },
  {
   "cell_type": "markdown",
   "id": "d6011183-5228-4f1c-a7c4-3f4e1cc9a4db",
   "metadata": {
    "id": "d6011183-5228-4f1c-a7c4-3f4e1cc9a4db",
    "tags": []
   },
   "source": [
    "#### Como os dados se parecem?"
   ]
  },
  {
   "cell_type": "code",
   "execution_count": null,
   "id": "3de2f605-ca0a-4e5e-9add-76309296adf5",
   "metadata": {
    "id": "3de2f605-ca0a-4e5e-9add-76309296adf5"
   },
   "outputs": [],
   "source": [
    "meteorites.head()"
   ]
  },
  {
   "cell_type": "markdown",
   "id": "54e767f9-adb9-4921-86be-75426fb13846",
   "metadata": {
    "id": "54e767f9-adb9-4921-86be-75426fb13846",
    "tags": []
   },
   "source": [
    "As vezes podem existir dados estranhos no final do arquivo, então checar as linhas mais de baixo também é importante:"
   ]
  },
  {
   "cell_type": "code",
   "execution_count": null,
   "id": "3b7f694d-c34c-4042-a051-07dc8759a11c",
   "metadata": {
    "id": "3b7f694d-c34c-4042-a051-07dc8759a11c",
    "tags": []
   },
   "outputs": [],
   "source": [
    "meteorites.tail()"
   ]
  },
  {
   "cell_type": "markdown",
   "id": "3f4989da-09bd-4f22-bb5a-b69d57e07b00",
   "metadata": {
    "id": "3f4989da-09bd-4f22-bb5a-b69d57e07b00",
    "tags": []
   },
   "source": [
    "#### Conseguir algumas informações sobre o DataFrame"
   ]
  },
  {
   "cell_type": "code",
   "execution_count": null,
   "id": "acbaa48e-0ebc-4412-b5ff-bded4f43e806",
   "metadata": {
    "id": "acbaa48e-0ebc-4412-b5ff-bded4f43e806"
   },
   "outputs": [],
   "source": [
    "meteorites.info()"
   ]
  },
  {
   "cell_type": "markdown",
   "id": "0d63f1c9-2b23-4585-8df0-358159b26801",
   "metadata": {
    "id": "0d63f1c9-2b23-4585-8df0-358159b26801",
    "tags": []
   },
   "source": [
    "## Extraindo subsets\n",
    "\n",
    "Uma parte crucial ao trabalhar com DataFrames é extrair subsets dos dados: achando linhas que se parecem por algum critério, isolando colunas/linhas de interesse, etc. Depois de estreitar os nossos dados, estamos mais perto de descobrir insights. Essa seção vai ser essencial para muitas tarefas de análises."
   ]
  },
  {
   "cell_type": "markdown",
   "id": "9c1a3793-29f7-4c0e-90d3-230475c611f7",
   "metadata": {
    "id": "9c1a3793-29f7-4c0e-90d3-230475c611f7",
    "tags": []
   },
   "source": [
    "#### Selecionando colunas\n",
    "\n",
    "Podemos selecionar colunas como atributos se os seus nomes forem válidos como variáveis em Python:"
   ]
  },
  {
   "cell_type": "code",
   "execution_count": null,
   "id": "2a084a5d-3d1c-4bef-9704-7c7ec69a73b1",
   "metadata": {
    "id": "2a084a5d-3d1c-4bef-9704-7c7ec69a73b1"
   },
   "outputs": [],
   "source": [
    "meteorites.name"
   ]
  },
  {
   "cell_type": "markdown",
   "id": "ac335459-7a87-443f-b349-7a7b826a5ffa",
   "metadata": {
    "id": "ac335459-7a87-443f-b349-7a7b826a5ffa",
    "tags": []
   },
   "source": [
    "Se elas não forem, as selecionamos como chaves. No entanto, podemos selecionar múltiplas colunas por vez dessa maneira:"
   ]
  },
  {
   "cell_type": "code",
   "execution_count": null,
   "id": "df5c98ef-0227-44e4-8038-de151a9d8717",
   "metadata": {
    "id": "df5c98ef-0227-44e4-8038-de151a9d8717"
   },
   "outputs": [],
   "source": [
    "meteorites[['name', 'mass (g)']]"
   ]
  },
  {
   "cell_type": "markdown",
   "id": "c3c390e8-1199-4cfe-a8f9-6998ddfa9f14",
   "metadata": {
    "id": "c3c390e8-1199-4cfe-a8f9-6998ddfa9f14",
    "tags": []
   },
   "source": [
    "#### Selecionando linhas"
   ]
  },
  {
   "cell_type": "code",
   "execution_count": null,
   "id": "c1a63e64-8a01-4762-b1c2-79b2f1068ea9",
   "metadata": {
    "id": "c1a63e64-8a01-4762-b1c2-79b2f1068ea9"
   },
   "outputs": [],
   "source": [
    "meteorites[100:104]"
   ]
  },
  {
   "cell_type": "markdown",
   "id": "84a61a58-50ca-4f10-ad26-36db5022ee9f",
   "metadata": {
    "id": "84a61a58-50ca-4f10-ad26-36db5022ee9f",
    "tags": []
   },
   "source": [
    "#### Indexando\n",
    "\n",
    "Usamos `iloc[]` para selecionar linhas e colunas pelas suas posições:"
   ]
  },
  {
   "cell_type": "code",
   "execution_count": null,
   "id": "50087ab8-2a1d-4312-a7c7-791bc7c35e9b",
   "metadata": {
    "id": "50087ab8-2a1d-4312-a7c7-791bc7c35e9b"
   },
   "outputs": [],
   "source": [
    "meteorites.iloc[100:104, [0, 3, 4, 6]]"
   ]
  },
  {
   "cell_type": "markdown",
   "id": "1798f9cc-8f05-4147-a351-cb3f9f6b765c",
   "metadata": {
    "id": "1798f9cc-8f05-4147-a351-cb3f9f6b765c",
    "tags": []
   },
   "source": [
    "Usamos `loc[]` para selecionar por nome:"
   ]
  },
  {
   "cell_type": "code",
   "execution_count": null,
   "id": "eb7a1cdb-e0cc-4c58-ae96-1dabe4d5fad7",
   "metadata": {
    "id": "eb7a1cdb-e0cc-4c58-ae96-1dabe4d5fad7"
   },
   "outputs": [],
   "source": [
    "meteorites.loc[100:104, 'mass (g)':'year']"
   ]
  },
  {
   "cell_type": "markdown",
   "id": "d601db18-6091-4234-916c-f5d5e6f8fd86",
   "metadata": {
    "id": "d601db18-6091-4234-916c-f5d5e6f8fd86",
    "tags": []
   },
   "source": [
    "#### Filtragem com máscaras booleanas\n",
    "\n",
    "Uma **Máscara Booleana** é uma estrutura parecida com uma lista de valores boobleanos &ndash; é uma forma de especificar quais linhas/colunas queremos selecionar (`True`) e quais não queremos (`False`)."
   ]
  },
  {
   "cell_type": "markdown",
   "id": "753004e2-c9ef-4dbf-86cc-fd5d48babeb2",
   "metadata": {
    "id": "753004e2-c9ef-4dbf-86cc-fd5d48babeb2",
    "tags": []
   },
   "source": [
    "Abaixo um exemplo de uma máscara booleana para meteoritos que pesam mais de 50 gramas que foram achados na Terra e que não foram observados quando estavam caindo:"
   ]
  },
  {
   "cell_type": "code",
   "execution_count": null,
   "id": "1f59f4cb-9f82-42ef-8c5f-c42d0f48447d",
   "metadata": {
    "id": "1f59f4cb-9f82-42ef-8c5f-c42d0f48447d"
   },
   "outputs": [],
   "source": [
    "(meteorites['mass (g)'] > 50) & (meteorites.fall == 'Found')"
   ]
  },
  {
   "cell_type": "markdown",
   "id": "26a1b2dd-08fc-40bc-a260-6445edc31382",
   "metadata": {
    "id": "26a1b2dd-08fc-40bc-a260-6445edc31382",
    "tags": []
   },
   "source": [
    "**Importante**: Tome cuidado com a sintaxe. As condições são fechadas por parênteses, e usamos operadores bitwise (`&`, `|`, `~`) ao invés de operadores lógicos (`and`, `or`, `not`)."
   ]
  },
  {
   "cell_type": "markdown",
   "id": "0086f863-cd77-4e0d-bea7-364b18d4ed6a",
   "metadata": {
    "id": "0086f863-cd77-4e0d-bea7-364b18d4ed6a",
    "tags": []
   },
   "source": [
    "Podemos usar uma máscara booleana para selecionar subsets de meteoritos pesando mais de 1 milhão de gramas (1.000 kilogramas) e que foram observados quando estavam caindo:"
   ]
  },
  {
   "cell_type": "code",
   "execution_count": null,
   "id": "46727a7f-d5e7-4de9-b69a-762413de9567",
   "metadata": {
    "id": "46727a7f-d5e7-4de9-b69a-762413de9567"
   },
   "outputs": [],
   "source": [
    "meteorites[(meteorites['mass (g)'] > 1e6) & (meteorites.fall == 'Fell')]"
   ]
  },
  {
   "cell_type": "markdown",
   "id": "055cc350-e9e0-42b2-839b-4ad45312e172",
   "metadata": {
    "id": "055cc350-e9e0-42b2-839b-4ad45312e172",
    "tags": []
   },
   "source": [
    "*Dica: Máscaras booleanas podem ser usadas com `loc[]` e `iloc[]`.*"
   ]
  },
  {
   "cell_type": "markdown",
   "id": "b4e791ea-92e5-4f30-974c-63b9195af1c2",
   "metadata": {
    "id": "b4e791ea-92e5-4f30-974c-63b9195af1c2",
    "tags": []
   },
   "source": [
    "Uma alternativa para isso seria o método `query()`: "
   ]
  },
  {
   "cell_type": "code",
   "execution_count": null,
   "id": "bde8231a-3f4a-43e1-a90e-051a125a00af",
   "metadata": {
    "id": "bde8231a-3f4a-43e1-a90e-051a125a00af"
   },
   "outputs": [],
   "source": [
    "meteorites.query(\"`mass (g)` > 1e6 and fall == 'Fell'\")"
   ]
  },
  {
   "cell_type": "markdown",
   "id": "869e853c-9073-49fb-beb6-05a84c882d54",
   "metadata": {
    "id": "869e853c-9073-49fb-beb6-05a84c882d54",
    "tags": []
   },
   "source": [
    "*Dica: Nesse caso, podemos usar tanto operadors lógicos quanto bitwise.*"
   ]
  },
  {
   "cell_type": "markdown",
   "id": "619cd5be-db0e-4ce6-99fb-1ebe6328e693",
   "metadata": {
    "id": "619cd5be-db0e-4ce6-99fb-1ebe6328e693",
    "tags": []
   },
   "source": [
    "## Calculando estatísticas sumarizadas\n",
    "\n",
    "Na próxima seção desse workshop, discutiremos limpeza de dados para uma análise mais significativa dos nossos datasets; porém, já podemos extrair alguns insights interessantes dos dados sobre `meteoritos` através de calculos de sumarização estatística."
   ]
  },
  {
   "cell_type": "markdown",
   "id": "2e45f672-cb84-4718-a9f1-6e7abf16252e",
   "metadata": {
    "id": "2e45f672-cb84-4718-a9f1-6e7abf16252e",
    "tags": []
   },
   "source": [
    "#### Quantos dos meteoritos foram achados contra quantos foram observados caindo?"
   ]
  },
  {
   "cell_type": "code",
   "execution_count": null,
   "id": "01433b12-c3f2-4680-a654-bb20bc8c2157",
   "metadata": {
    "id": "01433b12-c3f2-4680-a654-bb20bc8c2157"
   },
   "outputs": [],
   "source": [
    "meteorites.fall.value_counts()"
   ]
  },
  {
   "cell_type": "markdown",
   "id": "9fb5584e-92f2-4b30-a7bd-1ed9edd28db2",
   "metadata": {
    "id": "9fb5584e-92f2-4b30-a7bd-1ed9edd28db2",
    "tags": []
   },
   "source": [
    "*Dica: Utilize `normalize=True` para ver os resultados em porcentagem. Cheque a [documentação](https://pandas.pydata.org/docs/reference/api/pandas.Series.value_counts.html) para mais funcionalidades*"
   ]
  },
  {
   "cell_type": "markdown",
   "id": "1dd8c102-fe33-4376-98f8-0b8c9c5b8384",
   "metadata": {
    "id": "1dd8c102-fe33-4376-98f8-0b8c9c5b8384",
    "tags": []
   },
   "source": [
    "#### Qual é a massa média entre os meteoritos?"
   ]
  },
  {
   "cell_type": "code",
   "execution_count": null,
   "id": "3d666cd2-eca0-4634-86a5-aebbcda99522",
   "metadata": {
    "id": "3d666cd2-eca0-4634-86a5-aebbcda99522"
   },
   "outputs": [],
   "source": [
    "meteorites['mass (g)'].median()"
   ]
  },
  {
   "cell_type": "markdown",
   "id": "f322c0f3-a057-4193-9f7f-78c9828d6197",
   "metadata": {
    "id": "f322c0f3-a057-4193-9f7f-78c9828d6197",
    "tags": []
   },
   "source": [
    "Podemos ir um passo a frente e olhar os quantis:"
   ]
  },
  {
   "cell_type": "code",
   "execution_count": null,
   "id": "5d97fd11-12eb-4970-b042-6cbbd35a3a23",
   "metadata": {
    "id": "5d97fd11-12eb-4970-b042-6cbbd35a3a23"
   },
   "outputs": [],
   "source": [
    "meteorites['mass (g)'].quantile([0.01, 0.05, 0.95, 0.99])"
   ]
  },
  {
   "cell_type": "markdown",
   "id": "eebd8f14-f25b-453e-8d74-6e4b4d57aea2",
   "metadata": {
    "id": "eebd8f14-f25b-453e-8d74-6e4b4d57aea2",
    "tags": []
   },
   "source": [
    "#### Qual é a massa do meteorito mais pesado?"
   ]
  },
  {
   "cell_type": "code",
   "execution_count": null,
   "id": "585af605-e601-49b6-bd1f-4838ab993302",
   "metadata": {
    "id": "585af605-e601-49b6-bd1f-4838ab993302"
   },
   "outputs": [],
   "source": [
    "meteorites['mass (g)'].max()"
   ]
  },
  {
   "cell_type": "markdown",
   "id": "6cb28eaf-0850-48f6-87c9-db3d8327e759",
   "metadata": {
    "id": "6cb28eaf-0850-48f6-87c9-db3d8327e759",
    "tags": []
   },
   "source": [
    "Vamos extrair as informações sobre esse meteorito:"
   ]
  },
  {
   "cell_type": "code",
   "execution_count": null,
   "id": "29720ccc-3855-42f7-a0d0-e41a83cf1bef",
   "metadata": {
    "id": "29720ccc-3855-42f7-a0d0-e41a83cf1bef"
   },
   "outputs": [],
   "source": [
    "meteorites.loc[meteorites['mass (g)'].idxmax()]"
   ]
  },
  {
   "cell_type": "markdown",
   "id": "f2deea52-a1f9-4b5f-80bb-5074862783ec",
   "metadata": {
    "id": "f2deea52-a1f9-4b5f-80bb-5074862783ec",
    "tags": []
   },
   "source": [
    "#### Quantos tipos diferentes da classe mateorito estão representados neste dataset?"
   ]
  },
  {
   "cell_type": "code",
   "execution_count": null,
   "id": "79c2a1db-0eeb-4173-964a-a38741c059ba",
   "metadata": {
    "id": "79c2a1db-0eeb-4173-964a-a38741c059ba"
   },
   "outputs": [],
   "source": [
    "meteorites.recclass.nunique()"
   ]
  },
  {
   "cell_type": "markdown",
   "id": "0c0929d1-d296-4e11-89fb-7f3e707be732",
   "metadata": {
    "id": "0c0929d1-d296-4e11-89fb-7f3e707be732",
    "tags": []
   },
   "source": [
    "Alguns exemplos:"
   ]
  },
  {
   "cell_type": "code",
   "execution_count": null,
   "id": "3ac57de5-7734-478a-9772-feb82890d5ef",
   "metadata": {
    "id": "3ac57de5-7734-478a-9772-feb82890d5ef"
   },
   "outputs": [],
   "source": [
    "meteorites.recclass.unique()[:14]"
   ]
  },
  {
   "cell_type": "markdown",
   "id": "1e0eecb1-a224-44b4-bde2-79d794a7eca8",
   "metadata": {
    "id": "1e0eecb1-a224-44b4-bde2-79d794a7eca8"
   },
   "source": [
    "*Nota: Todos os campos precedidos por \"rec\" são valores recomendados pela Sociedade Meteorítica. Olhe esta [página da Wikipedia](https://en.wikipedia.org/wiki/Meteorite_classification) para mais informações sobre classes de meteoritos.*"
   ]
  },
  {
   "cell_type": "markdown",
   "id": "a0755e36-3761-4eb1-a91d-0d6abe9e672f",
   "metadata": {
    "id": "a0755e36-3761-4eb1-a91d-0d6abe9e672f",
    "tags": []
   },
   "source": [
    "#### Faça a sumarização estatística nos próprios dados\n",
    "Conseguimos pegar as estatísticas sumarizadas de todas as colunas de uma vez. Por padrão, serão apenas colunas numéricas, mas aqui, faremos a síntese de tudo:"
   ]
  },
  {
   "cell_type": "code",
   "execution_count": null,
   "id": "f0297d45-1d86-411f-ad8e-74cfaa3b2389",
   "metadata": {
    "id": "f0297d45-1d86-411f-ad8e-74cfaa3b2389"
   },
   "outputs": [],
   "source": [
    "meteorites.describe(include='all')"
   ]
  },
  {
   "cell_type": "markdown",
   "id": "96e7cd90-e515-4068-ae66-f4d2bcab6712",
   "metadata": {
    "id": "96e7cd90-e515-4068-ae66-f4d2bcab6712"
   },
   "source": [
    "**Importante**: Valores `NaN` significam dados faltando. Por exemplo, a coluna `fall` contém strings, logo não temos valor para `mean`; do mesmo jeito, `mass (g)` é numérico, por isso não temos entrada para a sumarização estatística categórica (`unique`, `top`, `freq`)."
   ]
  },
  {
   "cell_type": "markdown",
   "id": "7b290818-09d8-4646-94e3-b14f88d25b43",
   "metadata": {
    "id": "7b290818-09d8-4646-94e3-b14f88d25b43",
    "tags": []
   },
   "source": [
    "#### Cheque a documentação para mais descrições estatísticas:\n",
    "\n",
    "- [Series](https://pandas.pydata.org/docs/reference/series.html#computations-descriptive-stats)\n",
    "- [DataFrame](https://pandas.pydata.org/docs/reference/frame.html#computations-descriptive-stats)"
   ]
  },
  {
   "cell_type": "markdown",
   "id": "9e9b4667-6427-4c6d-ab25-d95d218b4bda",
   "metadata": {
    "id": "9e9b4667-6427-4c6d-ab25-d95d218b4bda",
    "tags": []
   },
   "source": [
    "## Próxima seção: Data Wrangling\n",
    "\n",
    "Vamos tirar um tempo para alguns exercícios para checar o seu entendimento:\n",
    "\n",
    "1. Crie um DataFrame fazendo a leitura do arquivo `2019_Yellow_Taxi_Trip_Data.csv`.\n",
    "2. Ache as dimensões (número de linhas e colunas) dos dados.\n",
    "3. Faça a sumarização estatística das colunas `fare_amount`, `tip_amount`, `tolls_amount`, e `total_amount`.\n",
    "4. Isole `fare_amount`, `tip_amount`, `tolls_amount`, e `total_amount` para a viagem mais longa (`trip_distance`)."
   ]
  },
  {
   "cell_type": "markdown",
   "id": "afc4e927-8e40-4092-b016-eea7dd726d19",
   "metadata": {
    "id": "afc4e927-8e40-4092-b016-eea7dd726d19",
    "tags": []
   },
   "source": [
    "### Exercícios\n",
    "\n",
    "##### 1. Crie um DataFrame fazendo a leitura do arquivo `2019_Yellow_Taxi_Trip_Data.csv`:"
   ]
  },
  {
   "cell_type": "code",
   "execution_count": null,
   "id": "289d920d-e636-4e6d-858f-10976c710f05",
   "metadata": {
    "colab": {
     "base_uri": "https://localhost:8080/",
     "height": 661
    },
    "id": "289d920d-e636-4e6d-858f-10976c710f05",
    "outputId": "e8cbbc53-b541-4c31-9191-67578a5eed3f"
   },
   "outputs": [
    {
     "data": {
      "text/html": [
       "\n",
       "  <div id=\"df-7e41cac9-4d60-421f-ba92-257726438034\">\n",
       "    <div class=\"colab-df-container\">\n",
       "      <div>\n",
       "<style scoped>\n",
       "    .dataframe tbody tr th:only-of-type {\n",
       "        vertical-align: middle;\n",
       "    }\n",
       "\n",
       "    .dataframe tbody tr th {\n",
       "        vertical-align: top;\n",
       "    }\n",
       "\n",
       "    .dataframe thead th {\n",
       "        text-align: right;\n",
       "    }\n",
       "</style>\n",
       "<table border=\"1\" class=\"dataframe\">\n",
       "  <thead>\n",
       "    <tr style=\"text-align: right;\">\n",
       "      <th></th>\n",
       "      <th>vendorid</th>\n",
       "      <th>tpep_pickup_datetime</th>\n",
       "      <th>tpep_dropoff_datetime</th>\n",
       "      <th>passenger_count</th>\n",
       "      <th>trip_distance</th>\n",
       "      <th>ratecodeid</th>\n",
       "      <th>store_and_fwd_flag</th>\n",
       "      <th>pulocationid</th>\n",
       "      <th>dolocationid</th>\n",
       "      <th>payment_type</th>\n",
       "      <th>fare_amount</th>\n",
       "      <th>extra</th>\n",
       "      <th>mta_tax</th>\n",
       "      <th>tip_amount</th>\n",
       "      <th>tolls_amount</th>\n",
       "      <th>improvement_surcharge</th>\n",
       "      <th>total_amount</th>\n",
       "      <th>congestion_surcharge</th>\n",
       "    </tr>\n",
       "  </thead>\n",
       "  <tbody>\n",
       "    <tr>\n",
       "      <th>0</th>\n",
       "      <td>2</td>\n",
       "      <td>2019-10-23T16:39:42.000</td>\n",
       "      <td>2019-10-23T17:14:10.000</td>\n",
       "      <td>1</td>\n",
       "      <td>7.93</td>\n",
       "      <td>1</td>\n",
       "      <td>N</td>\n",
       "      <td>138</td>\n",
       "      <td>170</td>\n",
       "      <td>1</td>\n",
       "      <td>29.5</td>\n",
       "      <td>1.0</td>\n",
       "      <td>0.5</td>\n",
       "      <td>7.98</td>\n",
       "      <td>6.12</td>\n",
       "      <td>0.3</td>\n",
       "      <td>47.90</td>\n",
       "      <td>2.5</td>\n",
       "    </tr>\n",
       "    <tr>\n",
       "      <th>1</th>\n",
       "      <td>1</td>\n",
       "      <td>2019-10-23T16:32:08.000</td>\n",
       "      <td>2019-10-23T16:45:26.000</td>\n",
       "      <td>1</td>\n",
       "      <td>2.00</td>\n",
       "      <td>1</td>\n",
       "      <td>N</td>\n",
       "      <td>11</td>\n",
       "      <td>26</td>\n",
       "      <td>1</td>\n",
       "      <td>10.5</td>\n",
       "      <td>1.0</td>\n",
       "      <td>0.5</td>\n",
       "      <td>0.00</td>\n",
       "      <td>0.00</td>\n",
       "      <td>0.3</td>\n",
       "      <td>12.30</td>\n",
       "      <td>0.0</td>\n",
       "    </tr>\n",
       "    <tr>\n",
       "      <th>2</th>\n",
       "      <td>2</td>\n",
       "      <td>2019-10-23T16:08:44.000</td>\n",
       "      <td>2019-10-23T16:21:11.000</td>\n",
       "      <td>1</td>\n",
       "      <td>1.36</td>\n",
       "      <td>1</td>\n",
       "      <td>N</td>\n",
       "      <td>163</td>\n",
       "      <td>162</td>\n",
       "      <td>1</td>\n",
       "      <td>9.5</td>\n",
       "      <td>1.0</td>\n",
       "      <td>0.5</td>\n",
       "      <td>2.00</td>\n",
       "      <td>0.00</td>\n",
       "      <td>0.3</td>\n",
       "      <td>15.80</td>\n",
       "      <td>2.5</td>\n",
       "    </tr>\n",
       "    <tr>\n",
       "      <th>3</th>\n",
       "      <td>2</td>\n",
       "      <td>2019-10-23T16:22:44.000</td>\n",
       "      <td>2019-10-23T16:43:26.000</td>\n",
       "      <td>1</td>\n",
       "      <td>1.00</td>\n",
       "      <td>1</td>\n",
       "      <td>N</td>\n",
       "      <td>170</td>\n",
       "      <td>163</td>\n",
       "      <td>1</td>\n",
       "      <td>13.0</td>\n",
       "      <td>1.0</td>\n",
       "      <td>0.5</td>\n",
       "      <td>4.32</td>\n",
       "      <td>0.00</td>\n",
       "      <td>0.3</td>\n",
       "      <td>21.62</td>\n",
       "      <td>2.5</td>\n",
       "    </tr>\n",
       "    <tr>\n",
       "      <th>4</th>\n",
       "      <td>2</td>\n",
       "      <td>2019-10-23T16:45:11.000</td>\n",
       "      <td>2019-10-23T16:58:49.000</td>\n",
       "      <td>1</td>\n",
       "      <td>1.96</td>\n",
       "      <td>1</td>\n",
       "      <td>N</td>\n",
       "      <td>163</td>\n",
       "      <td>236</td>\n",
       "      <td>1</td>\n",
       "      <td>10.5</td>\n",
       "      <td>1.0</td>\n",
       "      <td>0.5</td>\n",
       "      <td>0.50</td>\n",
       "      <td>0.00</td>\n",
       "      <td>0.3</td>\n",
       "      <td>15.30</td>\n",
       "      <td>2.5</td>\n",
       "    </tr>\n",
       "    <tr>\n",
       "      <th>...</th>\n",
       "      <td>...</td>\n",
       "      <td>...</td>\n",
       "      <td>...</td>\n",
       "      <td>...</td>\n",
       "      <td>...</td>\n",
       "      <td>...</td>\n",
       "      <td>...</td>\n",
       "      <td>...</td>\n",
       "      <td>...</td>\n",
       "      <td>...</td>\n",
       "      <td>...</td>\n",
       "      <td>...</td>\n",
       "      <td>...</td>\n",
       "      <td>...</td>\n",
       "      <td>...</td>\n",
       "      <td>...</td>\n",
       "      <td>...</td>\n",
       "      <td>...</td>\n",
       "    </tr>\n",
       "    <tr>\n",
       "      <th>9995</th>\n",
       "      <td>1</td>\n",
       "      <td>2019-10-23T17:39:59.000</td>\n",
       "      <td>2019-10-23T17:49:26.000</td>\n",
       "      <td>2</td>\n",
       "      <td>1.30</td>\n",
       "      <td>1</td>\n",
       "      <td>N</td>\n",
       "      <td>238</td>\n",
       "      <td>239</td>\n",
       "      <td>1</td>\n",
       "      <td>8.0</td>\n",
       "      <td>3.5</td>\n",
       "      <td>0.5</td>\n",
       "      <td>2.46</td>\n",
       "      <td>0.00</td>\n",
       "      <td>0.3</td>\n",
       "      <td>14.76</td>\n",
       "      <td>2.5</td>\n",
       "    </tr>\n",
       "    <tr>\n",
       "      <th>9996</th>\n",
       "      <td>1</td>\n",
       "      <td>2019-10-23T17:53:02.000</td>\n",
       "      <td>2019-10-23T18:00:45.000</td>\n",
       "      <td>1</td>\n",
       "      <td>1.40</td>\n",
       "      <td>1</td>\n",
       "      <td>N</td>\n",
       "      <td>239</td>\n",
       "      <td>166</td>\n",
       "      <td>2</td>\n",
       "      <td>8.0</td>\n",
       "      <td>3.5</td>\n",
       "      <td>0.5</td>\n",
       "      <td>0.00</td>\n",
       "      <td>0.00</td>\n",
       "      <td>0.3</td>\n",
       "      <td>12.30</td>\n",
       "      <td>2.5</td>\n",
       "    </tr>\n",
       "    <tr>\n",
       "      <th>9997</th>\n",
       "      <td>1</td>\n",
       "      <td>2019-10-23T17:07:16.000</td>\n",
       "      <td>2019-10-23T17:11:35.000</td>\n",
       "      <td>1</td>\n",
       "      <td>0.70</td>\n",
       "      <td>1</td>\n",
       "      <td>N</td>\n",
       "      <td>166</td>\n",
       "      <td>152</td>\n",
       "      <td>2</td>\n",
       "      <td>5.0</td>\n",
       "      <td>1.0</td>\n",
       "      <td>0.5</td>\n",
       "      <td>0.00</td>\n",
       "      <td>0.00</td>\n",
       "      <td>0.3</td>\n",
       "      <td>6.80</td>\n",
       "      <td>0.0</td>\n",
       "    </tr>\n",
       "    <tr>\n",
       "      <th>9998</th>\n",
       "      <td>1</td>\n",
       "      <td>2019-10-23T17:38:26.000</td>\n",
       "      <td>2019-10-23T17:49:28.000</td>\n",
       "      <td>2</td>\n",
       "      <td>2.50</td>\n",
       "      <td>1</td>\n",
       "      <td>N</td>\n",
       "      <td>151</td>\n",
       "      <td>42</td>\n",
       "      <td>1</td>\n",
       "      <td>10.0</td>\n",
       "      <td>1.0</td>\n",
       "      <td>0.5</td>\n",
       "      <td>0.00</td>\n",
       "      <td>0.00</td>\n",
       "      <td>0.3</td>\n",
       "      <td>11.80</td>\n",
       "      <td>0.0</td>\n",
       "    </tr>\n",
       "    <tr>\n",
       "      <th>9999</th>\n",
       "      <td>1</td>\n",
       "      <td>2019-10-23T17:22:14.000</td>\n",
       "      <td>2019-10-23T17:52:09.000</td>\n",
       "      <td>1</td>\n",
       "      <td>3.00</td>\n",
       "      <td>1</td>\n",
       "      <td>N</td>\n",
       "      <td>237</td>\n",
       "      <td>68</td>\n",
       "      <td>1</td>\n",
       "      <td>19.0</td>\n",
       "      <td>3.5</td>\n",
       "      <td>0.5</td>\n",
       "      <td>2.50</td>\n",
       "      <td>0.00</td>\n",
       "      <td>0.3</td>\n",
       "      <td>25.80</td>\n",
       "      <td>2.5</td>\n",
       "    </tr>\n",
       "  </tbody>\n",
       "</table>\n",
       "<p>10000 rows × 18 columns</p>\n",
       "</div>\n",
       "      <button class=\"colab-df-convert\" onclick=\"convertToInteractive('df-7e41cac9-4d60-421f-ba92-257726438034')\"\n",
       "              title=\"Convert this dataframe to an interactive table.\"\n",
       "              style=\"display:none;\">\n",
       "        \n",
       "  <svg xmlns=\"http://www.w3.org/2000/svg\" height=\"24px\"viewBox=\"0 0 24 24\"\n",
       "       width=\"24px\">\n",
       "    <path d=\"M0 0h24v24H0V0z\" fill=\"none\"/>\n",
       "    <path d=\"M18.56 5.44l.94 2.06.94-2.06 2.06-.94-2.06-.94-.94-2.06-.94 2.06-2.06.94zm-11 1L8.5 8.5l.94-2.06 2.06-.94-2.06-.94L8.5 2.5l-.94 2.06-2.06.94zm10 10l.94 2.06.94-2.06 2.06-.94-2.06-.94-.94-2.06-.94 2.06-2.06.94z\"/><path d=\"M17.41 7.96l-1.37-1.37c-.4-.4-.92-.59-1.43-.59-.52 0-1.04.2-1.43.59L10.3 9.45l-7.72 7.72c-.78.78-.78 2.05 0 2.83L4 21.41c.39.39.9.59 1.41.59.51 0 1.02-.2 1.41-.59l7.78-7.78 2.81-2.81c.8-.78.8-2.07 0-2.86zM5.41 20L4 18.59l7.72-7.72 1.47 1.35L5.41 20z\"/>\n",
       "  </svg>\n",
       "      </button>\n",
       "      \n",
       "  <style>\n",
       "    .colab-df-container {\n",
       "      display:flex;\n",
       "      flex-wrap:wrap;\n",
       "      gap: 12px;\n",
       "    }\n",
       "\n",
       "    .colab-df-convert {\n",
       "      background-color: #E8F0FE;\n",
       "      border: none;\n",
       "      border-radius: 50%;\n",
       "      cursor: pointer;\n",
       "      display: none;\n",
       "      fill: #1967D2;\n",
       "      height: 32px;\n",
       "      padding: 0 0 0 0;\n",
       "      width: 32px;\n",
       "    }\n",
       "\n",
       "    .colab-df-convert:hover {\n",
       "      background-color: #E2EBFA;\n",
       "      box-shadow: 0px 1px 2px rgba(60, 64, 67, 0.3), 0px 1px 3px 1px rgba(60, 64, 67, 0.15);\n",
       "      fill: #174EA6;\n",
       "    }\n",
       "\n",
       "    [theme=dark] .colab-df-convert {\n",
       "      background-color: #3B4455;\n",
       "      fill: #D2E3FC;\n",
       "    }\n",
       "\n",
       "    [theme=dark] .colab-df-convert:hover {\n",
       "      background-color: #434B5C;\n",
       "      box-shadow: 0px 1px 3px 1px rgba(0, 0, 0, 0.15);\n",
       "      filter: drop-shadow(0px 1px 2px rgba(0, 0, 0, 0.3));\n",
       "      fill: #FFFFFF;\n",
       "    }\n",
       "  </style>\n",
       "\n",
       "      <script>\n",
       "        const buttonEl =\n",
       "          document.querySelector('#df-7e41cac9-4d60-421f-ba92-257726438034 button.colab-df-convert');\n",
       "        buttonEl.style.display =\n",
       "          google.colab.kernel.accessAllowed ? 'block' : 'none';\n",
       "\n",
       "        async function convertToInteractive(key) {\n",
       "          const element = document.querySelector('#df-7e41cac9-4d60-421f-ba92-257726438034');\n",
       "          const dataTable =\n",
       "            await google.colab.kernel.invokeFunction('convertToInteractive',\n",
       "                                                     [key], {});\n",
       "          if (!dataTable) return;\n",
       "\n",
       "          const docLinkHtml = 'Like what you see? Visit the ' +\n",
       "            '<a target=\"_blank\" href=https://colab.research.google.com/notebooks/data_table.ipynb>data table notebook</a>'\n",
       "            + ' to learn more about interactive tables.';\n",
       "          element.innerHTML = '';\n",
       "          dataTable['output_type'] = 'display_data';\n",
       "          await google.colab.output.renderOutput(dataTable, element);\n",
       "          const docLink = document.createElement('div');\n",
       "          docLink.innerHTML = docLinkHtml;\n",
       "          element.appendChild(docLink);\n",
       "        }\n",
       "      </script>\n",
       "    </div>\n",
       "  </div>\n",
       "  "
      ],
      "text/plain": [
       "      vendorid     tpep_pickup_datetime    tpep_dropoff_datetime  \\\n",
       "0            2  2019-10-23T16:39:42.000  2019-10-23T17:14:10.000   \n",
       "1            1  2019-10-23T16:32:08.000  2019-10-23T16:45:26.000   \n",
       "2            2  2019-10-23T16:08:44.000  2019-10-23T16:21:11.000   \n",
       "3            2  2019-10-23T16:22:44.000  2019-10-23T16:43:26.000   \n",
       "4            2  2019-10-23T16:45:11.000  2019-10-23T16:58:49.000   \n",
       "...        ...                      ...                      ...   \n",
       "9995         1  2019-10-23T17:39:59.000  2019-10-23T17:49:26.000   \n",
       "9996         1  2019-10-23T17:53:02.000  2019-10-23T18:00:45.000   \n",
       "9997         1  2019-10-23T17:07:16.000  2019-10-23T17:11:35.000   \n",
       "9998         1  2019-10-23T17:38:26.000  2019-10-23T17:49:28.000   \n",
       "9999         1  2019-10-23T17:22:14.000  2019-10-23T17:52:09.000   \n",
       "\n",
       "      passenger_count  trip_distance  ratecodeid store_and_fwd_flag  \\\n",
       "0                   1           7.93           1                  N   \n",
       "1                   1           2.00           1                  N   \n",
       "2                   1           1.36           1                  N   \n",
       "3                   1           1.00           1                  N   \n",
       "4                   1           1.96           1                  N   \n",
       "...               ...            ...         ...                ...   \n",
       "9995                2           1.30           1                  N   \n",
       "9996                1           1.40           1                  N   \n",
       "9997                1           0.70           1                  N   \n",
       "9998                2           2.50           1                  N   \n",
       "9999                1           3.00           1                  N   \n",
       "\n",
       "      pulocationid  dolocationid  payment_type  fare_amount  extra  mta_tax  \\\n",
       "0              138           170             1         29.5    1.0      0.5   \n",
       "1               11            26             1         10.5    1.0      0.5   \n",
       "2              163           162             1          9.5    1.0      0.5   \n",
       "3              170           163             1         13.0    1.0      0.5   \n",
       "4              163           236             1         10.5    1.0      0.5   \n",
       "...            ...           ...           ...          ...    ...      ...   \n",
       "9995           238           239             1          8.0    3.5      0.5   \n",
       "9996           239           166             2          8.0    3.5      0.5   \n",
       "9997           166           152             2          5.0    1.0      0.5   \n",
       "9998           151            42             1         10.0    1.0      0.5   \n",
       "9999           237            68             1         19.0    3.5      0.5   \n",
       "\n",
       "      tip_amount  tolls_amount  improvement_surcharge  total_amount  \\\n",
       "0           7.98          6.12                    0.3         47.90   \n",
       "1           0.00          0.00                    0.3         12.30   \n",
       "2           2.00          0.00                    0.3         15.80   \n",
       "3           4.32          0.00                    0.3         21.62   \n",
       "4           0.50          0.00                    0.3         15.30   \n",
       "...          ...           ...                    ...           ...   \n",
       "9995        2.46          0.00                    0.3         14.76   \n",
       "9996        0.00          0.00                    0.3         12.30   \n",
       "9997        0.00          0.00                    0.3          6.80   \n",
       "9998        0.00          0.00                    0.3         11.80   \n",
       "9999        2.50          0.00                    0.3         25.80   \n",
       "\n",
       "      congestion_surcharge  \n",
       "0                      2.5  \n",
       "1                      0.0  \n",
       "2                      2.5  \n",
       "3                      2.5  \n",
       "4                      2.5  \n",
       "...                    ...  \n",
       "9995                   2.5  \n",
       "9996                   2.5  \n",
       "9997                   0.0  \n",
       "9998                   0.0  \n",
       "9999                   2.5  \n",
       "\n",
       "[10000 rows x 18 columns]"
      ]
     },
     "execution_count": 2,
     "metadata": {},
     "output_type": "execute_result"
    }
   ],
   "source": [
    "# Url do Github para acessar o arquivo: \n",
    "# https://raw.githubusercontent.com/stefmolin/pandas-workshop/main/data/2019_Yellow_Taxi_Trip_Data.csv\n",
    "\n",
    "import pandas as pd\n",
    "\n",
    "url = 'https://raw.githubusercontent.com/stefmolin/pandas-workshop/main/data/2019_Yellow_Taxi_Trip_Data.csv'\n",
    "\n",
    "taxi = pd.read_csv(url)\n",
    "taxi"
   ]
  },
  {
   "cell_type": "markdown",
   "id": "71878b65-28d9-4cb0-8da5-149a34865e3a",
   "metadata": {
    "id": "71878b65-28d9-4cb0-8da5-149a34865e3a",
    "tags": []
   },
   "source": [
    "##### 2. Ache as dimensões (número de linhas e colunas) dos dados:"
   ]
  },
  {
   "cell_type": "code",
   "execution_count": null,
   "id": "51598cbc-74f0-4447-9a24-6ac3634999cb",
   "metadata": {
    "colab": {
     "base_uri": "https://localhost:8080/"
    },
    "id": "51598cbc-74f0-4447-9a24-6ac3634999cb",
    "outputId": "157641f6-b803-4a78-fff7-6b31a3a95fdb"
   },
   "outputs": [
    {
     "data": {
      "text/plain": [
       "(10000, 18)"
      ]
     },
     "execution_count": 3,
     "metadata": {},
     "output_type": "execute_result"
    }
   ],
   "source": [
    "taxi.shape  # Retorna uma tupla com o número de linhas e colunas respectivamente"
   ]
  },
  {
   "cell_type": "markdown",
   "id": "39ca0eb6-5445-4301-922f-63b8cdeb86b9",
   "metadata": {
    "id": "39ca0eb6-5445-4301-922f-63b8cdeb86b9",
    "tags": []
   },
   "source": [
    "##### 3. Faça a sumarização estatística das colunas `fare_amount`, `tip_amount`, `tolls_amount`, e `total_amount`:"
   ]
  },
  {
   "cell_type": "code",
   "execution_count": null,
   "id": "26fb8364-8690-4938-9362-ae4e22f01eb1",
   "metadata": {
    "colab": {
     "base_uri": "https://localhost:8080/",
     "height": 175
    },
    "id": "26fb8364-8690-4938-9362-ae4e22f01eb1",
    "outputId": "f6e6c2fe-904e-4114-8a1a-9e1803754715"
   },
   "outputs": [
    {
     "data": {
      "text/html": [
       "\n",
       "  <div id=\"df-5482b293-e1cc-48ba-8eca-8a72d9717fc6\">\n",
       "    <div class=\"colab-df-container\">\n",
       "      <div>\n",
       "<style scoped>\n",
       "    .dataframe tbody tr th:only-of-type {\n",
       "        vertical-align: middle;\n",
       "    }\n",
       "\n",
       "    .dataframe tbody tr th {\n",
       "        vertical-align: top;\n",
       "    }\n",
       "\n",
       "    .dataframe thead th {\n",
       "        text-align: right;\n",
       "    }\n",
       "</style>\n",
       "<table border=\"1\" class=\"dataframe\">\n",
       "  <thead>\n",
       "    <tr style=\"text-align: right;\">\n",
       "      <th></th>\n",
       "      <th>count</th>\n",
       "      <th>mean</th>\n",
       "      <th>std</th>\n",
       "      <th>min</th>\n",
       "      <th>25%</th>\n",
       "      <th>50%</th>\n",
       "      <th>75%</th>\n",
       "      <th>max</th>\n",
       "    </tr>\n",
       "  </thead>\n",
       "  <tbody>\n",
       "    <tr>\n",
       "      <th>fare_amount</th>\n",
       "      <td>10000.0</td>\n",
       "      <td>15.106313</td>\n",
       "      <td>13.954762</td>\n",
       "      <td>-52.00</td>\n",
       "      <td>7.000</td>\n",
       "      <td>10.0</td>\n",
       "      <td>16.00</td>\n",
       "      <td>176.0</td>\n",
       "    </tr>\n",
       "    <tr>\n",
       "      <th>tip_amount</th>\n",
       "      <td>10000.0</td>\n",
       "      <td>2.634494</td>\n",
       "      <td>3.409800</td>\n",
       "      <td>0.00</td>\n",
       "      <td>0.000</td>\n",
       "      <td>2.0</td>\n",
       "      <td>3.25</td>\n",
       "      <td>43.0</td>\n",
       "    </tr>\n",
       "    <tr>\n",
       "      <th>tolls_amount</th>\n",
       "      <td>10000.0</td>\n",
       "      <td>0.623447</td>\n",
       "      <td>6.437507</td>\n",
       "      <td>-6.12</td>\n",
       "      <td>0.000</td>\n",
       "      <td>0.0</td>\n",
       "      <td>0.00</td>\n",
       "      <td>612.0</td>\n",
       "    </tr>\n",
       "    <tr>\n",
       "      <th>total_amount</th>\n",
       "      <td>10000.0</td>\n",
       "      <td>22.564659</td>\n",
       "      <td>19.209255</td>\n",
       "      <td>-65.92</td>\n",
       "      <td>12.375</td>\n",
       "      <td>16.3</td>\n",
       "      <td>22.88</td>\n",
       "      <td>671.8</td>\n",
       "    </tr>\n",
       "  </tbody>\n",
       "</table>\n",
       "</div>\n",
       "      <button class=\"colab-df-convert\" onclick=\"convertToInteractive('df-5482b293-e1cc-48ba-8eca-8a72d9717fc6')\"\n",
       "              title=\"Convert this dataframe to an interactive table.\"\n",
       "              style=\"display:none;\">\n",
       "        \n",
       "  <svg xmlns=\"http://www.w3.org/2000/svg\" height=\"24px\"viewBox=\"0 0 24 24\"\n",
       "       width=\"24px\">\n",
       "    <path d=\"M0 0h24v24H0V0z\" fill=\"none\"/>\n",
       "    <path d=\"M18.56 5.44l.94 2.06.94-2.06 2.06-.94-2.06-.94-.94-2.06-.94 2.06-2.06.94zm-11 1L8.5 8.5l.94-2.06 2.06-.94-2.06-.94L8.5 2.5l-.94 2.06-2.06.94zm10 10l.94 2.06.94-2.06 2.06-.94-2.06-.94-.94-2.06-.94 2.06-2.06.94z\"/><path d=\"M17.41 7.96l-1.37-1.37c-.4-.4-.92-.59-1.43-.59-.52 0-1.04.2-1.43.59L10.3 9.45l-7.72 7.72c-.78.78-.78 2.05 0 2.83L4 21.41c.39.39.9.59 1.41.59.51 0 1.02-.2 1.41-.59l7.78-7.78 2.81-2.81c.8-.78.8-2.07 0-2.86zM5.41 20L4 18.59l7.72-7.72 1.47 1.35L5.41 20z\"/>\n",
       "  </svg>\n",
       "      </button>\n",
       "      \n",
       "  <style>\n",
       "    .colab-df-container {\n",
       "      display:flex;\n",
       "      flex-wrap:wrap;\n",
       "      gap: 12px;\n",
       "    }\n",
       "\n",
       "    .colab-df-convert {\n",
       "      background-color: #E8F0FE;\n",
       "      border: none;\n",
       "      border-radius: 50%;\n",
       "      cursor: pointer;\n",
       "      display: none;\n",
       "      fill: #1967D2;\n",
       "      height: 32px;\n",
       "      padding: 0 0 0 0;\n",
       "      width: 32px;\n",
       "    }\n",
       "\n",
       "    .colab-df-convert:hover {\n",
       "      background-color: #E2EBFA;\n",
       "      box-shadow: 0px 1px 2px rgba(60, 64, 67, 0.3), 0px 1px 3px 1px rgba(60, 64, 67, 0.15);\n",
       "      fill: #174EA6;\n",
       "    }\n",
       "\n",
       "    [theme=dark] .colab-df-convert {\n",
       "      background-color: #3B4455;\n",
       "      fill: #D2E3FC;\n",
       "    }\n",
       "\n",
       "    [theme=dark] .colab-df-convert:hover {\n",
       "      background-color: #434B5C;\n",
       "      box-shadow: 0px 1px 3px 1px rgba(0, 0, 0, 0.15);\n",
       "      filter: drop-shadow(0px 1px 2px rgba(0, 0, 0, 0.3));\n",
       "      fill: #FFFFFF;\n",
       "    }\n",
       "  </style>\n",
       "\n",
       "      <script>\n",
       "        const buttonEl =\n",
       "          document.querySelector('#df-5482b293-e1cc-48ba-8eca-8a72d9717fc6 button.colab-df-convert');\n",
       "        buttonEl.style.display =\n",
       "          google.colab.kernel.accessAllowed ? 'block' : 'none';\n",
       "\n",
       "        async function convertToInteractive(key) {\n",
       "          const element = document.querySelector('#df-5482b293-e1cc-48ba-8eca-8a72d9717fc6');\n",
       "          const dataTable =\n",
       "            await google.colab.kernel.invokeFunction('convertToInteractive',\n",
       "                                                     [key], {});\n",
       "          if (!dataTable) return;\n",
       "\n",
       "          const docLinkHtml = 'Like what you see? Visit the ' +\n",
       "            '<a target=\"_blank\" href=https://colab.research.google.com/notebooks/data_table.ipynb>data table notebook</a>'\n",
       "            + ' to learn more about interactive tables.';\n",
       "          element.innerHTML = '';\n",
       "          dataTable['output_type'] = 'display_data';\n",
       "          await google.colab.output.renderOutput(dataTable, element);\n",
       "          const docLink = document.createElement('div');\n",
       "          docLink.innerHTML = docLinkHtml;\n",
       "          element.appendChild(docLink);\n",
       "        }\n",
       "      </script>\n",
       "    </div>\n",
       "  </div>\n",
       "  "
      ],
      "text/plain": [
       "                count       mean        std    min     25%   50%    75%    max\n",
       "fare_amount   10000.0  15.106313  13.954762 -52.00   7.000  10.0  16.00  176.0\n",
       "tip_amount    10000.0   2.634494   3.409800   0.00   0.000   2.0   3.25   43.0\n",
       "tolls_amount  10000.0   0.623447   6.437507  -6.12   0.000   0.0   0.00  612.0\n",
       "total_amount  10000.0  22.564659  19.209255 -65.92  12.375  16.3  22.88  671.8"
      ]
     },
     "execution_count": 7,
     "metadata": {},
     "output_type": "execute_result"
    }
   ],
   "source": [
    "taxi[['fare_amount', 'tip_amount', 'tolls_amount', 'total_amount']].describe().T"
   ]
  },
  {
   "cell_type": "markdown",
   "id": "8cbb68ca-1056-46fa-8efb-d4123874d674",
   "metadata": {
    "id": "8cbb68ca-1056-46fa-8efb-d4123874d674",
    "tags": []
   },
   "source": [
    "##### 4. Isole `fare_amount`, `tip_amount`, `tolls_amount`, e `total_amount` para a viagem mais longa (`trip_distance`):"
   ]
  },
  {
   "cell_type": "code",
   "execution_count": null,
   "id": "44cba726-3f79-4d96-a4dc-a07eeb316168",
   "metadata": {
    "colab": {
     "base_uri": "https://localhost:8080/"
    },
    "id": "44cba726-3f79-4d96-a4dc-a07eeb316168",
    "outputId": "d49dd250-2e5a-4c3e-ae7e-a89c830ba066"
   },
   "outputs": [
    {
     "data": {
      "text/plain": [
       "fare_amount      176.0\n",
       "tip_amount       18.29\n",
       "tolls_amount      6.12\n",
       "total_amount    201.21\n",
       "Name: 8338, dtype: object"
      ]
     },
     "execution_count": 4,
     "metadata": {},
     "output_type": "execute_result"
    }
   ],
   "source": [
    "taxi.loc[taxi['trip_distance'].idxmax(), ['fare_amount', 'tip_amount', 'tolls_amount', 'total_amount']]"
   ]
  },
  {
   "cell_type": "markdown",
   "id": "Es93sMJtyMmZ",
   "metadata": {
    "id": "Es93sMJtyMmZ"
   },
   "source": [
    "# Referências\n",
    "\n",
    "Link do repositório original - Git: https://github.com/stefmolin/pandas-workshop\n",
    "\n",
    "Notebook original - https://github.com/stefmolin/pandas-workshop/blob/main/notebooks/1-getting_started_with_pandas.ipynb"
   ]
  }
 ],
 "metadata": {
  "colab": {
   "provenance": []
  },
  "kernelspec": {
   "display_name": "Python 3 (ipykernel)",
   "language": "python",
   "name": "python3"
  },
  "language_info": {
   "codemirror_mode": {
    "name": "ipython",
    "version": 3
   },
   "file_extension": ".py",
   "mimetype": "text/x-python",
   "name": "python",
   "nbconvert_exporter": "python",
   "pygments_lexer": "ipython3",
   "version": "3.9.13"
  },
  "vscode": {
   "interpreter": {
    "hash": "916dbcbb3f70747c44a77c7bcd40155683ae19c65e1c03b4aa3499c5328201f1"
   }
  }
 },
 "nbformat": 4,
 "nbformat_minor": 5
}
