{
  "cells": [
    {
      "cell_type": "code",
      "execution_count": null,
      "id": "c47adc5c",
      "metadata": {
        "id": "c47adc5c",
        "outputId": "316245cf-cec9-4a46-85e4-a9dacf17d1d9",
        "colab": {
          "base_uri": "https://localhost:8080/"
        }
      },
      "outputs": [
        {
          "output_type": "stream",
          "name": "stdout",
          "text": [
            "39\n",
            "30\n",
            "27\n",
            "18\n"
          ]
        }
      ],
      "source": [
        "idade1 = 39\n",
        "idade2 = 30\n",
        "idade3 = 27\n",
        "idade4 = 18\n",
        "\n",
        "print(idade1)\n",
        "print(idade2)\n",
        "print(idade3)\n",
        "print(idade4)"
      ]
    },
    {
      "cell_type": "code",
      "execution_count": null,
      "id": "1d741994",
      "metadata": {
        "id": "1d741994",
        "outputId": "2e130a3c-a30e-4fcf-acf9-9a93fcf9ab36",
        "colab": {
          "base_uri": "https://localhost:8080/"
        }
      },
      "outputs": [
        {
          "output_type": "stream",
          "name": "stdout",
          "text": [
            "[39, 30, 27, 18]\n"
          ]
        },
        {
          "output_type": "execute_result",
          "data": {
            "text/plain": [
              "list"
            ]
          },
          "metadata": {},
          "execution_count": 2
        }
      ],
      "source": [
        "idades = [39,30,27,18]\n",
        "print(idades)\n",
        "type(idades)"
      ]
    },
    {
      "cell_type": "code",
      "execution_count": null,
      "id": "00bd6c3d",
      "metadata": {
        "id": "00bd6c3d",
        "outputId": "533b8e4d-ba9c-4d0e-e23c-9cf308f2df49",
        "colab": {
          "base_uri": "https://localhost:8080/"
        }
      },
      "outputs": [
        {
          "output_type": "execute_result",
          "data": {
            "text/plain": [
              "30"
            ]
          },
          "metadata": {},
          "execution_count": 3
        }
      ],
      "source": [
        "idades[1]"
      ]
    },
    {
      "cell_type": "code",
      "execution_count": null,
      "id": "76670837",
      "metadata": {
        "id": "76670837",
        "outputId": "b830292b-3836-4c8d-c733-30984a984d99",
        "colab": {
          "base_uri": "https://localhost:8080/"
        }
      },
      "outputs": [
        {
          "output_type": "execute_result",
          "data": {
            "text/plain": [
              "4"
            ]
          },
          "metadata": {},
          "execution_count": 4
        }
      ],
      "source": [
        "len(idades)"
      ]
    },
    {
      "cell_type": "code",
      "execution_count": null,
      "id": "9b803049",
      "metadata": {
        "id": "9b803049"
      },
      "outputs": [],
      "source": [
        "idades.append(15)"
      ]
    },
    {
      "cell_type": "code",
      "execution_count": null,
      "id": "e98f41cc",
      "metadata": {
        "id": "e98f41cc",
        "outputId": "1accfabe-96ae-4a0f-f61a-b423b08b3ecd",
        "colab": {
          "base_uri": "https://localhost:8080/"
        }
      },
      "outputs": [
        {
          "output_type": "stream",
          "name": "stdout",
          "text": [
            "39\n",
            "30\n",
            "27\n",
            "18\n",
            "15\n"
          ]
        }
      ],
      "source": [
        "for idade in idades:\n",
        "    print(idade)"
      ]
    },
    {
      "cell_type": "code",
      "execution_count": null,
      "id": "9d10f82a",
      "metadata": {
        "id": "9d10f82a"
      },
      "outputs": [],
      "source": [
        "idades.remove(30)"
      ]
    },
    {
      "cell_type": "code",
      "execution_count": null,
      "id": "9c40e84d",
      "metadata": {
        "id": "9c40e84d",
        "outputId": "ff81819e-fa3c-4869-d545-cbd199ce3938",
        "colab": {
          "base_uri": "https://localhost:8080/"
        }
      },
      "outputs": [
        {
          "output_type": "execute_result",
          "data": {
            "text/plain": [
              "[39, 27, 18, 15]"
            ]
          },
          "metadata": {},
          "execution_count": 8
        }
      ],
      "source": [
        "idades"
      ]
    },
    {
      "cell_type": "code",
      "execution_count": null,
      "id": "165c7489",
      "metadata": {
        "id": "165c7489",
        "outputId": "90ca7a51-99c0-475d-9afa-be0b40967e9e",
        "colab": {
          "base_uri": "https://localhost:8080/"
        }
      },
      "outputs": [
        {
          "output_type": "execute_result",
          "data": {
            "text/plain": [
              "[39, 27, 18, 15, 15]"
            ]
          },
          "metadata": {},
          "execution_count": 9
        }
      ],
      "source": [
        "idades.append(15)\n",
        "idades"
      ]
    },
    {
      "cell_type": "code",
      "execution_count": null,
      "id": "f1dcff0b",
      "metadata": {
        "id": "f1dcff0b",
        "outputId": "bc5aebec-efde-4b07-c5b4-8f10b2a3aeb0",
        "colab": {
          "base_uri": "https://localhost:8080/"
        }
      },
      "outputs": [
        {
          "output_type": "execute_result",
          "data": {
            "text/plain": [
              "[39, 27, 18, 15]"
            ]
          },
          "metadata": {},
          "execution_count": 10
        }
      ],
      "source": [
        "idades.remove(15)\n",
        "idades"
      ]
    },
    {
      "cell_type": "code",
      "execution_count": null,
      "id": "b4cb6c5f",
      "metadata": {
        "id": "b4cb6c5f",
        "outputId": "b62e5da8-d9fa-4c6b-ac90-ff881eaed113",
        "colab": {
          "base_uri": "https://localhost:8080/"
        }
      },
      "outputs": [
        {
          "output_type": "execute_result",
          "data": {
            "text/plain": [
              "[39, 27, 18, 15, 27]"
            ]
          },
          "metadata": {},
          "execution_count": 11
        }
      ],
      "source": [
        "idades.append(27)\n",
        "idades"
      ]
    },
    {
      "cell_type": "code",
      "execution_count": null,
      "id": "31a66509",
      "metadata": {
        "id": "31a66509",
        "outputId": "9bd23545-21af-47b1-f652-d01e6ae4c9ac",
        "colab": {
          "base_uri": "https://localhost:8080/"
        }
      },
      "outputs": [
        {
          "output_type": "execute_result",
          "data": {
            "text/plain": [
              "[39, 18, 15, 27]"
            ]
          },
          "metadata": {},
          "execution_count": 12
        }
      ],
      "source": [
        "idades.remove(27)\n",
        "idades"
      ]
    },
    {
      "cell_type": "code",
      "execution_count": null,
      "id": "6dcaa01f",
      "metadata": {
        "id": "6dcaa01f",
        "outputId": "240adf76-bcc5-4dc7-8608-c9c72f4deacf",
        "colab": {
          "base_uri": "https://localhost:8080/"
        }
      },
      "outputs": [
        {
          "output_type": "execute_result",
          "data": {
            "text/plain": [
              "False"
            ]
          },
          "metadata": {},
          "execution_count": 13
        }
      ],
      "source": [
        "28 in idades"
      ]
    },
    {
      "cell_type": "code",
      "execution_count": null,
      "id": "d5aab9dd",
      "metadata": {
        "id": "d5aab9dd",
        "outputId": "f597a47a-f613-4acf-dad6-0bbd3b3c5a00",
        "colab": {
          "base_uri": "https://localhost:8080/"
        }
      },
      "outputs": [
        {
          "output_type": "execute_result",
          "data": {
            "text/plain": [
              "True"
            ]
          },
          "metadata": {},
          "execution_count": 14
        }
      ],
      "source": [
        "15 in idades"
      ]
    },
    {
      "cell_type": "code",
      "execution_count": null,
      "id": "ef5745b3",
      "metadata": {
        "id": "ef5745b3"
      },
      "outputs": [],
      "source": [
        "if 15 in idades:\n",
        "    idades.remove(15)"
      ]
    },
    {
      "cell_type": "code",
      "execution_count": null,
      "id": "472ff274",
      "metadata": {
        "id": "472ff274",
        "outputId": "6708cc47-c643-45b2-c524-a444fc2c300c",
        "colab": {
          "base_uri": "https://localhost:8080/"
        }
      },
      "outputs": [
        {
          "output_type": "execute_result",
          "data": {
            "text/plain": [
              "[39, 18, 27]"
            ]
          },
          "metadata": {},
          "execution_count": 16
        }
      ],
      "source": [
        "idades"
      ]
    },
    {
      "cell_type": "code",
      "execution_count": null,
      "id": "c15e6ef8",
      "metadata": {
        "id": "c15e6ef8"
      },
      "outputs": [],
      "source": []
    }
  ],
  "metadata": {
    "kernelspec": {
      "display_name": "Python 3.8.10 64-bit",
      "language": "python",
      "name": "python3"
    },
    "language_info": {
      "codemirror_mode": {
        "name": "ipython",
        "version": 3
      },
      "file_extension": ".py",
      "mimetype": "text/x-python",
      "name": "python",
      "nbconvert_exporter": "python",
      "pygments_lexer": "ipython3",
      "version": "3.8.10"
    },
    "vscode": {
      "interpreter": {
        "hash": "916dbcbb3f70747c44a77c7bcd40155683ae19c65e1c03b4aa3499c5328201f1"
      }
    },
    "colab": {
      "provenance": [],
      "collapsed_sections": []
    }
  },
  "nbformat": 4,
  "nbformat_minor": 5
}