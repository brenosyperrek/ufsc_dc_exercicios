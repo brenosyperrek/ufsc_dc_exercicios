{
  "cells": [
    {
      "cell_type": "markdown",
      "metadata": {
        "id": "view-in-github",
        "colab_type": "text"
      },
      "source": [
        "<a href=\"https://colab.research.google.com/github/brenosyperrek/ufsc_dc_exercicios/blob/main/Data_Split_and_Evaluation_Metrics.ipynb\" target=\"_parent\"><img src=\"https://colab.research.google.com/assets/colab-badge.svg\" alt=\"Open In Colab\"/></a>"
      ]
    },
    {
      "cell_type": "code",
      "execution_count": null,
      "id": "7cbeeca8",
      "metadata": {
        "id": "7cbeeca8"
      },
      "outputs": [],
      "source": [
        "import pandas as pd\n",
        "import numpy as np\n",
        "import matplotlib.pyplot as plt  \n",
        "import seaborn as sns  \n",
        "\n",
        "from sklearn.datasets import load_iris\n",
        "from sklearn.model_selection import train_test_split\n",
        "from sklearn.preprocessing import StandardScaler\n",
        "\n",
        "import warnings\n",
        "warnings.filterwarnings('ignore')"
      ]
    },
    {
      "cell_type": "markdown",
      "id": "7dec9f3d",
      "metadata": {
        "id": "7dec9f3d"
      },
      "source": [
        "Federal University of Santa Catarina (UFSC)\n",
        "\n",
        "Computer Science Graduate Program (PPGCC)\n",
        "\n",
        "\n",
        "# INE410416 - Applied Machine Learning\n",
        "## Lecture 9a - Data Split and Evaluation Metrics\n",
        "#### Prof. Dr. Jônata Tyska Carvalho\n",
        "#### Prof. Dr. Mateus Grellert da Silva"
      ]
    },
    {
      "cell_type": "markdown",
      "id": "380c499c",
      "metadata": {
        "id": "380c499c"
      },
      "source": [
        "<font size=\"10\"> The General Framework for Supervised Learning </font>\n",
        "\n",
        "<img src=\"https://inf.ufsc.br/~jonata.tyska/lectureImages/general_classification_framework.png\" width=\"40%\" />\n",
        "\n",
        "Tan, P. N., Steinbach, M., & Kumar, V. (2016). Introduction to data mining. Pearson Education India. \n"
      ]
    },
    {
      "cell_type": "markdown",
      "id": "7cde52ba",
      "metadata": {
        "id": "7cde52ba"
      },
      "source": [
        "<font size=\"10\"> Outline </font>\n",
        "\n",
        "<font size=\"5\">\n",
        "    \n",
        "- Why data split?\n",
        "- Basic concepts and methods  \n",
        "    - Holdout\n",
        "    - Cross-validation\n",
        "- Evaluation metrics for Classification\n",
        "    - Confusion Matrix\n",
        "    - Accuracy, precision, recall and F1-Score\n",
        "    - ROC/AUC and PR Curve\n",
        "- Evaluation metrics for Regression\n",
        "       \n",
        "</font>\n"
      ]
    },
    {
      "cell_type": "markdown",
      "id": "25f9bf9d",
      "metadata": {
        "id": "25f9bf9d"
      },
      "source": [
        "<font size=\"10\"> Why data split? </font>\n",
        "\n",
        "As we know, the main **Predictive modelling goal** is building a model capable of predicting the outcome variable based on input features of new/unseen data.\n",
        "\n",
        "- **Training error**: commited on the training set;\n",
        "- **Test error**: commited on the test set;\n",
        "- **Generalization error**: expected error in production (real data);"
      ]
    },
    {
      "cell_type": "markdown",
      "id": "163e1c4e",
      "metadata": {
        "id": "163e1c4e"
      },
      "source": [
        "Remeber that the training error is not a good estimate of the model's performance, i. e. its generalization capacity."
      ]
    },
    {
      "cell_type": "markdown",
      "id": "7bac2046",
      "metadata": {
        "id": "7bac2046"
      },
      "source": [
        "<font size=\"10\"> Example Data Set</font>\n",
        "\n",
        "<img src=\"https://inf.ufsc.br/~jonata.tyska/lectureImages/example_dataset.png\" width=\"70%\" />\n",
        "\n",
        "Tan, P. N., Steinbach, M., & Kumar, V. (2016). Introduction to data mining. Pearson Education India."
      ]
    },
    {
      "cell_type": "markdown",
      "id": "f562d077",
      "metadata": {
        "id": "f562d077"
      },
      "source": [
        "<font size=\"10\"> Decision tree # of nodes X training error</font>\n",
        "\n",
        "<img src=\"https://inf.ufsc.br/~jonata.tyska/lectureImages/example_dataset2.png\" width=\"60%\" />\n",
        "\n",
        "Tan, P. N., Steinbach, M., & Kumar, V. (2016). Introduction to data mining. Pearson Education India."
      ]
    },
    {
      "cell_type": "markdown",
      "id": "3293dc70",
      "metadata": {
        "id": "3293dc70"
      },
      "source": [
        "<font size=\"10\"> A tree with four nodes</font>\n",
        "\n",
        "<img src=\"https://inf.ufsc.br/~jonata.tyska/lectureImages/example_dataset3.png\" width=\"60%\" />\n",
        "\n",
        "Tan, P. N., Steinbach, M., & Kumar, V. (2016). Introduction to data mining. Pearson Education India."
      ]
    },
    {
      "cell_type": "markdown",
      "id": "a2f9a03e",
      "metadata": {
        "id": "a2f9a03e"
      },
      "source": [
        "<font size=\"10\"> A tree with fifty nodes</font>\n",
        "\n",
        "<img src=\"https://inf.ufsc.br/~jonata.tyska/lectureImages/example_dataset4.png\" width=\"60%\" />\n",
        "\n",
        "Tan, P. N., Steinbach, M., & Kumar, V. (2016). Introduction to data mining. Pearson Education India."
      ]
    },
    {
      "cell_type": "markdown",
      "id": "049522b1",
      "metadata": {
        "id": "049522b1"
      },
      "source": [
        "<font size=\"10\"> Which is better? </font>\n",
        "\n",
        "<img src=\"https://inf.ufsc.br/~jonata.tyska/lectureImages/example_dataset5.png\" width=\"60%\" />\n",
        "\n",
        "Tan, P. N., Steinbach, M., & Kumar, V. (2016). Introduction to data mining. Pearson Education India."
      ]
    },
    {
      "cell_type": "markdown",
      "id": "0fd1d3d9",
      "metadata": {
        "id": "0fd1d3d9"
      },
      "source": [
        "<font size=\"10\"> Test error increases and training error decreases </font>\n",
        "\n",
        "<img src=\"https://inf.ufsc.br/~jonata.tyska/lectureImages/example_dataset6.png\" width=\"80%\" />\n",
        "\n",
        "**Underfitting:** when model is too simple, both errors are large\n",
        "\n",
        "**Overfitting:** model is too complex, training error small but test error is large\n",
        "\n",
        "Tan, P. N., Steinbach, M., & Kumar, V. (2016). Introduction to data mining. Pearson Education India."
      ]
    },
    {
      "cell_type": "markdown",
      "id": "235b4546",
      "metadata": {
        "id": "235b4546"
      },
      "source": [
        "<font size=\"10\"> Training on more data can reduce overfitting </font>\n",
        "\n",
        "<img src=\"https://inf.ufsc.br/~jonata.tyska/lectureImages/example_dataset7.png\" width=\"80%\" />\n",
        "\n",
        "\n",
        "\n",
        "Tan, P. N., Steinbach, M., & Kumar, V. (2016). Introduction to data mining. Pearson Education India."
      ]
    },
    {
      "cell_type": "markdown",
      "id": "4bd16f3a",
      "metadata": {
        "id": "4bd16f3a"
      },
      "source": [
        "<font size=\"10\"> Reasons for model overfitting </font>\n",
        "\n",
        "- **Limited Training Size:** patterns learned do not fully represent the real data\n",
        "- **High Model Complexity:** overly complex model has a tendency to learn specific patterns in the training set\n",
        "\n",
        "So splitting the dataset is a way to estimate performance of a model on previously unseen data (**test set**). Hyper-parameter tuning is done on the **validation set** (or using cross validation)."
      ]
    },
    {
      "cell_type": "markdown",
      "id": "70c33ee2",
      "metadata": {
        "id": "70c33ee2"
      },
      "source": [
        "<font size=\"10\"> Data split - holdout </font>\n",
        "\n",
        "<img src=\"https://www.upgrad.com/blog/wp-content/uploads/2020/01/data-preprocessing-machine-learning-5.png\" width=\"70%\">\n",
        "\n",
        "image source: https://www.upgrad.com/blog/data-preprocessing-in-machine-learning/"
      ]
    },
    {
      "cell_type": "markdown",
      "id": "d9523852",
      "metadata": {
        "id": "d9523852"
      },
      "source": [
        "<font size=\"10\"> Data split - holdout </font>\n",
        "\n",
        "<img src=\"https://external-content.duckduckgo.com/iu/?u=https%3A%2F%2Fwww.bualabs.com%2Fwp-content%2Fuploads%2F2019%2F07%2Ftrain-validation-test-split-data-1.jpg&f=1&nofb=1\" width=\"70%\">\n",
        "\n",
        "image source: https://www.bualabs.com/archives/532/what-is-training-set-why-train-test-split-training-set-validation-set-test-set/"
      ]
    },
    {
      "cell_type": "markdown",
      "id": "f03a52fe",
      "metadata": {
        "id": "f03a52fe"
      },
      "source": [
        "<font size=\"10\"> Holdout </font>\n",
        "\n",
        "- Reserve k% for training and (100-k)% for testing\n",
        "- for hyper-parameter tuning either divide the training again (a new holdout) or use cross-validation\n",
        "- What proportion to use? Historically 2/3 for training and 1/3 for testing, however it is not a hard rule\n",
        "\n",
        "   --> for very small datasets it may not be feasible to *lose* data for building the model, it might lead to overfitting\n",
        "   \n",
        "   --> for huge datasets, 1/3 may be too much data for testing\n",
        "   \n",
        "   --> too small test sets can lead to a not reliable generalization performance estimate, different partitioning will lead to rather different results"
      ]
    },
    {
      "cell_type": "code",
      "execution_count": null,
      "id": "0894efe7",
      "metadata": {
        "id": "0894efe7"
      },
      "outputs": [],
      "source": [
        "import pandas as pd\n",
        "import numpy as np\n",
        "from sklearn import datasets\n",
        "from sklearn.model_selection import train_test_split\n",
        "\n",
        "FEATURE_NAMES = ['Sepal Length', 'Sepal Width', 'Petal Length', 'Petal Width']\n",
        "\n",
        "iris = datasets.load_iris()\n",
        "X = pd.DataFrame(iris.data, columns = FEATURE_NAMES)\n",
        "y = iris.target\n",
        "X_train, X_test, y_train, y_test = train_test_split(X, y, test_size=0.33, random_state=100,stratify=y)"
      ]
    },
    {
      "cell_type": "code",
      "execution_count": null,
      "id": "fc13a583",
      "metadata": {
        "id": "fc13a583",
        "outputId": "b60be478-d5be-4814-e444-753e43d330bd"
      },
      "outputs": [
        {
          "name": "stdout",
          "output_type": "stream",
          "text": [
            "Training accuracy = 100.0% - Test accuracy = 92.0%\n"
          ]
        }
      ],
      "source": [
        "from sklearn.tree import DecisionTreeClassifier\n",
        "model = DecisionTreeClassifier(criterion='gini')\n",
        "model.fit(X_train,y_train)\n",
        "\n",
        "accuracy_train = sum(model.predict(X_train)==y_train)/len(y_train)\n",
        "accuracy_test = sum(model.predict(X_test)==y_test)/len(y_test)\n",
        "print(f\"Training accuracy = {accuracy_train*100}% - Test accuracy = {accuracy_test*100}%\")"
      ]
    },
    {
      "cell_type": "markdown",
      "id": "e3d0650d",
      "metadata": {
        "id": "e3d0650d"
      },
      "source": [
        "<font size=\"10\"> Repeated Holdout </font>\n",
        "\n",
        "- also called random subsubsampling\n",
        "- Repeat holdout several times\n",
        "    - instances can appear more than once on training/test sets on different repetitions\n",
        "    - main difference from k-fold cross validation\n",
        "- Indicated when different partitioning lead to high variance on the generalization estimate\n"
      ]
    },
    {
      "cell_type": "markdown",
      "id": "589dc6b4",
      "metadata": {
        "id": "589dc6b4"
      },
      "source": [
        "<font size=\"10\"> k-fold cross-validation </font>\n",
        "\n",
        "<img src=\"https://scikit-learn.org/stable/_images/grid_search_cross_validation.png\" width=\"50%\">\n",
        "\n",
        "image source: https://scikit-learn.org/stable/modules/cross_validation.html\n"
      ]
    },
    {
      "cell_type": "markdown",
      "id": "ce27ea44",
      "metadata": {
        "id": "ce27ea44"
      },
      "source": [
        "<font size=\"10\"> k-fold cross-validation </font>\n",
        "\n",
        "- partition data into k disjoint subset\n",
        "- k-fold: train on k-1 partitions, test on the remaining one\n",
        "- the smaller the k, the smaller the training set: usually a larger generalization error\n",
        "- the larger the k, the larger the training set: reduced bias in the generalization error\n",
        "- extreme case: leave-one-out - k=data set size (N)\n"
      ]
    },
    {
      "cell_type": "code",
      "execution_count": null,
      "id": "cb2392a4",
      "metadata": {
        "id": "cb2392a4"
      },
      "outputs": [],
      "source": [
        "from sklearn import preprocessing\n",
        "\n",
        "url = \"https://archive.ics.uci.edu/ml/machine-learning-databases/iris/iris.data\"\n",
        "\n",
        "# Assign colum names to the dataset\n",
        "names = ['sepal-length', 'sepal-width', 'petal-length', 'petal-width', 'Class']\n",
        "\n",
        "# Read dataset to pandas dataframe\n",
        "dataset = pd.read_csv(url, names=names)\n",
        "\n",
        "X = dataset.iloc[:, :-1].values\n",
        "y = pd.DataFrame(dataset.iloc[:, 4].values,columns=['Class'])\n",
        "\n",
        "#label encoder - categorical to numeric - the sklearn libreary internally converts to one hot encoding\n",
        "le = preprocessing.LabelEncoder()\n",
        "y = y.apply(le.fit_transform)\n",
        "\n",
        "X_train, X_test, y_train, y_test = train_test_split(X, y, test_size=0.33, random_state=99,stratify=y)"
      ]
    },
    {
      "cell_type": "code",
      "execution_count": null,
      "id": "850c4458",
      "metadata": {
        "id": "850c4458"
      },
      "outputs": [],
      "source": [
        "from sklearn.preprocessing import StandardScaler\n",
        "scaler = StandardScaler()\n",
        "scaler.fit(X_train)\n",
        "\n",
        "X_train = scaler.transform(X_train)\n",
        "X_test = scaler.transform(X_test)"
      ]
    },
    {
      "cell_type": "code",
      "execution_count": null,
      "id": "0ebb3ec2",
      "metadata": {
        "id": "0ebb3ec2",
        "outputId": "aa745652-2e70-4a35-9367-e7b91fab8ffb"
      },
      "outputs": [
        {
          "name": "stdout",
          "output_type": "stream",
          "text": [
            "Accuracy 32.0%\n"
          ]
        }
      ],
      "source": [
        "from sklearn.neural_network import MLPClassifier\n",
        "\n",
        "mlp = MLPClassifier(hidden_layer_sizes=(2,2),max_iter=3000,random_state=171)\n",
        "mlp.fit(X_train, y_train.values.ravel())\n",
        "accuracy = sum(mlp.predict(X_test)==y_test.values.ravel())/len(y_test.values.ravel())\n",
        "print(f\"Accuracy {accuracy*100}%\")"
      ]
    },
    {
      "cell_type": "code",
      "execution_count": null,
      "id": "f7d7d72a",
      "metadata": {
        "id": "f7d7d72a",
        "outputId": "d332d358-9240-495c-8862-e4a1626a68b1"
      },
      "outputs": [
        {
          "name": "stdout",
          "output_type": "stream",
          "text": [
            "Testing architecture (1, 3)\n",
            "[0.7 0.7 0.7 0.6 0.6 0.6 0.7 0.7 0.7 0.7]\n",
            "Average accuracy:  0.6699999999999999\n",
            "Testing architecture (1, 5, 2)\n",
            "[0.6 0.6 0.6 0.6 0.6 0.6 0.7 0.7 0.7 0.8]\n",
            "Average accuracy:  0.65\n",
            "Testing architecture (3, 3)\n",
            "[1.  0.9 0.9 1.  0.8 1.  0.9 1.  1.  1. ]\n",
            "Average accuracy:  0.95\n",
            "Testing architecture (5, 1)\n",
            "[0.3 0.3 0.3 0.3 0.3 0.3 0.4 0.4 0.4 0.4]\n",
            "Average accuracy:  0.33999999999999997\n",
            "Testing architecture (1, 5)\n",
            "[0.6 0.6 0.6 0.7 0.7 0.8 0.7 0.7 0.7 0.8]\n",
            "Average accuracy:  0.6900000000000001\n"
          ]
        }
      ],
      "source": [
        "#example of hyper-params optimization using k-fold cross-validation\n",
        "from sklearn.model_selection import cross_val_score\n",
        "\n",
        "test_arch = [(1,3),(1,5,2),(3,3),(5,1),(1,5)]\n",
        "\n",
        "for arch in test_arch:\n",
        "    print(f\"Testing architecture {arch}\")\n",
        "    model = MLPClassifier(hidden_layer_sizes=arch, random_state=1, max_iter=2000)\n",
        "    accuracy = cross_val_score(model, X_train, y_train.values.ravel(), cv = 10)\n",
        "    print(accuracy)\n",
        "    print(\"Average accuracy: \",accuracy.mean())"
      ]
    },
    {
      "cell_type": "markdown",
      "id": "bbab77ef",
      "metadata": {
        "id": "bbab77ef"
      },
      "source": [
        "<font size=\"10\"> cross-validation variations</font>\n",
        "\n",
        "- repeated cross-validation: perform CV a number of times\n",
        "    - gives an estimate of the variance of the generalization error\n",
        "- stratified cross-validation (see <a href=\"https://scikit-learn.org/stable/modules/generated/sklearn.model_selection.StratifiedKFold.html\"> StratifiedKFold</a>)\n",
        "   - guaranteee the same percentage of class labels in training and test\n",
        "   - important when classes are imbalanced and the sample is small\n",
        "   - **careful**: when using techniques for dealing with class imbalance, use them **after** splitting the dataset \n",
        "     (for a detailed analysis see this <a href=\"https://towardsdatascience.com/proper-balancing-for-cross-validation-d95c17ff0ab4\" target=\"_blank\">medium article</a>)"
      ]
    },
    {
      "cell_type": "markdown",
      "id": "104be5cd",
      "metadata": {
        "id": "104be5cd"
      },
      "source": [
        "<font size=\"10\"> Nested cross-validation </font>\n",
        "\n",
        "<img src=\"https://editor.analyticsvidhya.com/uploads/95408nested.PNG\" width=\"50%\">\n",
        "\n",
        "k-fold cross-validation tends to be overly optimistic when optimizing hyper-parameters\n",
        "\n",
        "source: https://www.analyticsvidhya.com/blog/2021/03/a-step-by-step-guide-to-nested-cross-validation/\n"
      ]
    },
    {
      "cell_type": "markdown",
      "id": "8aebe322",
      "metadata": {
        "id": "8aebe322"
      },
      "source": [
        "<font size=\"10\"> 12 Takeaways: Setting up development and test sets </font>\n",
        "\n",
        "1. Choose dev and test sets from a distribution that reflects what data you expect to get in the future and want to do well on. This may not be the same as your training data’s distribution.\n",
        "2. Choose dev and test sets from the same distribution if possible.\n"
      ]
    },
    {
      "cell_type": "markdown",
      "id": "c7d98b19",
      "metadata": {
        "id": "c7d98b19"
      },
      "source": [
        "<font size=\"10\"> 12 Takeaways: Setting up development and test sets </font>\n",
        "\n",
        "3. Choose a single-number evaluation metric for your team to optimize. If there are multiple goals that you care about, consider combining them into a single formula (such as averaging multiple error metrics) or defining satisficing and optimizing metrics.\n",
        "4. Machine learning is a highly iterative process: You may try many dozens of ideas before finding one that you’re satisfied with."
      ]
    },
    {
      "cell_type": "markdown",
      "id": "a070f430",
      "metadata": {
        "id": "a070f430"
      },
      "source": [
        "<font size=\"10\"> 12 Takeaways: Setting up development and test sets </font>\n",
        "\n",
        "5. Having dev/test sets and a single-number evaluation metric helps you quickly evaluate algorithms, and therefore iterate faster.\n",
        "6. When starting out on a brand new application, try to establish dev/test sets and a metric quickly, say in less than a week. It might be okay to take longer on mature applications."
      ]
    },
    {
      "cell_type": "markdown",
      "id": "0ed18b6a",
      "metadata": {
        "id": "0ed18b6a"
      },
      "source": [
        "<font size=\"10\"> 12 Takeaways: Setting up development and test sets </font>\n",
        "\n",
        "7. The old heuristic of a 70%/30% train/test split does not apply for problems where you have lots of data; the dev and test sets can be much less than 30% of the data.\n",
        "8. Your dev set should be large enough to detect meaningful changes in the accuracy of your algorithm, but not necessarily much larger. Your test set should be big enough to give you a confident estimate of the final performance of your system."
      ]
    },
    {
      "cell_type": "markdown",
      "id": "bff2b56a",
      "metadata": {
        "id": "bff2b56a"
      },
      "source": [
        "<font size=\"10\"> 12 Takeaways: Setting up development and test sets </font>\n",
        "\n",
        "9. If your dev set and metric are no longer pointing your team in the right direction, quickly change them: \n",
        "   - 10: If you had overfit the dev set, get more dev set data. \n",
        "   - 11: If the actual distribution you care about is different from the dev/test set distribution, get new dev/test set data. \n",
        "   - 12: If your metric is no longer measuring what is most important to you, change the metric.\n"
      ]
    },
    {
      "cell_type": "markdown",
      "id": "fd2d9212",
      "metadata": {
        "id": "fd2d9212"
      },
      "source": [
        "<font size=\"10\"> Evaluation Metrics for Classification </font>\n",
        "\n",
        "<img src=\"https://inf.ufsc.br/~jonata.tyska/lectureImages/types_error.png\" width=\"60%\">"
      ]
    },
    {
      "cell_type": "markdown",
      "id": "f3df82c9",
      "metadata": {
        "id": "f3df82c9"
      },
      "source": [
        "<img src=\"https://inf.ufsc.br/~jonata.tyska/lectureImages/types_error.png\" width=\"30%\">\n",
        "\n",
        "- Evalution metrics show the direction (usually true for all areas)\n",
        "- They are closer to the application than the cost function\n",
        "- They are important for \"debugging\" your application"
      ]
    },
    {
      "cell_type": "markdown",
      "id": "223fd4b0",
      "metadata": {
        "id": "223fd4b0"
      },
      "source": [
        "<font size=\"10\"> Confusion matrix </font>\n",
        "\n",
        "Very important tool for evaluating classification models\n",
        "\n",
        "<img src=\"https://inf.ufsc.br/~jonata.tyska/lectureImages/confusion_matrix.png\" width=\"60%\">\n",
        "\n",
        "Image source: <a href=\"https://en.wikipedia.org/wiki/Precision_and_recall\"> wikipedia </a>"
      ]
    },
    {
      "cell_type": "markdown",
      "id": "241db1a9",
      "metadata": {
        "id": "241db1a9"
      },
      "source": [
        "<font size=\"10\"> There are several metrics </font>\n",
        "\n",
        "<img src=\"https://inf.ufsc.br/~jonata.tyska/lectureImages/metrics_table.png\" width=\"80%\">\n",
        "\n",
        "Image source: <a href=\"https://en.wikipedia.org/wiki/Precision_and_recall\"> wikipedia </a>"
      ]
    },
    {
      "cell_type": "markdown",
      "id": "35900a78",
      "metadata": {
        "id": "35900a78"
      },
      "source": [
        "<img src=\"https://inf.ufsc.br/~jonata.tyska/lectureImages/confusion_matrix.png\" width=\"60%\">\n",
        "\n",
        "<img src=\"https://wikimedia.org/api/rest_v1/media/math/render/svg/e2e427ec6dcf2d7882c3bbdc659a8204cba59dcc\" width=\"60%\">\n",
        "\n",
        "\n",
        "Image source: <a href=\"https://wikimedia.org/api/rest_v1/media/math/render/svg/e2e427ec6dcf2d7882c3bbdc659a8204cba59dcc\"> wikipedia </a>"
      ]
    },
    {
      "cell_type": "markdown",
      "id": "c359a8a8",
      "metadata": {
        "id": "c359a8a8"
      },
      "source": [
        "<img src=\"https://wikimedia.org/api/rest_v1/media/math/render/svg/e2e427ec6dcf2d7882c3bbdc659a8204cba59dcc\" width=\"60%\">\n",
        "\n",
        "- can be misleading when dealing with imbalanced data\n",
        "  - ex: 5 positive samples and 95 negative samples (rare disease) in a dataset can lead to the training of useless models with 95% of accuracy\n",
        "\n",
        "Image source: <a href=\"https://wikimedia.org/api/rest_v1/media/math/render/svg/e2e427ec6dcf2d7882c3bbdc659a8204cba59dcc\"> wikipedia </a>"
      ]
    },
    {
      "cell_type": "markdown",
      "id": "4f1556db",
      "metadata": {
        "id": "4f1556db"
      },
      "source": [
        "<img src=\"https://inf.ufsc.br/~jonata.tyska/lectureImages/confusion_matrix.png\" width=\"60%\">\n",
        "\n",
        "For imbalanced data, precision and recall are more indicated:\n",
        "\n",
        "<img src=\"https://wikimedia.org/api/rest_v1/media/math/render/svg/d37e557b5bfc8de22afa8aad1c187a357ac81bdb\" width=\"40%\">\n",
        "\n",
        "\n",
        "\n",
        "Image source: <a href=\"https://wikimedia.org/api/rest_v1/media/math/render/svg/d37e557b5bfc8de22afa8aad1c187a357ac81bdb\"> wikipedia </a>"
      ]
    },
    {
      "cell_type": "markdown",
      "id": "a6ad6ffb",
      "metadata": {
        "id": "a6ad6ffb"
      },
      "source": [
        "<img src=\"https://wikimedia.org/api/rest_v1/media/math/render/svg/d37e557b5bfc8de22afa8aad1c187a357ac81bdb\" width=\"40%\">\n",
        "\n",
        "- Precision is also called **positive predictive value**\n",
        "- Recall is also called **true positive rate** or **sensitivity**\n",
        "\n",
        "In the previous example of imbalanced data, precision and recall would be 0. Note that if the model now always predicts positive class based on any input data, it will have 100% recall but close to zero precision.\n",
        "\n",
        "Image source: <a href=\"https://wikimedia.org/api/rest_v1/media/math/render/svg/d37e557b5bfc8de22afa8aad1c187a357ac81bdb\"> wikipedia </a>"
      ]
    },
    {
      "cell_type": "markdown",
      "id": "46a03c92",
      "metadata": {
        "id": "46a03c92"
      },
      "source": [
        "Since balance between Precision and Recall is usually required, an important metric is the F-score. The harmonic mean between Precision and Recall.\n",
        "\n",
        "<img src=\"https://wikimedia.org/api/rest_v1/media/math/render/svg/dd577aee2dd35c5b0e349327528a5ac606c7bbbf\" width=\"40%\">\n",
        "\n",
        "\n",
        "Image source: <a href=\"https://wikimedia.org/api/rest_v1/media/math/render/svg/d37e557b5bfc8de22afa8aad1c187a357ac81bdb\"> wikipedia </a>"
      ]
    },
    {
      "cell_type": "markdown",
      "id": "81549068",
      "metadata": {
        "id": "81549068"
      },
      "source": [
        "Actually the previous equation is a special case (F1-Score) of a more general F-score that allows assigning different weights to Precision and Recall.\n",
        "\n",
        "<img src=\"https://wikimedia.org/api/rest_v1/media/math/render/svg/49d1ff4917ee4c464f6efbee08735b4a8694e8c0\" width=\"40%\">\n",
        "\n",
        "So, F2-score gives more importance to Recall, and F0.5 gives more importance to precision.\n",
        "\n",
        "Image source: <a href=\"https://wikimedia.org/api/rest_v1/media/math/render/svg/d37e557b5bfc8de22afa8aad1c187a357ac81bdb\"> wikipedia </a>"
      ]
    },
    {
      "cell_type": "code",
      "execution_count": null,
      "id": "b3bc6665",
      "metadata": {
        "id": "b3bc6665",
        "outputId": "ee40eee0-4d4f-476d-816c-ce23a1fd1ab4"
      },
      "outputs": [
        {
          "name": "stdout",
          "output_type": "stream",
          "text": [
            "Accuracy 98.0%\n"
          ]
        }
      ],
      "source": [
        "### same iris example using the optimized parameters\n",
        "mlp = MLPClassifier(hidden_layer_sizes=(3,3),max_iter=3000,random_state=171)\n",
        "mlp.fit(X_train, y_train.values.ravel())\n",
        "y_pred = mlp.predict(X_test)\n",
        "accuracy = sum(y_pred==y_test.values.ravel())/len(y_test.values.ravel())\n",
        "print(f\"Accuracy {accuracy*100}%\")"
      ]
    },
    {
      "cell_type": "code",
      "execution_count": null,
      "id": "8e6b1d4a",
      "metadata": {
        "scrolled": true,
        "id": "8e6b1d4a",
        "outputId": "3b344f80-2fd4-46d8-9894-f6c259d5dacd"
      },
      "outputs": [
        {
          "name": "stdout",
          "output_type": "stream",
          "text": [
            "[[16  0  0]\n",
            " [ 0 16  1]\n",
            " [ 0  0 17]]\n",
            "              precision    recall  f1-score   support\n",
            "\n",
            "           0       1.00      1.00      1.00        16\n",
            "           1       1.00      0.94      0.97        17\n",
            "           2       0.94      1.00      0.97        17\n",
            "\n",
            "    accuracy                           0.98        50\n",
            "   macro avg       0.98      0.98      0.98        50\n",
            "weighted avg       0.98      0.98      0.98        50\n",
            "\n"
          ]
        }
      ],
      "source": [
        "from sklearn.metrics import classification_report, confusion_matrix\n",
        "print(confusion_matrix(y_test, y_pred))\n",
        "print(classification_report(y_test, y_pred))"
      ]
    },
    {
      "cell_type": "code",
      "execution_count": null,
      "id": "1f458678",
      "metadata": {
        "id": "1f458678",
        "outputId": "9ca2265b-fa89-4218-8d10-fef568bc18ad"
      },
      "outputs": [
        {
          "data": {
            "text/plain": [
              "<AxesSubplot:>"
            ]
          },
          "execution_count": 229,
          "metadata": {},
          "output_type": "execute_result"
        },
        {
          "data": {
            "image/png": "[encoded data removed]",
            "text/plain": [
              "<Figure size 432x288 with 2 Axes>"
            ]
          },
          "metadata": {
            "needs_background": "light"
          },
          "output_type": "display_data"
        }
      ],
      "source": [
        "import seaborn as sns\n",
        "sns.heatmap(confusion_matrix(y_test, y_pred),annot=True)"
      ]
    },
    {
      "cell_type": "markdown",
      "id": "f120bc10",
      "metadata": {
        "id": "f120bc10"
      },
      "source": [
        "<font size=\"10\"> Aggregate evaluation of performance </font>\n",
        "\n",
        "- A classification model usually provides a score that a given instance belongs to a certain class. By using a threshold the class of this instance is defined.\n",
        "- Two tools useful for defining the threshold are: ROC and PR Curves (and AUC metrics)"
      ]
    },
    {
      "cell_type": "markdown",
      "id": "2efa4cc5",
      "metadata": {
        "id": "2efa4cc5"
      },
      "source": [
        "Another important metrics for understanding the ROC curve...\n",
        "\n",
        "**True negative rate** or **specificity** (also called negative recall)\n",
        "\n",
        "<img src=\"https://wikimedia.org/api/rest_v1/media/math/render/svg/8f2c867f0641e498ec8a59de63697a3a45d66b07\" width=\"40%\">\n",
        "\n",
        "**False positive rate**\n",
        "\n",
        "<img src=\"https://wikimedia.org/api/rest_v1/media/math/render/svg/422d06161964ca90602ec8712cd211cb0d80da19\" width=\"40%\">"
      ]
    },
    {
      "cell_type": "markdown",
      "id": "e1ba0eed",
      "metadata": {
        "id": "e1ba0eed"
      },
      "source": [
        "<font size=\"10\"> Generating the ROC Curve... </font>\n",
        "\n",
        "<img src=\"https://inf.ufsc.br/~jonata.tyska/lectureImages/threshold_scanning.png\" width=\"70%\">\n"
      ]
    },
    {
      "cell_type": "markdown",
      "id": "3de702ad",
      "metadata": {
        "id": "3de702ad"
      },
      "source": [
        "<font size=\"10\"> ROC curve </font>\n",
        "\n",
        "<img src=\"https://upload.wikimedia.org/wikipedia/commons/thumb/1/13/Roc_curve.svg/1280px-Roc_curve.svg.png\" width=\"40%\">\n",
        "\n",
        "*Agnostic to prevalance (skew factor)\n",
        "\n",
        "Image source: <a href=\"https://upload.wikimedia.org/wikipedia/commons/thumb/1/13/Roc_curve.svg/1280px-Roc_curve.svg.png\"> wikipedia </a>"
      ]
    },
    {
      "cell_type": "markdown",
      "id": "f68db2ee",
      "metadata": {
        "id": "f68db2ee"
      },
      "source": [
        "<font size=\"10\"> ROC curve - not always easy to decide</font>\n",
        "\n",
        "<img src=\"https://upload.wikimedia.org/wikipedia/commons/6/6b/Roccurves.png\" width=\"40%\">\n",
        "\n",
        "Image source: <a href=\"https://upload.wikimedia.org/wikipedia/commons/6/6b/Roccurves.png\"> wikipedia </a>"
      ]
    },
    {
      "cell_type": "markdown",
      "id": "f5a254b1",
      "metadata": {
        "id": "f5a254b1"
      },
      "source": [
        "<font size=\"10\"> Area under the Curve (AUC) </font>\n",
        "\n",
        "<span> <img src=\"https://inf.ufsc.br/~jonata.tyska/lectureImages/auc.png\" width=\"35%\"> </span>\n",
        "\n",
        "Summarizes the ROC Curve to a scalar number going from 0 (if the classifier is worse than random guess, which is very unlikely, so usually it starts from 0.5) and 1.\n",
        "\n",
        "\n",
        "Image source: <a href=\"https://evispot.ai/area-under-the-roc-curve-auc/\"> evispot.ai </a>"
      ]
    },
    {
      "cell_type": "code",
      "execution_count": null,
      "id": "4f063da8",
      "metadata": {
        "id": "4f063da8"
      },
      "outputs": [],
      "source": [
        "### example of ROC AUC\n",
        "def plot_roc_curve(fper, tper):  \n",
        "    plt.plot(fper, tper, color='orange', label='ROC')\n",
        "    plt.plot([0, 1], [0, 1], color='darkblue', linestyle='--')\n",
        "    plt.xlabel('False Positive Rate')\n",
        "    plt.ylabel('True Positive Rate')\n",
        "    plt.title('Receiver Operating Characteristic (ROC) Curve')\n",
        "    plt.legend()\n",
        "    plt.show()\n",
        "\n",
        "from sklearn.datasets import make_classification  \n",
        "from sklearn.metrics import roc_curve \n",
        "\n",
        "X, y = make_classification(n_samples=1100, n_classes=2, weights=[1,1], random_state=1)  \n",
        "X_train, X_test, y_train, y_test = train_test_split(X, y, test_size=0.3, random_state=1)"
      ]
    },
    {
      "cell_type": "code",
      "execution_count": null,
      "id": "35ca8370",
      "metadata": {
        "id": "35ca8370",
        "outputId": "1fe46bc3-2ebb-49df-8e68-e242c27f07db"
      },
      "outputs": [
        {
          "data": {
            "image/png": "[encoded data removed]",
            "text/plain": [
              "<Figure size 432x288 with 1 Axes>"
            ]
          },
          "metadata": {
            "needs_background": "light"
          },
          "output_type": "display_data"
        }
      ],
      "source": [
        "from sklearn.ensemble import RandomForestClassifier  \n",
        "model = RandomForestClassifier()  \n",
        "model.fit(X_train, y_train)\n",
        "probs = model.predict_proba(X_test)  \n",
        "probs = probs[:, 1]  \n",
        "fper, tper, thresholds = roc_curve(y_test, probs) \n",
        "plot_roc_curve(fper, tper)"
      ]
    },
    {
      "cell_type": "code",
      "execution_count": null,
      "id": "fc788c5f",
      "metadata": {
        "id": "fc788c5f",
        "outputId": "8d066d81-4bc4-4dc6-b120-806d0ab32c38"
      },
      "outputs": [
        {
          "name": "stdout",
          "output_type": "stream",
          "text": [
            "AUC ROC = 0.9886113699906802\n"
          ]
        }
      ],
      "source": [
        "from sklearn.metrics import roc_auc_score\n",
        "print(f\"AUC ROC = {roc_auc_score(y_test, probs)}\")"
      ]
    },
    {
      "cell_type": "code",
      "execution_count": null,
      "id": "5d45d231",
      "metadata": {
        "id": "5d45d231",
        "outputId": "3a7e143f-78ba-422d-e4ea-277e44824e7f"
      },
      "outputs": [
        {
          "data": {
            "image/png": "[encoded data removed]",
            "text/plain": [
              "<Figure size 432x288 with 1 Axes>"
            ]
          },
          "metadata": {
            "needs_background": "light"
          },
          "output_type": "display_data"
        }
      ],
      "source": [
        "from sklearn import datasets, metrics, model_selection, svm\n",
        "X, y = datasets.make_classification(random_state=0)\n",
        "X_train, X_test, y_train, y_test = model_selection.train_test_split(X, y, random_state=0)\n",
        "clf = svm.SVC(random_state=0)\n",
        "clf.fit(X_train, y_train)\n",
        "\n",
        "metrics.plot_roc_curve(clf, X_test, y_test) \n",
        "\n",
        "plt.show()"
      ]
    },
    {
      "cell_type": "markdown",
      "id": "339aa6c1",
      "metadata": {
        "id": "339aa6c1"
      },
      "source": [
        "<font size=\"10\"> Precision-Recall (PR) Curve</font>\n",
        "\n",
        "<img src=\"https://inf.ufsc.br/~jonata.tyska/lectureImages/pr_curve.png\" width=\"50%\">\n",
        "\n",
        "Tan, P. N., Steinbach, M., & Kumar, V. (2016). Introduction to data mining. Pearson Education India. \n"
      ]
    },
    {
      "cell_type": "markdown",
      "id": "0ead4208",
      "metadata": {
        "id": "0ead4208"
      },
      "source": [
        "<font size=\"10\"> Precision-Recall (PR) Curve</font>\n",
        "\n",
        "<img src=\"https://inf.ufsc.br/~jonata.tyska/lectureImages/pr_curve.png\" width=\"25%\">\n",
        "\n",
        "- affected by class imbalance (prevalence)\n",
        "\n",
        "- AUC PR is also called Average Precision.\n",
        "\n",
        "- AP and mAP are very common metrics for object detection\n",
        "\n",
        "Tan, P. N., Steinbach, M., & Kumar, V. (2016). Introduction to data mining. Pearson Education India. \n"
      ]
    },
    {
      "cell_type": "code",
      "execution_count": null,
      "id": "68455e81",
      "metadata": {
        "id": "68455e81",
        "outputId": "e681ba63-62c2-4ab0-d07c-6ed765ca4ae2"
      },
      "outputs": [
        {
          "name": "stdout",
          "output_type": "stream",
          "text": [
            "AUC PR=0.9869574297652314\n"
          ]
        },
        {
          "data": {
            "image/png": "[encoded data removed]",
            "text/plain": [
              "<Figure size 432x288 with 1 Axes>"
            ]
          },
          "metadata": {
            "needs_background": "light"
          },
          "output_type": "display_data"
        }
      ],
      "source": [
        "from sklearn.metrics import precision_recall_curve, auc\n",
        "\n",
        "X, y = make_classification(n_samples=1100, n_classes=2, weights=[1,1], random_state=1)  \n",
        "X_train, X_test, y_train, y_test = train_test_split(X, y, test_size=0.3, random_state=1)\n",
        "\n",
        "from sklearn.ensemble import RandomForestClassifier  \n",
        "model = RandomForestClassifier()  \n",
        "model.fit(X_train, y_train)\n",
        "probs = model.predict_proba(X_test)  \n",
        "probs = probs[:, 1]  \n",
        "\n",
        "precision, recall, thresholds = precision_recall_curve(y_test, probs)\n",
        "ax = sns.lineplot(recall, precision)\n",
        "_ = ax.set_xlabel(\"Recall\")\n",
        "_ = ax.set_ylabel(\"Precision\")\n",
        "print(f'AUC PR={auc(recall, precision)}')"
      ]
    },
    {
      "cell_type": "markdown",
      "id": "75703eb7",
      "metadata": {
        "id": "75703eb7"
      },
      "source": [
        "<font size=\"10\"> Evaluation metrics for regression </font>\n",
        "\n",
        "- Mean Squared Error (MSE)\n",
        "- Mean Absolute Error (MAE)\n",
        "- Root Mean Squared Error (RMSE)\n",
        "- R² (Coefficient of determination)\n",
        "- Mean Absolute Percentage Error (MAPE)\n",
        "\n",
        "See the detailed equations and examples <a href=\"https://www.analyticsvidhya.com/blog/2022/01/evaluation-metrics-with-python-codes/\" target=\"_blank\"> here </a>"
      ]
    },
    {
      "cell_type": "markdown",
      "id": "4e39ddd7",
      "metadata": {
        "id": "4e39ddd7"
      },
      "source": [
        "<font size=\"10\"> Bibliography for this lecture </font>\n",
        "\n",
        "Tan, P. N., Steinbach, M., & Kumar, V. (2016). Introduction to data mining. Pearson Education India. \n",
        "\n",
        "Ng, A. (2019). Machine learning yearning: Technical strategy for ai engineers in the era of deep learning. Retrieved online at https://www.mlyearning.org.\n",
        "\n"
      ]
    },
    {
      "cell_type": "markdown",
      "id": "66544744",
      "metadata": {
        "id": "66544744"
      },
      "source": [
        "Examples (partially) extracted from:\n",
        "\n",
        "https://www.codespeedy.com/how-to-plot-roc-curve-using-sklearn-library-in-python/\n",
        "\n",
        "https://stackabuse.com/introduction-to-neural-networks-with-scikit-learn/\n",
        "\n",
        "https://scikit-learn.org/stable/modules/generated/sklearn.metrics.precision_recall_curve.html\n",
        "\n",
        "https://scikit-learn.org/stable/modules/generated/sklearn.metrics.plot_roc_curve.html\n",
        "\n",
        "https://stackoverflow.com/questions/29656550/how-to-plot-pr-curve-over-10-folds-of-cross-validation-in-scikit-learn"
      ]
    }
  ],
  "metadata": {
    "celltoolbar": "Slideshow",
    "kernelspec": {
      "display_name": "Python 3",
      "language": "python",
      "name": "python3"
    },
    "language_info": {
      "codemirror_mode": {
        "name": "ipython",
        "version": 3
      },
      "file_extension": ".py",
      "mimetype": "text/x-python",
      "name": "python",
      "nbconvert_exporter": "python",
      "pygments_lexer": "ipython3",
      "version": "3.8.8"
    },
    "colab": {
      "provenance": [],
      "include_colab_link": true
    }
  },
  "nbformat": 4,
  "nbformat_minor": 5
}