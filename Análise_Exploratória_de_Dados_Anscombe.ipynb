{
  "nbformat": 4,
  "nbformat_minor": 0,
  "metadata": {
    "colab": {
      "provenance": []
    },
    "kernelspec": {
      "name": "python3",
      "display_name": "Python 3"
    }
  },
  "cells": [
    {
      "cell_type": "markdown",
      "metadata": {
        "id": "8f8QoUKMjBeQ"
      },
      "source": [
        "#Anscombe's Quartet (Quarteto de Anscombe)\n",
        "Notebook obtido em: https://github.com/psychemedia/ou-tm351/tree/master/notebooks-RFC\n",
        "traduzido e adaptado para a aula de Análise Exploratória de Dados da disciplina Data Mining INE5644 \n",
        "\n",
        "Prof. Dr. Jônata Tyska Carvalho - INE / CTC / UFSC "
      ]
    },
    {
      "cell_type": "markdown",
      "metadata": {
        "id": "o3MA5xAbjBeS"
      },
      "source": [
        "No artigo, *Graphs in Statistical Analysis*, publicado em 73 na revista científica *The American Statistician*, Vol. 27, No. 1. (Feb., 1973), pp. 17-21, o estatístico Francis Anscombe forneceu o mais breve dos resumos: *\"Gráficos são essenciais para uma boa análise estatística\"*.\n",
        "\n",
        "Seu artigo iniciou uma breve reflexão sobre *a utilidade dos gráficos*:"
      ]
    },
    {
      "cell_type": "markdown",
      "metadata": {
        "id": "iNULtSIdjBeU"
      },
      "source": [
        "<em>A maioria dos livros texto em métodos estatísticos, e a maioria dos programas de estatística, prestam pouca atenção à visualização. Poucos estatísticos escapam não doutrinados a respeito de algumas noções:\n",
        "\n",
        "\n",
        "1. cálculos numéricos são exatos, mas gráficos são imprecisos; \n",
        "2. para qualquer tipo de dado estatístico existe um conjunto de cálculos que constitutem a correta análise estatística; \n",
        "3. realizar cálculos complexos é virtuoso, enquanto simplesmente visualizar os dados é enganador. \n",
        "</em>\n",
        "Um computador deve fazer ambos cálculos e visualizações gráficas. Ambos devem ser estudados, cada um fornecendo sua contribuição para o entendimento dos dados. \n",
        "\n",
        "Gráficos podem ter vários propósitos, como: (i) nos ajudar a perceber de forma mais ampla certas características dos dados, (ii) nos permite investigar melhor tais características e descobrir mais a respeito delas. A maior parte dos cálculos estatísticos se baseiam em premissas a respeito do comportamento dos dados. Essas premissas podem ser falsa, e então os cálculos podem ser enganadores. Temos sempre que testar se as premissão são razoavelmente corretas, e se elas forem equivocadas temos que tentar perceber de forma elas estão erradas. Gráficos são muito importantes para estes fins.\n",
        "purposes.\n",
        "\n",
        "Uma boa análise estatística não é puramente uma questão de rotina, e geralmente requer mais do que uma passagem dos dados pelo computador. A análise deve ser sensível tanto a característica peculiares nos dados e também a qualquer informação de pano de fundo (background) disponível a respeito das variáveis. As informações de *background* são particularmente úteis para descobrir formas alternativas de realizar análises. Pensamento e engenhosidade dedicados a inventar boas formas de visualizar os dados costumam valer a pena. Muitas ideias podem ser buscadas na literatura.\n"
      ]
    },
    {
      "cell_type": "markdown",
      "metadata": {
        "id": "R3OpJO3qjBeW"
      },
      "source": [
        "Para ilustrar o seu \"chamado para a batalha (*call to arms)*\" Anscombe gerou um conjunto de 4 conjuntos de dados pareados simples (conjuntos I, II, II, IV abaixo com cada um dos valores de *x* e *y*) com o objetivo de demonstrar a utilidade da visualização gráfica."
      ]
    },
    {
      "cell_type": "code",
      "metadata": {
        "id": "niB9frlBjBeY"
      },
      "source": [
        "import pandas as pd"
      ],
      "execution_count": null,
      "outputs": []
    },
    {
      "cell_type": "markdown",
      "metadata": {
        "id": "d0xQpW9BjBek"
      },
      "source": [
        "Carregamento dos dados do Anscome's quartet para um dataframe hierarquicamente indexado."
      ]
    },
    {
      "cell_type": "code",
      "metadata": {
        "id": "vJFjYhW_jBen",
        "colab": {
          "base_uri": "https://localhost:8080/",
          "height": 421
        },
        "outputId": "98621f80-a7b5-4160-dd9e-474da12fd02b"
      },
      "source": [
        "import sys\n",
        "if sys.version_info[0] < 3: \n",
        "    from StringIO import StringIO\n",
        "else:\n",
        "    from io import StringIO\n",
        "\n",
        "data = StringIO(\"\"\"group,I,I,II,II,III,III,IV,IV\n",
        "var,x,y,x,y,x,y,x,y\n",
        ",,,,,,,\n",
        "0,10.0,8.04,10.0,9.14,10.0,7.46,8.0,6.58\n",
        "1,8.0,6.95,8.0,8.14,8.0,6.77,8.0,5.76\n",
        "2,13.0,7.58,13.0,8.74,13.0,12.74,8.0,7.71\n",
        "3,9.0,8.81,9.0,8.77,9.0,7.11,8.0,8.84\n",
        "4,11.0,8.33,11.0,9.26,11.0,7.81,8.0,8.47\n",
        "5,14.0,9.96,14.0,8.10,14.0,8.84,8.0,7.04\n",
        "6,6.0,7.24,6.0,6.13,6.0,6.08,8.0,5.25\n",
        "7,4.0,4.26,4.0,3.10,4.0,5.39,19.0,12.50\n",
        "8,12.0,10.84,12.0,9.13,12.0,8.15,8.0,5.56\n",
        "9,7.0,4.82,7.0,7.26,7.0,6.42,8.0,7.91\n",
        "10,5.0,5.68,5.0,4.74,5.0,5.73,8.0,6.89\"\"\")\n",
        "\n",
        "aq=pd.read_csv(data,header=[0,1],index_col=[0])\n",
        "aq"
      ],
      "execution_count": null,
      "outputs": [
        {
          "output_type": "execute_result",
          "data": {
            "text/html": [
              "<div>\n",
              "<style scoped>\n",
              "    .dataframe tbody tr th:only-of-type {\n",
              "        vertical-align: middle;\n",
              "    }\n",
              "\n",
              "    .dataframe tbody tr th {\n",
              "        vertical-align: top;\n",
              "    }\n",
              "\n",
              "    .dataframe thead tr th {\n",
              "        text-align: left;\n",
              "    }\n",
              "</style>\n",
              "<table border=\"1\" class=\"dataframe\">\n",
              "  <thead>\n",
              "    <tr>\n",
              "      <th>group</th>\n",
              "      <th colspan=\"2\" halign=\"left\">I</th>\n",
              "      <th colspan=\"2\" halign=\"left\">II</th>\n",
              "      <th colspan=\"2\" halign=\"left\">III</th>\n",
              "      <th colspan=\"2\" halign=\"left\">IV</th>\n",
              "    </tr>\n",
              "    <tr>\n",
              "      <th>var</th>\n",
              "      <th>x</th>\n",
              "      <th>y</th>\n",
              "      <th>x</th>\n",
              "      <th>y</th>\n",
              "      <th>x</th>\n",
              "      <th>y</th>\n",
              "      <th>x</th>\n",
              "      <th>y</th>\n",
              "    </tr>\n",
              "  </thead>\n",
              "  <tbody>\n",
              "    <tr>\n",
              "      <th>0</th>\n",
              "      <td>10.0</td>\n",
              "      <td>8.04</td>\n",
              "      <td>10.0</td>\n",
              "      <td>9.14</td>\n",
              "      <td>10.0</td>\n",
              "      <td>7.46</td>\n",
              "      <td>8.0</td>\n",
              "      <td>6.58</td>\n",
              "    </tr>\n",
              "    <tr>\n",
              "      <th>1</th>\n",
              "      <td>8.0</td>\n",
              "      <td>6.95</td>\n",
              "      <td>8.0</td>\n",
              "      <td>8.14</td>\n",
              "      <td>8.0</td>\n",
              "      <td>6.77</td>\n",
              "      <td>8.0</td>\n",
              "      <td>5.76</td>\n",
              "    </tr>\n",
              "    <tr>\n",
              "      <th>2</th>\n",
              "      <td>13.0</td>\n",
              "      <td>7.58</td>\n",
              "      <td>13.0</td>\n",
              "      <td>8.74</td>\n",
              "      <td>13.0</td>\n",
              "      <td>12.74</td>\n",
              "      <td>8.0</td>\n",
              "      <td>7.71</td>\n",
              "    </tr>\n",
              "    <tr>\n",
              "      <th>3</th>\n",
              "      <td>9.0</td>\n",
              "      <td>8.81</td>\n",
              "      <td>9.0</td>\n",
              "      <td>8.77</td>\n",
              "      <td>9.0</td>\n",
              "      <td>7.11</td>\n",
              "      <td>8.0</td>\n",
              "      <td>8.84</td>\n",
              "    </tr>\n",
              "    <tr>\n",
              "      <th>4</th>\n",
              "      <td>11.0</td>\n",
              "      <td>8.33</td>\n",
              "      <td>11.0</td>\n",
              "      <td>9.26</td>\n",
              "      <td>11.0</td>\n",
              "      <td>7.81</td>\n",
              "      <td>8.0</td>\n",
              "      <td>8.47</td>\n",
              "    </tr>\n",
              "    <tr>\n",
              "      <th>5</th>\n",
              "      <td>14.0</td>\n",
              "      <td>9.96</td>\n",
              "      <td>14.0</td>\n",
              "      <td>8.10</td>\n",
              "      <td>14.0</td>\n",
              "      <td>8.84</td>\n",
              "      <td>8.0</td>\n",
              "      <td>7.04</td>\n",
              "    </tr>\n",
              "    <tr>\n",
              "      <th>6</th>\n",
              "      <td>6.0</td>\n",
              "      <td>7.24</td>\n",
              "      <td>6.0</td>\n",
              "      <td>6.13</td>\n",
              "      <td>6.0</td>\n",
              "      <td>6.08</td>\n",
              "      <td>8.0</td>\n",
              "      <td>5.25</td>\n",
              "    </tr>\n",
              "    <tr>\n",
              "      <th>7</th>\n",
              "      <td>4.0</td>\n",
              "      <td>4.26</td>\n",
              "      <td>4.0</td>\n",
              "      <td>3.10</td>\n",
              "      <td>4.0</td>\n",
              "      <td>5.39</td>\n",
              "      <td>19.0</td>\n",
              "      <td>12.50</td>\n",
              "    </tr>\n",
              "    <tr>\n",
              "      <th>8</th>\n",
              "      <td>12.0</td>\n",
              "      <td>10.84</td>\n",
              "      <td>12.0</td>\n",
              "      <td>9.13</td>\n",
              "      <td>12.0</td>\n",
              "      <td>8.15</td>\n",
              "      <td>8.0</td>\n",
              "      <td>5.56</td>\n",
              "    </tr>\n",
              "    <tr>\n",
              "      <th>9</th>\n",
              "      <td>7.0</td>\n",
              "      <td>4.82</td>\n",
              "      <td>7.0</td>\n",
              "      <td>7.26</td>\n",
              "      <td>7.0</td>\n",
              "      <td>6.42</td>\n",
              "      <td>8.0</td>\n",
              "      <td>7.91</td>\n",
              "    </tr>\n",
              "    <tr>\n",
              "      <th>10</th>\n",
              "      <td>5.0</td>\n",
              "      <td>5.68</td>\n",
              "      <td>5.0</td>\n",
              "      <td>4.74</td>\n",
              "      <td>5.0</td>\n",
              "      <td>5.73</td>\n",
              "      <td>8.0</td>\n",
              "      <td>6.89</td>\n",
              "    </tr>\n",
              "  </tbody>\n",
              "</table>\n",
              "</div>"
            ],
            "text/plain": [
              "group     I           II         III           IV       \n",
              "var       x      y     x     y     x      y     x      y\n",
              "0      10.0   8.04  10.0  9.14  10.0   7.46   8.0   6.58\n",
              "1       8.0   6.95   8.0  8.14   8.0   6.77   8.0   5.76\n",
              "2      13.0   7.58  13.0  8.74  13.0  12.74   8.0   7.71\n",
              "3       9.0   8.81   9.0  8.77   9.0   7.11   8.0   8.84\n",
              "4      11.0   8.33  11.0  9.26  11.0   7.81   8.0   8.47\n",
              "5      14.0   9.96  14.0  8.10  14.0   8.84   8.0   7.04\n",
              "6       6.0   7.24   6.0  6.13   6.0   6.08   8.0   5.25\n",
              "7       4.0   4.26   4.0  3.10   4.0   5.39  19.0  12.50\n",
              "8      12.0  10.84  12.0  9.13  12.0   8.15   8.0   5.56\n",
              "9       7.0   4.82   7.0  7.26   7.0   6.42   8.0   7.91\n",
              "10      5.0   5.68   5.0  4.74   5.0   5.73   8.0   6.89"
            ]
          },
          "metadata": {
            "tags": []
          },
          "execution_count": 2
        }
      ]
    },
    {
      "cell_type": "markdown",
      "metadata": {
        "id": "RwHr0JsijBeu"
      },
      "source": [
        "A sumarização estatística das propriedades dos conjuntos I e IV praticamente não variam. As médias são idênticas para *x* e *y* entre todos os grupos, e as variâncias são indistinguíveis em qualquer sentido. "
      ]
    },
    {
      "cell_type": "code",
      "metadata": {
        "id": "IL5VlEXcjBew",
        "colab": {
          "base_uri": "https://localhost:8080/",
          "height": 187
        },
        "outputId": "352e1579-064c-4524-a60a-3037d9c7176e"
      },
      "source": [
        "aq.mean()"
      ],
      "execution_count": null,
      "outputs": [
        {
          "output_type": "execute_result",
          "data": {
            "text/plain": [
              "group  var\n",
              "I      x      9.000000\n",
              "       y      7.500909\n",
              "II     x      9.000000\n",
              "       y      7.500909\n",
              "III    x      9.000000\n",
              "       y      7.500000\n",
              "IV     x      9.000000\n",
              "       y      7.500909\n",
              "dtype: float64"
            ]
          },
          "metadata": {
            "tags": []
          },
          "execution_count": 3
        }
      ]
    },
    {
      "cell_type": "code",
      "metadata": {
        "id": "fHq1tNOajBe4",
        "colab": {
          "base_uri": "https://localhost:8080/",
          "height": 187
        },
        "outputId": "a2b213ab-9b5e-4103-816f-9399daab25ad"
      },
      "source": [
        "aq.var()"
      ],
      "execution_count": null,
      "outputs": [
        {
          "output_type": "execute_result",
          "data": {
            "text/plain": [
              "group  var\n",
              "I      x      11.000000\n",
              "       y       4.127269\n",
              "II     x      11.000000\n",
              "       y       4.127629\n",
              "III    x      11.000000\n",
              "       y       4.122620\n",
              "IV     x      11.000000\n",
              "       y       4.123249\n",
              "dtype: float64"
            ]
          },
          "metadata": {
            "tags": []
          },
          "execution_count": 4
        }
      ]
    },
    {
      "cell_type": "markdown",
      "metadata": {
        "id": "wVX2GljWjBfA"
      },
      "source": [
        "Outras estatísticas como linhas de regressão apresentam as mesmas características.\n",
        "\n",
        "Então do ponto de vista da sumarização estatística, nós concluímos que os conjuntos de dados são iguais para todos os propósitos e efeitos."
      ]
    },
    {
      "cell_type": "markdown",
      "metadata": {
        "id": "UZicDKUJjBfB"
      },
      "source": [
        "Mas e se visualizarmos os dados?\n",
        "\n",
        "A forma mais natural de olhar para os dados é usar um gráfico de dispersão \"scatterplot\", com o valores de *x* apresentandos ao longo do eixo horizontal e os valores de *y* apresentados ao longo do eixo vertical. Os pontos são mostrados em figuras diferentes para cada um dos grupos. \n"
      ]
    },
    {
      "cell_type": "markdown",
      "metadata": {
        "id": "aWHlCHNnjBfu"
      },
      "source": [
        "##Visualizando o Anscombe's Quartet usando matplotlib\n",
        "código obtido em https://matplotlib.org/3.2.2/gallery/specialty_plots/anscombe.html\n",
        "\n",
        "Agora nós podemos finalmente ver o quão distintos são os conjuntos de dados, cada um contando suas próprias histórias, mas não histórias que nós conheceríamos se tivéssemos olhado apenas para as estatísticas sumarizadas. As linhas vermelhas são retas obtidas através da aplicação de um método de regressão linear."
      ]
    },
    {
      "cell_type": "code",
      "metadata": {
        "id": "5ziQYsSkjBgT",
        "colab": {
          "base_uri": "https://localhost:8080/",
          "height": 371
        },
        "outputId": "33ec72d3-042c-4d72-91a8-4a6455466546"
      },
      "source": [
        "import matplotlib.pyplot as plt\n",
        "import numpy as np\n",
        "\n",
        "x = [10, 8, 13, 9, 11, 14, 6, 4, 12, 7, 5]\n",
        "y1 = [8.04, 6.95, 7.58, 8.81, 8.33, 9.96, 7.24, 4.26, 10.84, 4.82, 5.68]\n",
        "y2 = [9.14, 8.14, 8.74, 8.77, 9.26, 8.10, 6.13, 3.10, 9.13, 7.26, 4.74]\n",
        "y3 = [7.46, 6.77, 12.74, 7.11, 7.81, 8.84, 6.08, 5.39, 8.15, 6.42, 5.73]\n",
        "x4 = [8, 8, 8, 8, 8, 8, 8, 19, 8, 8, 8]\n",
        "y4 = [6.58, 5.76, 7.71, 8.84, 8.47, 7.04, 5.25, 12.50, 5.56, 7.91, 6.89]\n",
        "\n",
        "datasets = {\n",
        "    'I': (x, y1),\n",
        "    'II': (x, y2),\n",
        "    'III': (x, y3),\n",
        "    'IV': (x4, y4)\n",
        "}\n",
        "\n",
        "fig, axs = plt.subplots(2, 2, sharex=True, sharey=True, figsize=(6, 6),\n",
        "                        gridspec_kw={'wspace': 0.08, 'hspace': 0.08})\n",
        "axs[0, 0].set(xlim=(0, 20), ylim=(2, 14))\n",
        "axs[0, 0].set(xticks=(0, 10, 20), yticks=(4, 8, 12))\n",
        "\n",
        "for ax, (label, (x, y)) in zip(axs.flat, datasets.items()):\n",
        "    ax.text(0.1, 0.9, label, fontsize=20, transform=ax.transAxes, va='top')\n",
        "    ax.tick_params(direction='in', top=True, right=True)\n",
        "    ax.plot(x, y, 'o')\n",
        "\n",
        "    # linear regression\n",
        "    p1, p0 = np.polyfit(x, y, deg=1)\n",
        "    x_lin = np.array([np.min(x), np.max(x)])\n",
        "    y_lin = p1 * x_lin + p0\n",
        "    ax.plot(x_lin, y_lin, 'r-', lw=2)\n",
        "\n",
        "    # add text box for the statistics\n",
        "    stats = (f'$\\\\mu$ = {np.mean(y):.2f}\\n'\n",
        "             f'$\\\\sigma$ = {np.std(y):.2f}\\n'\n",
        "             f'$r$ = {np.corrcoef(x, y)[0][1]:.2f}')\n",
        "    bbox = dict(boxstyle='round', fc='blanchedalmond', ec='orange', alpha=0.5)\n",
        "    ax.text(0.95, 0.07, stats, fontsize=9, bbox=bbox,\n",
        "            transform=ax.transAxes, horizontalalignment='right')\n",
        "\n",
        "plt.show()"
      ],
      "execution_count": null,
      "outputs": [
        {
          "output_type": "display_data",
          "data": {
            "image/png": "[encoded data removed]",
            "text/plain": [
              "<Figure size 432x432 with 4 Axes>"
            ]
          },
          "metadata": {
            "tags": [],
            "needs_background": "light"
          }
        }
      ]
    },
    {
      "cell_type": "markdown",
      "metadata": {
        "id": "nJzikoPYjBgl"
      },
      "source": [
        "##Summary"
      ]
    },
    {
      "cell_type": "markdown",
      "metadata": {
        "id": "_iVThkIijBgm"
      },
      "source": [
        "Apesar do Anscombe's quartet, apresentar pequenos conjuntos de dados ele oferece uma ótima lição. A sumarização estatística para *x* e *y* ao longo dos grupos pode ser a mesma, e uma olhada rápida nos dados brutos pode não ser muito informativo. Entretanto, quando visualizados, temos a certeza que cada grupo dos dados conta uma história diferente.\n"
      ]
    },
    {
      "cell_type": "markdown",
      "metadata": {
        "id": "jw_caoo7jBgw"
      },
      "source": [
        "Anscombe conclui o seu artigo da seguinte maneira:"
      ]
    },
    {
      "cell_type": "markdown",
      "metadata": {
        "id": "exnoVuaxjBgy"
      },
      "source": [
        "<blockquote>Graphical output such as described above is readily available to anyone who does his own programming. I myself habitually generate such plots at an APL terminal, and have come to appreciate their importance. A skilled Fortran or PL/1 programmer, with an organized library of subroutines, can do the same (on a larger scale). Unfortunately, most persons who have recourse to a computer for statistical analysis of data are not much interested either in computer programming or in statistical method, being primarily concerned with their own proper business. Hence the common use of library programs and various statistical packages. Most of these originated in the pre-visual era. The user is not showered with graphical displays. He can get them only with trouble, cunning and a fighting spirit. It's time that was changed.</blockquote>"
      ]
    },
    {
      "cell_type": "markdown",
      "metadata": {
        "id": "ByLOz5dSjBg1"
      },
      "source": [
        "Parte deste material foi traduzido e adaptado a partir do notebook de Tony Hirst.\n",
        "\n",
        "**DO NOT REMOVE THIS NOTICE/CELL FROM THIS IPYTHON NOTEBOOK**\n",
        "\n",
        "**This notebook was prepared for use in a course on data analysis and data management due to be released by The Open University in October 2015 and is made available *AS IS, and IN DRAFT FORM ONLY*. It may be used *for educational purposes only*.**\n",
        "\n",
        "----"
      ]
    },
    {
      "cell_type": "markdown",
      "metadata": {
        "id": "3WwBzDMdjBg4"
      },
      "source": [
        "*Comments to: tony.hirst@open.ac.uk*"
      ]
    }
  ]
}