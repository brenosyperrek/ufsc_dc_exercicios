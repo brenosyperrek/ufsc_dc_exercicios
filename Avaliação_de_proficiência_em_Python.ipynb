{
  "nbformat": 4,
  "nbformat_minor": 0,
  "metadata": {
    "colab": {
      "provenance": [],
      "collapsed_sections": []
    },
    "kernelspec": {
      "name": "python3",
      "display_name": "Python 3"
    },
    "language_info": {
      "name": "python"
    }
  },
  "cells": [
    {
      "cell_type": "markdown",
      "source": [
        "# Atividades de Python: Teste seus conhecimentos"
      ],
      "metadata": {
        "id": "fFHa9KfconkL"
      }
    },
    {
      "cell_type": "markdown",
      "source": [
        "1. Crie a classe Televisao com os atributos ligada (inicializado com valor False) e canal (inicializado com valor  2).\n"
      ],
      "metadata": {
        "id": "LA67kk8yphRT"
      }
    },
    {
      "cell_type": "code",
      "source": [],
      "metadata": {
        "id": "fq2EQIFSpkTq"
      },
      "execution_count": null,
      "outputs": []
    },
    {
      "cell_type": "markdown",
      "source": [
        "2. Adicione os atributos tamanho e marca à classe Televisao. Crie dois objetos Televisao e atribua tamanhos e marcas diferentes. Depois, imprima o valor desses atributos de forma a confirmar independência dos valores de cada instância (objeto).\n"
      ],
      "metadata": {
        "id": "Wat_VuQ6pmHO"
      }
    },
    {
      "cell_type": "code",
      "source": [],
      "metadata": {
        "id": "wZRqX24vpqky"
      },
      "execution_count": null,
      "outputs": []
    },
    {
      "cell_type": "markdown",
      "source": [
        "3. Adicione dois novos métodos muda_canal_para_cima e muda_canal_para_baixo. Atualmente, a classe Televisao inicializa o canal com 2. Modifique a classe televisao de forma a receber o canal inicial em seu construtor."
      ],
      "metadata": {
        "id": "rN27bboepyy8"
      }
    },
    {
      "cell_type": "code",
      "source": [],
      "metadata": {
        "id": "OrB1Wk-CpzWS"
      },
      "execution_count": null,
      "outputs": []
    },
    {
      "cell_type": "markdown",
      "source": [
        "4. Adicione mais dois atributos canal_minimo (valor padrão 1) e canal_maximo (valor padrão 99) e modifique a classe Televisao de forma que, se pedirmos para mudar o canal para baixo, além do mínimo, ela vá para o canal máximo. Se mudarmos para cima, além do canal máximo, que volte ao canal mínimo. "
      ],
      "metadata": {
        "id": "0z0UYLj8p0bS"
      }
    },
    {
      "cell_type": "code",
      "source": [],
      "metadata": {
        "id": "Zlw5cGHzp1FX"
      },
      "execution_count": null,
      "outputs": []
    },
    {
      "cell_type": "markdown",
      "source": [
        "5. Modifique o construtor da classe Televisao de forma que canal_minimo e canal_maximo seja parametros opcionais valendo respectivamente 2 e 14."
      ],
      "metadata": {
        "id": "VHRP1vnjp1kC"
      }
    },
    {
      "cell_type": "code",
      "source": [],
      "metadata": {
        "id": "V5xYS08wp2JQ"
      },
      "execution_count": null,
      "outputs": []
    },
    {
      "cell_type": "markdown",
      "source": [
        "6. Crie as classes necessárias para um sistema de gerenciamento de uma biblioteca. Os bibliotecários deverão preencher o sistema com o título do livro, os autores, o ano, a editora, a edição e o volume. A biblioteca também terá um sistema de pesquisa (outro software), portanto será necessário conseguir acessar os atributos típicos de pesquisa (nome, autor, …)."
      ],
      "metadata": {
        "id": "6u2ZZi5Sr0HW"
      }
    },
    {
      "cell_type": "code",
      "source": [],
      "metadata": {
        "id": "8VvKgoYQrvfL"
      },
      "execution_count": null,
      "outputs": []
    },
    {
      "cell_type": "markdown",
      "source": [
        "7. Faça um programa que leia um número indeterminado de valores, correspondentes a notas, encerrando a entrada de dados quando for informado um valor igual a -1 (que não deve ser armazenado). Após esta entrada de dados, faça:\n",
        "\n",
        "  a) Mostre a quantidade de valores que foram lidos;\n",
        "Exiba todos os valores na ordem em que foram informados, um ao lado do outro;\n",
        "\n",
        "  b) Exiba todos os valores na ordem inversa à que foram informados, um abaixo do outro;\n",
        "\n",
        "  c) Calcule e mostre a soma dos valores;\n",
        "\n",
        "  d) Calcule e mostre a média dos valores;\n",
        "\n",
        "  e) Calcule e mostre a quantidade de valores acima da média calculada;\n",
        "\n",
        "  f) Calcule e mostre a quantidade de valores abaixo de sete;\n",
        "\n",
        "  g) Encerre o programa com uma mensagem;\n"
      ],
      "metadata": {
        "id": "lWurQe5PsT4P"
      }
    },
    {
      "cell_type": "code",
      "source": [],
      "metadata": {
        "id": "9cwn_KgmsUmy"
      },
      "execution_count": null,
      "outputs": []
    },
    {
      "cell_type": "markdown",
      "source": [
        "8. Faça um Programa que leia dois vetores com 10 elementos cada. Gere um terceiro vetor de 20 elementos, cujos valores deverão ser compostos pelos elementos intercalados dos dois outros vetores."
      ],
      "metadata": {
        "id": "2KicUR1bsU-y"
      }
    },
    {
      "cell_type": "code",
      "source": [],
      "metadata": {
        "id": "C_Wjnh4vsVaS"
      },
      "execution_count": null,
      "outputs": []
    },
    {
      "cell_type": "markdown",
      "source": [
        "9. Escreva um programa que lê duas notas de vários alunos e armazena tais notas em um dicionário, onde a chave é o nome do aluno. A entrada de dados deve terminar quando for lida uma string vazia como nome. Escreva uma função que retorna a média do aluno, dado seu nome."
      ],
      "metadata": {
        "id": "VEZFySNrt2CX"
      }
    },
    {
      "cell_type": "code",
      "source": [],
      "metadata": {
        "id": "XEpi0XU6t4U5"
      },
      "execution_count": null,
      "outputs": []
    },
    {
      "cell_type": "markdown",
      "source": [
        "10. Escreva um programa para armazenar uma agenda de telefones usando um dicionário. Cada pessoa pode ter um ou mais telefones e a chave do dicionário é o nome completo da pessoa. Seu programa deve ter as seguintes funções:\n",
        "\n",
        "­a) incluir_novo_nome – essa função acrescenta um novo nome na agenda, com um ou mais telefones. Ela deve receber como argumentos o nome e os telefones.\n",
        "\n",
        "b) incluir_telefone – essa função acrescenta um telefone em um nome existente na agenda. Caso o nome não exista na agenda, você deve perguntar se a pessoa deseja incluí-­lo. Caso a resposta seja afirmativa, use a função anterior para incluir o novo nome.\n",
        " ­\n",
        "c) excluir_telefone – essa função exclui um telefone de uma pessoa que\n",
        "já está na agenda. Se a pessoa tiver apenas um telefone, ela deve ser excluída da agenda.\n",
        "\n",
        "d) excluir_nome – essa função exclui uma pessoa da agenda. \n",
        "\n",
        "e) consultar_telefone – essa função retorna os telefones de uma pessoa\n",
        "na agenda. \n"
      ],
      "metadata": {
        "id": "j3cl7QDft5at"
      }
    },
    {
      "cell_type": "code",
      "source": [],
      "metadata": {
        "id": "HbFDpZ4Euks0"
      },
      "execution_count": null,
      "outputs": []
    }
  ]
}